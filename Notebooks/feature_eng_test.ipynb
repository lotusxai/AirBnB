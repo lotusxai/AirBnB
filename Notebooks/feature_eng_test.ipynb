{
 "cells": [
  {
   "cell_type": "code",
   "execution_count": 2,
   "metadata": {},
   "outputs": [],
   "source": [
    "import h2o"
   ]
  },
  {
   "cell_type": "code",
   "execution_count": 4,
   "metadata": {},
   "outputs": [
    {
     "name": "stdout",
     "output_type": "stream",
     "text": [
      "Checking whether there is an H2O instance running at http://127.0.0.1:5151..... not found.\n",
      "Attempting to start a local H2O server...\n",
      "  Java Version: openjdk version \"1.8.0_191\"; OpenJDK Runtime Environment (build 1.8.0_191-b12); OpenJDK 64-Bit Server VM (build 25.191-b12, mixed mode)\n",
      "  Starting server from /home/scv/.local/lib/python3.7/site-packages/h2o/backend/bin/h2o.jar\n",
      "  Ice root: /tmp/tmpgdkdnlhj\n",
      "  JVM stdout: /tmp/tmpgdkdnlhj/h2o_CORP_scv_started_from_python.out\n",
      "  JVM stderr: /tmp/tmpgdkdnlhj/h2o_CORP_scv_started_from_python.err\n",
      "  Server is running at http://127.0.0.1:5151\n",
      "Connecting to H2O server at http://127.0.0.1:5151... successful.\n"
     ]
    },
    {
     "data": {
      "text/html": [
       "<div style=\"overflow:auto\"><table style=\"width:50%\"><tr><td>H2O cluster uptime:</td>\n",
       "<td>02 secs</td></tr>\n",
       "<tr><td>H2O cluster timezone:</td>\n",
       "<td>America/New_York</td></tr>\n",
       "<tr><td>H2O data parsing timezone:</td>\n",
       "<td>UTC</td></tr>\n",
       "<tr><td>H2O cluster version:</td>\n",
       "<td>3.22.1.3</td></tr>\n",
       "<tr><td>H2O cluster version age:</td>\n",
       "<td>14 days, 13 hours and 22 minutes </td></tr>\n",
       "<tr><td>H2O cluster name:</td>\n",
       "<td>H2O_from_python_CORP_scv_c1wnu6</td></tr>\n",
       "<tr><td>H2O cluster total nodes:</td>\n",
       "<td>1</td></tr>\n",
       "<tr><td>H2O cluster free memory:</td>\n",
       "<td>10.67 Gb</td></tr>\n",
       "<tr><td>H2O cluster total cores:</td>\n",
       "<td>4</td></tr>\n",
       "<tr><td>H2O cluster allowed cores:</td>\n",
       "<td>4</td></tr>\n",
       "<tr><td>H2O cluster status:</td>\n",
       "<td>accepting new members, healthy</td></tr>\n",
       "<tr><td>H2O connection url:</td>\n",
       "<td>http://127.0.0.1:5151</td></tr>\n",
       "<tr><td>H2O connection proxy:</td>\n",
       "<td>None</td></tr>\n",
       "<tr><td>H2O internal security:</td>\n",
       "<td>False</td></tr>\n",
       "<tr><td>H2O API Extensions:</td>\n",
       "<td>XGBoost, Algos, AutoML, Core V3, Core V4</td></tr>\n",
       "<tr><td>Python version:</td>\n",
       "<td>3.7.1 final</td></tr></table></div>"
      ],
      "text/plain": [
       "--------------------------  ----------------------------------------\n",
       "H2O cluster uptime:         02 secs\n",
       "H2O cluster timezone:       America/New_York\n",
       "H2O data parsing timezone:  UTC\n",
       "H2O cluster version:        3.22.1.3\n",
       "H2O cluster version age:    14 days, 13 hours and 22 minutes\n",
       "H2O cluster name:           H2O_from_python_CORP_scv_c1wnu6\n",
       "H2O cluster total nodes:    1\n",
       "H2O cluster free memory:    10.67 Gb\n",
       "H2O cluster total cores:    4\n",
       "H2O cluster allowed cores:  4\n",
       "H2O cluster status:         accepting new members, healthy\n",
       "H2O connection url:         http://127.0.0.1:5151\n",
       "H2O connection proxy:\n",
       "H2O internal security:      False\n",
       "H2O API Extensions:         XGBoost, Algos, AutoML, Core V3, Core V4\n",
       "Python version:             3.7.1 final\n",
       "--------------------------  ----------------------------------------"
      ]
     },
     "metadata": {},
     "output_type": "display_data"
    }
   ],
   "source": [
    "h2o.init(ip=\"127.0.0.1\" , port = 5151, max_mem_size=\"14g\")"
   ]
  },
  {
   "cell_type": "code",
   "execution_count": 243,
   "metadata": {},
   "outputs": [
    {
     "name": "stdout",
     "output_type": "stream",
     "text": [
      "Parse progress: |█████████████████████████████████████████████████████████| 100%\n"
     ]
    }
   ],
   "source": [
    "import pandas as pd\n",
    "data_path = \"https://s3.amazonaws.com/challengeprivate/TH_data_challenge.tsv\"\n",
    "#data = pd.read_csv(data_path ,delimiter='\\t',encoding='utf-8')\n",
    "data = h2o.import_file(data_path, destination_frame = \"airbnb_challenge_raw\")\n"
   ]
  },
  {
   "cell_type": "code",
   "execution_count": 244,
   "metadata": {},
   "outputs": [
    {
     "data": {
      "text/html": [
       "<table>\n",
       "<thead>\n",
       "<tr><th style=\"text-align: right;\">         ds</th><th style=\"text-align: right;\">  Counts</th></tr>\n",
       "</thead>\n",
       "<tbody>\n",
       "<tr><td style=\"text-align: right;\">1.41748e+12</td><td style=\"text-align: right;\">     515</td></tr>\n",
       "<tr><td style=\"text-align: right;\">1.41756e+12</td><td style=\"text-align: right;\">     575</td></tr>\n",
       "<tr><td style=\"text-align: right;\">1.41765e+12</td><td style=\"text-align: right;\">     612</td></tr>\n",
       "<tr><td style=\"text-align: right;\">1.41774e+12</td><td style=\"text-align: right;\">     612</td></tr>\n",
       "<tr><td style=\"text-align: right;\">1.41782e+12</td><td style=\"text-align: right;\">     646</td></tr>\n",
       "<tr><td style=\"text-align: right;\">1.41791e+12</td><td style=\"text-align: right;\">     615</td></tr>\n",
       "<tr><td style=\"text-align: right;\">1.418e+12  </td><td style=\"text-align: right;\">     614</td></tr>\n",
       "<tr><td style=\"text-align: right;\">1.41808e+12</td><td style=\"text-align: right;\">     645</td></tr>\n",
       "<tr><td style=\"text-align: right;\">1.41817e+12</td><td style=\"text-align: right;\">     645</td></tr>\n",
       "<tr><td style=\"text-align: right;\">1.41826e+12</td><td style=\"text-align: right;\">     619</td></tr>\n",
       "</tbody>\n",
       "</table>"
      ]
     },
     "metadata": {},
     "output_type": "display_data"
    },
    {
     "data": {
      "text/plain": []
     },
     "execution_count": 244,
     "metadata": {},
     "output_type": "execute_result"
    }
   ],
   "source": []
  },
  {
   "cell_type": "code",
   "execution_count": 217,
   "metadata": {},
   "outputs": [],
   "source": []
  },
  {
   "cell_type": "code",
   "execution_count": 231,
   "metadata": {},
   "outputs": [
    {
     "name": "stdout",
     "output_type": "stream",
     "text": [
      "Parse progress: |█████████████████████████████████████████████████████████| 100%\n"
     ]
    }
   ],
   "source": [
    "data[\"ds_conv\"]=data[\"ds_night\"]/1000\n",
    "time_df = data[\"ds_conv\"].as_data_frame()\n"
   ]
  },
  {
   "cell_type": "code",
   "execution_count": 245,
   "metadata": {},
   "outputs": [
    {
     "name": "stdout",
     "output_type": "stream",
     "text": [
      "Parse progress: |█████████████████████████████████████████████████████████| 100%\n"
     ]
    },
    {
     "data": {
      "text/html": [
       "<table>\n",
       "<thead>\n",
       "<tr><th>dim_is_requested  </th><th>ds_night           </th><th>ds                 </th><th>id_listing_anon                     </th><th>id_user_anon                        </th><th style=\"text-align: right;\">  m_effective_daily_price</th><th style=\"text-align: right;\">  m_pricing_cleaning_fee</th><th>dim_market  </th><th style=\"text-align: right;\">  dim_lat</th><th style=\"text-align: right;\">  dim_lng</th><th>dim_room_type  </th><th style=\"text-align: right;\">  dim_person_capacity</th><th>dim_is_instant_bookable  </th><th style=\"text-align: right;\">  m_checkouts</th><th style=\"text-align: right;\">  m_reviews</th><th style=\"text-align: right;\">  days_since_last_booking</th><th style=\"text-align: right;\">  cancel_policy</th><th style=\"text-align: right;\">  image_quality_score</th><th style=\"text-align: right;\">  m_total_overall_rating</th><th style=\"text-align: right;\">  m_professional_pictures</th><th style=\"text-align: right;\">  dim_has_wireless_internet</th><th style=\"text-align: right;\">  ds_night_day_of_week</th><th style=\"text-align: right;\">  ds_night_day_of_year</th><th style=\"text-align: right;\">  ds_checkin_gap</th><th style=\"text-align: right;\">  ds_checkout_gap</th><th style=\"text-align: right;\">  occ_occupancy_plus_minus_7_ds_night</th><th style=\"text-align: right;\">  occ_occupancy_plus_minus_14_ds_night</th><th style=\"text-align: right;\">  occ_occupancy_trailing_90_ds</th><th style=\"text-align: right;\">  m_minimum_nights</th><th style=\"text-align: right;\">  m_maximum_nights</th><th style=\"text-align: right;\">  price_booked_most_recent</th><th>p2_p3_click_through_score  </th><th>p3_inquiry_score  </th><th style=\"text-align: right;\">  listing_m_listing_views_2_6_ds_night_decay</th><th style=\"text-align: right;\">  general_market_m_unique_searchers_0_6_ds_night</th><th style=\"text-align: right;\">  general_market_m_contacts_0_6_ds_night</th><th style=\"text-align: right;\">  general_market_m_reservation_requests_0_6_ds_night</th><th style=\"text-align: right;\">  general_market_m_is_booked_0_6_ds_night</th><th style=\"text-align: right;\">  m_available_listings_ds_night</th><th style=\"text-align: right;\">  kdt_score</th><th style=\"text-align: right;\">  r_kdt_listing_views_0_6_avg_n100</th><th style=\"text-align: right;\">  r_kdt_n_active_n100</th><th style=\"text-align: right;\">  r_kdt_n_available_n100</th><th style=\"text-align: right;\">  r_kdt_m_effective_daily_price_n100_p50</th><th style=\"text-align: right;\">  r_kdt_m_effective_daily_price_available_n100_p50</th><th style=\"text-align: right;\">  r_kdt_m_effective_daily_price_booked_n100_p50</th><th style=\"text-align: right;\">  day</th><th style=\"text-align: right;\">  month</th><th style=\"text-align: right;\">  year</th></tr>\n",
       "</thead>\n",
       "<tbody>\n",
       "<tr><td>false             </td><td>2015-01-06 00:00:00</td><td>2014-12-07 00:00:00</td><td>0AE0C7CC-A8A4-425F-9CCC-8B25DBB94F4D</td><td>DCC74708-D5C4-47B2-BC0C-97BF5ABFCD99</td><td style=\"text-align: right;\">                  110    </td><td style=\"text-align: right;\">                      60</td><td>Los Angeles </td><td style=\"text-align: right;\">  34.0539</td><td style=\"text-align: right;\"> -118.363</td><td>Private room   </td><td style=\"text-align: right;\">                    2</td><td>false                    </td><td style=\"text-align: right;\">           24</td><td style=\"text-align: right;\">         19</td><td style=\"text-align: right;\">                      320</td><td style=\"text-align: right;\">              4</td><td style=\"text-align: right;\">             0.830959</td><td style=\"text-align: right;\">                      74</td><td style=\"text-align: right;\">                       16</td><td style=\"text-align: right;\">                          1</td><td style=\"text-align: right;\">                     2</td><td style=\"text-align: right;\">                     6</td><td style=\"text-align: right;\">               0</td><td style=\"text-align: right;\">                7</td><td style=\"text-align: right;\">                                  nan</td><td style=\"text-align: right;\">                           nan        </td><td style=\"text-align: right;\">                     0        </td><td style=\"text-align: right;\">                 5</td><td style=\"text-align: right;\">                90</td><td style=\"text-align: right;\">                        92</td><td>NULL                       </td><td>NULL              </td><td style=\"text-align: right;\">                                   0.133333 </td><td style=\"text-align: right;\">                                         788.143</td><td style=\"text-align: right;\">                                 241.429</td><td style=\"text-align: right;\">                                             41.4286</td><td style=\"text-align: right;\">                                        1</td><td style=\"text-align: right;\">                           9840</td><td style=\"text-align: right;\">   1.31429 </td><td style=\"text-align: right;\">                          1.79592 </td><td style=\"text-align: right;\">                   57</td><td style=\"text-align: right;\">                      48</td><td style=\"text-align: right;\">                                      79</td><td style=\"text-align: right;\">                                              75  </td><td style=\"text-align: right;\">                                           98  </td><td style=\"text-align: right;\">    6</td><td style=\"text-align: right;\">      1</td><td style=\"text-align: right;\">  2015</td></tr>\n",
       "<tr><td>true              </td><td>2015-01-21 00:00:00</td><td>2014-12-22 00:00:00</td><td>82FDDA07-6993-4CCA-8EE4-FC218D2C07C7</td><td>559D8981-0C75-4631-9582-A3B644BB5631</td><td style=\"text-align: right;\">                   70    </td><td style=\"text-align: right;\">                       0</td><td>Los Angeles </td><td style=\"text-align: right;\">  34.1086</td><td style=\"text-align: right;\"> -118.209</td><td>Private room   </td><td style=\"text-align: right;\">                    2</td><td>true                     </td><td style=\"text-align: right;\">          105</td><td style=\"text-align: right;\">         55</td><td style=\"text-align: right;\">                        3</td><td style=\"text-align: right;\">              3</td><td style=\"text-align: right;\">             0.967384</td><td style=\"text-align: right;\">                     263</td><td style=\"text-align: right;\">                        0</td><td style=\"text-align: right;\">                          1</td><td style=\"text-align: right;\">                     3</td><td style=\"text-align: right;\">                    21</td><td style=\"text-align: right;\">               7</td><td style=\"text-align: right;\">                7</td><td style=\"text-align: right;\">                                  nan</td><td style=\"text-align: right;\">                           nan        </td><td style=\"text-align: right;\">                     0.359551 </td><td style=\"text-align: right;\">                 1</td><td style=\"text-align: right;\">              1125</td><td style=\"text-align: right;\">                        70</td><td>NULL                       </td><td>NULL              </td><td style=\"text-align: right;\">                                   0.0666667</td><td style=\"text-align: right;\">                                         830.143</td><td style=\"text-align: right;\">                                 298    </td><td style=\"text-align: right;\">                                             51.7143</td><td style=\"text-align: right;\">                                        1</td><td style=\"text-align: right;\">                           9599</td><td style=\"text-align: right;\">   0.535714</td><td style=\"text-align: right;\">                          2.69388 </td><td style=\"text-align: right;\">                   49</td><td style=\"text-align: right;\">                      36</td><td style=\"text-align: right;\">                                      65</td><td style=\"text-align: right;\">                                              65  </td><td style=\"text-align: right;\">                                           42  </td><td style=\"text-align: right;\">   21</td><td style=\"text-align: right;\">      1</td><td style=\"text-align: right;\">  2015</td></tr>\n",
       "<tr><td>false             </td><td>2015-01-22 00:00:00</td><td>2014-12-23 00:00:00</td><td>69B2069D-CF8F-49A7-B559-9619DBE86A7D</td><td>EE7901A6-79D5-4D69-BACF-E4BCA976A66A</td><td style=\"text-align: right;\">                  125    </td><td style=\"text-align: right;\">                       0</td><td>Los Angeles </td><td style=\"text-align: right;\">  34.0772</td><td style=\"text-align: right;\"> -118.206</td><td>Private room   </td><td style=\"text-align: right;\">                    1</td><td>false                    </td><td style=\"text-align: right;\">            0</td><td style=\"text-align: right;\">          0</td><td style=\"text-align: right;\">                      nan</td><td style=\"text-align: right;\">              3</td><td style=\"text-align: right;\">             0.485231</td><td style=\"text-align: right;\">                       0</td><td style=\"text-align: right;\">                        0</td><td style=\"text-align: right;\">                          1</td><td style=\"text-align: right;\">                     4</td><td style=\"text-align: right;\">                    22</td><td style=\"text-align: right;\">               7</td><td style=\"text-align: right;\">                7</td><td style=\"text-align: right;\">                                  nan</td><td style=\"text-align: right;\">                           nan        </td><td style=\"text-align: right;\">                     0        </td><td style=\"text-align: right;\">                 1</td><td style=\"text-align: right;\">              1125</td><td style=\"text-align: right;\">                       nan</td><td>NULL                       </td><td>NULL              </td><td style=\"text-align: right;\">                                   0        </td><td style=\"text-align: right;\">                                         810.143</td><td style=\"text-align: right;\">                                 281    </td><td style=\"text-align: right;\">                                             51.7143</td><td style=\"text-align: right;\">                                        1</td><td style=\"text-align: right;\">                           9514</td><td style=\"text-align: right;\">   0.714286</td><td style=\"text-align: right;\">                          2.77551 </td><td style=\"text-align: right;\">                   49</td><td style=\"text-align: right;\">                      35</td><td style=\"text-align: right;\">                                      65</td><td style=\"text-align: right;\">                                              66.5</td><td style=\"text-align: right;\">                                           46  </td><td style=\"text-align: right;\">   22</td><td style=\"text-align: right;\">      1</td><td style=\"text-align: right;\">  2015</td></tr>\n",
       "<tr><td>true              </td><td>2015-02-02 00:00:00</td><td>2015-01-03 00:00:00</td><td>66BAADE6-9352-4D7C-B590-745899BD12B3</td><td>AF691F3D-525E-497C-B9C5-8750B097B04D</td><td style=\"text-align: right;\">                  126.867</td><td style=\"text-align: right;\">                     125</td><td>Los Angeles </td><td style=\"text-align: right;\">  34.0935</td><td style=\"text-align: right;\"> -118.247</td><td>Entire home/apt</td><td style=\"text-align: right;\">                    6</td><td>false                    </td><td style=\"text-align: right;\">            0</td><td style=\"text-align: right;\">          0</td><td style=\"text-align: right;\">                      nan</td><td style=\"text-align: right;\">              5</td><td style=\"text-align: right;\">             0.30931 </td><td style=\"text-align: right;\">                       0</td><td style=\"text-align: right;\">                        0</td><td style=\"text-align: right;\">                          1</td><td style=\"text-align: right;\">                     1</td><td style=\"text-align: right;\">                    33</td><td style=\"text-align: right;\">               7</td><td style=\"text-align: right;\">                7</td><td style=\"text-align: right;\">                                    0</td><td style=\"text-align: right;\">                             0        </td><td style=\"text-align: right;\">                     0        </td><td style=\"text-align: right;\">                 3</td><td style=\"text-align: right;\">              1125</td><td style=\"text-align: right;\">                       nan</td><td>NULL                       </td><td>NULL              </td><td style=\"text-align: right;\">                                   0.733333 </td><td style=\"text-align: right;\">                                         816.857</td><td style=\"text-align: right;\">                                 274.429</td><td style=\"text-align: right;\">                                             41.8571</td><td style=\"text-align: right;\">                                        1</td><td style=\"text-align: right;\">                           9739</td><td style=\"text-align: right;\">   1.74468 </td><td style=\"text-align: right;\">                          4.57653 </td><td style=\"text-align: right;\">                  113</td><td style=\"text-align: right;\">                      52</td><td style=\"text-align: right;\">                                     120</td><td style=\"text-align: right;\">                                             115  </td><td style=\"text-align: right;\">                                          115  </td><td style=\"text-align: right;\">    2</td><td style=\"text-align: right;\">      2</td><td style=\"text-align: right;\">  2015</td></tr>\n",
       "<tr><td>true              </td><td>2015-02-13 00:00:00</td><td>2015-01-14 00:00:00</td><td>01E3589E-A50A-494B-8CB2-9645B29476D0</td><td>6733A1D9-D485-4EA7-B8D2-883EE8A363B9</td><td style=\"text-align: right;\">                  210.714</td><td style=\"text-align: right;\">                     200</td><td>Los Angeles </td><td style=\"text-align: right;\">  34.0975</td><td style=\"text-align: right;\"> -118.364</td><td>Entire home/apt</td><td style=\"text-align: right;\">                    5</td><td>false                    </td><td style=\"text-align: right;\">            9</td><td style=\"text-align: right;\">          1</td><td style=\"text-align: right;\">                       34</td><td style=\"text-align: right;\">              5</td><td style=\"text-align: right;\">             0.335816</td><td style=\"text-align: right;\">                       5</td><td style=\"text-align: right;\">                        0</td><td style=\"text-align: right;\">                          1</td><td style=\"text-align: right;\">                     5</td><td style=\"text-align: right;\">                    44</td><td style=\"text-align: right;\">               7</td><td style=\"text-align: right;\">                7</td><td style=\"text-align: right;\">                                    0</td><td style=\"text-align: right;\">                             0        </td><td style=\"text-align: right;\">                     0.133333 </td><td style=\"text-align: right;\">                 2</td><td style=\"text-align: right;\">              1125</td><td style=\"text-align: right;\">                       296</td><td>NULL                       </td><td>NULL              </td><td style=\"text-align: right;\">                                   1        </td><td style=\"text-align: right;\">                                        1347.43 </td><td style=\"text-align: right;\">                                 419.429</td><td style=\"text-align: right;\">                                             78.8571</td><td style=\"text-align: right;\">                                        1</td><td style=\"text-align: right;\">                           9114</td><td style=\"text-align: right;\">   1.2     </td><td style=\"text-align: right;\">                          4.87755 </td><td style=\"text-align: right;\">                   97</td><td style=\"text-align: right;\">                      57</td><td style=\"text-align: right;\">                                     150</td><td style=\"text-align: right;\">                                             157.5</td><td style=\"text-align: right;\">                                          164.5</td><td style=\"text-align: right;\">   13</td><td style=\"text-align: right;\">      2</td><td style=\"text-align: right;\">  2015</td></tr>\n",
       "<tr><td>false             </td><td>2015-02-23 00:00:00</td><td>2015-01-24 00:00:00</td><td>B6222B7A-4D2D-4770-9B2F-9C2E711D953F</td><td>F61E18D6-5A67-43EC-9553-8BE04DD02B54</td><td style=\"text-align: right;\">                   36    </td><td style=\"text-align: right;\">                      35</td><td>Los Angeles </td><td style=\"text-align: right;\">  33.9901</td><td style=\"text-align: right;\"> -117.91 </td><td>Private room   </td><td style=\"text-align: right;\">                    3</td><td>false                    </td><td style=\"text-align: right;\">            6</td><td style=\"text-align: right;\">          2</td><td style=\"text-align: right;\">                       33</td><td style=\"text-align: right;\">              5</td><td style=\"text-align: right;\">             0.727793</td><td style=\"text-align: right;\">                       5</td><td style=\"text-align: right;\">                        0</td><td style=\"text-align: right;\">                          1</td><td style=\"text-align: right;\">                     1</td><td style=\"text-align: right;\">                    54</td><td style=\"text-align: right;\">               7</td><td style=\"text-align: right;\">                7</td><td style=\"text-align: right;\">                                    0</td><td style=\"text-align: right;\">                             0        </td><td style=\"text-align: right;\">                     0.457447 </td><td style=\"text-align: right;\">                 1</td><td style=\"text-align: right;\">              1125</td><td style=\"text-align: right;\">                        36</td><td>NULL                       </td><td>NULL              </td><td style=\"text-align: right;\">                                   0.0666667</td><td style=\"text-align: right;\">                                        1103.57 </td><td style=\"text-align: right;\">                                 384.571</td><td style=\"text-align: right;\">                                             58.8571</td><td style=\"text-align: right;\">                                        1</td><td style=\"text-align: right;\">                           9093</td><td style=\"text-align: right;\">   0.666667</td><td style=\"text-align: right;\">                          1.30612 </td><td style=\"text-align: right;\">                   84</td><td style=\"text-align: right;\">                      71</td><td style=\"text-align: right;\">                                      60</td><td style=\"text-align: right;\">                                              60  </td><td style=\"text-align: right;\">                                           40  </td><td style=\"text-align: right;\">   23</td><td style=\"text-align: right;\">      2</td><td style=\"text-align: right;\">  2015</td></tr>\n",
       "<tr><td>false             </td><td>2015-03-03 00:00:00</td><td>2015-02-01 00:00:00</td><td>63974898-6E06-4CA9-B6A1-D315D28E64AA</td><td>4D33F8F6-A185-4866-8233-6DEE13D699E7</td><td style=\"text-align: right;\">                  109    </td><td style=\"text-align: right;\">                       0</td><td>Los Angeles </td><td style=\"text-align: right;\">  34.0685</td><td style=\"text-align: right;\"> -118.347</td><td>Private room   </td><td style=\"text-align: right;\">                    2</td><td>false                    </td><td style=\"text-align: right;\">            0</td><td style=\"text-align: right;\">          0</td><td style=\"text-align: right;\">                      nan</td><td style=\"text-align: right;\">              3</td><td style=\"text-align: right;\">             0.069733</td><td style=\"text-align: right;\">                       0</td><td style=\"text-align: right;\">                        0</td><td style=\"text-align: right;\">                          0</td><td style=\"text-align: right;\">                     2</td><td style=\"text-align: right;\">                    62</td><td style=\"text-align: right;\">               7</td><td style=\"text-align: right;\">                7</td><td style=\"text-align: right;\">                                    0</td><td style=\"text-align: right;\">                             0        </td><td style=\"text-align: right;\">                     0        </td><td style=\"text-align: right;\">                 1</td><td style=\"text-align: right;\">              1125</td><td style=\"text-align: right;\">                       nan</td><td>NULL                       </td><td>NULL              </td><td style=\"text-align: right;\">                                   0        </td><td style=\"text-align: right;\">                                         935.143</td><td style=\"text-align: right;\">                                 259.571</td><td style=\"text-align: right;\">                                             36.2857</td><td style=\"text-align: right;\">                                        1</td><td style=\"text-align: right;\">                           9706</td><td style=\"text-align: right;\">   0.5     </td><td style=\"text-align: right;\">                          0.367347</td><td style=\"text-align: right;\">                   29</td><td style=\"text-align: right;\">                      21</td><td style=\"text-align: right;\">                                      89</td><td style=\"text-align: right;\">                                              93.5</td><td style=\"text-align: right;\">                                           65  </td><td style=\"text-align: right;\">    3</td><td style=\"text-align: right;\">      3</td><td style=\"text-align: right;\">  2015</td></tr>\n",
       "<tr><td>true              </td><td>2015-03-03 00:00:00</td><td>2015-02-01 00:00:00</td><td>E073FC50-8B2A-485F-8DAA-E66D0E936424</td><td>5EAAD1FA-DEBF-46DE-92AB-32C6A1DCB074</td><td style=\"text-align: right;\">                  340    </td><td style=\"text-align: right;\">                     150</td><td>Los Angeles </td><td style=\"text-align: right;\">  34.1065</td><td style=\"text-align: right;\"> -118.301</td><td>Entire home/apt</td><td style=\"text-align: right;\">                    8</td><td>false                    </td><td style=\"text-align: right;\">           19</td><td style=\"text-align: right;\">          8</td><td style=\"text-align: right;\">                        5</td><td style=\"text-align: right;\">              5</td><td style=\"text-align: right;\">             0.85905 </td><td style=\"text-align: right;\">                      34</td><td style=\"text-align: right;\">                        0</td><td style=\"text-align: right;\">                          1</td><td style=\"text-align: right;\">                     2</td><td style=\"text-align: right;\">                    62</td><td style=\"text-align: right;\">               7</td><td style=\"text-align: right;\">                7</td><td style=\"text-align: right;\">                                    0</td><td style=\"text-align: right;\">                             0.0833333</td><td style=\"text-align: right;\">                     0.225352 </td><td style=\"text-align: right;\">                 1</td><td style=\"text-align: right;\">               365</td><td style=\"text-align: right;\">                       389</td><td>NULL                       </td><td>NULL              </td><td style=\"text-align: right;\">                                   1.06667  </td><td style=\"text-align: right;\">                                         935.143</td><td style=\"text-align: right;\">                                 259.571</td><td style=\"text-align: right;\">                                             36.2857</td><td style=\"text-align: right;\">                                        1</td><td style=\"text-align: right;\">                           9706</td><td style=\"text-align: right;\">   0.724138</td><td style=\"text-align: right;\">                          0.897959</td><td style=\"text-align: right;\">                   23</td><td style=\"text-align: right;\">                      15</td><td style=\"text-align: right;\">                                     128</td><td style=\"text-align: right;\">                                             117.5</td><td style=\"text-align: right;\">                                           70  </td><td style=\"text-align: right;\">    3</td><td style=\"text-align: right;\">      3</td><td style=\"text-align: right;\">  2015</td></tr>\n",
       "<tr><td>false             </td><td>2015-03-10 00:00:00</td><td>2015-02-08 00:00:00</td><td>FA43F4DB-19EA-4945-B05B-D2D41C495863</td><td>78A46A22-C320-46F3-8810-34812A662896</td><td style=\"text-align: right;\">                   29    </td><td style=\"text-align: right;\">                       0</td><td>Los Angeles </td><td style=\"text-align: right;\">  34.2151</td><td style=\"text-align: right;\"> -118.535</td><td>Shared room    </td><td style=\"text-align: right;\">                    6</td><td>false                    </td><td style=\"text-align: right;\">           23</td><td style=\"text-align: right;\">          6</td><td style=\"text-align: right;\">                        1</td><td style=\"text-align: right;\">              3</td><td style=\"text-align: right;\">             0.409632</td><td style=\"text-align: right;\">                      20</td><td style=\"text-align: right;\">                        0</td><td style=\"text-align: right;\">                          1</td><td style=\"text-align: right;\">                     2</td><td style=\"text-align: right;\">                    69</td><td style=\"text-align: right;\">               7</td><td style=\"text-align: right;\">                7</td><td style=\"text-align: right;\">                                    0</td><td style=\"text-align: right;\">                             0        </td><td style=\"text-align: right;\">                     0.41     </td><td style=\"text-align: right;\">                 1</td><td style=\"text-align: right;\">              1125</td><td style=\"text-align: right;\">                        29</td><td>NULL                       </td><td>NULL              </td><td style=\"text-align: right;\">                                   0.4      </td><td style=\"text-align: right;\">                                        1083.86 </td><td style=\"text-align: right;\">                                 274.714</td><td style=\"text-align: right;\">                                             44.4286</td><td style=\"text-align: right;\">                                        1</td><td style=\"text-align: right;\">                           9647</td><td style=\"text-align: right;\">   0.814815</td><td style=\"text-align: right;\">                          1.7551  </td><td style=\"text-align: right;\">                   20</td><td style=\"text-align: right;\">                      18</td><td style=\"text-align: right;\">                                      35</td><td style=\"text-align: right;\">                                              35  </td><td style=\"text-align: right;\">                                           29  </td><td style=\"text-align: right;\">   10</td><td style=\"text-align: right;\">      3</td><td style=\"text-align: right;\">  2015</td></tr>\n",
       "<tr><td>false             </td><td>2015-03-11 00:00:00</td><td>2015-02-09 00:00:00</td><td>83114506-2EEB-4F1C-87D9-36CC26355AC7</td><td>D5CCFF5C-2846-4CFD-BD0D-EB11E6D2E9CE</td><td style=\"text-align: right;\">                 1300    </td><td style=\"text-align: right;\">                     300</td><td>Los Angeles </td><td style=\"text-align: right;\">  34.104 </td><td style=\"text-align: right;\"> -118.369</td><td>Entire home/apt</td><td style=\"text-align: right;\">                   14</td><td>false                    </td><td style=\"text-align: right;\">            0</td><td style=\"text-align: right;\">          0</td><td style=\"text-align: right;\">                       91</td><td style=\"text-align: right;\">              5</td><td style=\"text-align: right;\">           nan       </td><td style=\"text-align: right;\">                       0</td><td style=\"text-align: right;\">                        0</td><td style=\"text-align: right;\">                          1</td><td style=\"text-align: right;\">                     3</td><td style=\"text-align: right;\">                    70</td><td style=\"text-align: right;\">               7</td><td style=\"text-align: right;\">                7</td><td style=\"text-align: right;\">                                    0</td><td style=\"text-align: right;\">                             0        </td><td style=\"text-align: right;\">                     0.0238095</td><td style=\"text-align: right;\">                 2</td><td style=\"text-align: right;\">                29</td><td style=\"text-align: right;\">                      1500</td><td>NULL                       </td><td>NULL              </td><td style=\"text-align: right;\">                                   0.2      </td><td style=\"text-align: right;\">                                        1104.71 </td><td style=\"text-align: right;\">                                 261.286</td><td style=\"text-align: right;\">                                             46.1429</td><td style=\"text-align: right;\">                                        1</td><td style=\"text-align: right;\">                           9556</td><td style=\"text-align: right;\">   0.692308</td><td style=\"text-align: right;\">                          3.15646 </td><td style=\"text-align: right;\">                   87</td><td style=\"text-align: right;\">                      71</td><td style=\"text-align: right;\">                                     350</td><td style=\"text-align: right;\">                                             372.5</td><td style=\"text-align: right;\">                                          124.5</td><td style=\"text-align: right;\">   11</td><td style=\"text-align: right;\">      3</td><td style=\"text-align: right;\">  2015</td></tr>\n",
       "</tbody>\n",
       "</table>"
      ]
     },
     "metadata": {},
     "output_type": "display_data"
    },
    {
     "data": {
      "text/plain": []
     },
     "execution_count": 245,
     "metadata": {},
     "output_type": "execute_result"
    }
   ],
   "source": [
    "data_mx = h2o.H2OFrame(dd)\n",
    "data.cbind(data_mx)\n"
   ]
  },
  {
   "cell_type": "code",
   "execution_count": 263,
   "metadata": {},
   "outputs": [
    {
     "name": "stdout",
     "output_type": "stream",
     "text": [
      "(184279, 3)\n",
      "Export File progress: |███████████████████████████████████████████████████| 100%\n"
     ]
    }
   ],
   "source": [
    "print(data_mx.shape)\n",
    "h2o.export_file( data_mx, path= 'data_mx.csv')\n"
   ]
  },
  {
   "cell_type": "code",
   "execution_count": 264,
   "metadata": {},
   "outputs": [
    {
     "name": "stdout",
     "output_type": "stream",
     "text": [
      "(184279, 46)\n",
      "Export File progress: |███████████████████████████████████████████████████| 100%\n"
     ]
    }
   ],
   "source": [
    "print(data.shape)\n",
    "h2o.export_file( data, path= 'data_ymd_c0.csv')\n"
   ]
  },
  {
   "cell_type": "code",
   "execution_count": null,
   "metadata": {},
   "outputs": [],
   "source": [
    "###########################################################################\n",
    "\n",
    "# Some basic information about the training/vali/test data                #\n",
    "\n",
    "###########################################################################\n",
    "\n",
    "print('# shapet', data.shape)\n",
    "print(\"# column list\", data.columns)\n",
    "print(\"# column list\", data.sample(10))\n",
    "print(\"# info() \" ,data.info())\n",
    "print(\"# Statistical Summary\", data.datadescribe().transpose())\n",
    "print(\"# Target class distribution\", data.groupby('Survived').size())\n",
    "print(\"# check for missing values\", data.isnull().any())\n",
    "print(\"# count the number of NaN values in each column\", data.isnull().sum())\n",
    "\n"
   ]
  },
  {
   "cell_type": "code",
   "execution_count": null,
   "metadata": {},
   "outputs": [],
   "source": [
    "gbm_v1.plot()"
   ]
  },
  {
   "cell_type": "code",
   "execution_count": 16,
   "metadata": {},
   "outputs": [],
   "source": [
    "from sklearn import preprocessing\n",
    "\n",
    "def normalize(df):\n",
    "    \"\"\" Standardization of numeric fields, where all values will have mean of zero \n",
    "      and standard deviation of one. (z-score)\n",
    "\n",
    "      Args:\n",
    "        dataset: A `Pandas.Dataframe` \n",
    "    \"\"\"\n",
    "    x = df.values #returns a numpy array\n",
    "    min_max_scaler = preprocessing.MinMaxScaler()\n",
    "    x_scaled = min_max_scaler.fit_transform(x)\n",
    "    df_normalize= pd.DataFrame(x_scaled)\n",
    "    #h2o_obj = h2o.H2OFrame(df_normalize)\n",
    "    return df_normalize\n",
    "\n",
    "data[\"m_reviews_new\"] = 3*data[\"m_reviews\"]\n",
    "\n",
    "tempdf = data[\"ds\"].as_data_frame()\n",
    "test_ = normalize(tempdf)\n",
    "data['newcol'] = h2o.H2OFrame(test_, column_names=[\"newcol\"])\n",
    "import numpy as np\n",
    "np.log(2+110.12)\n",
    "\n",
    "###########################################################################\n",
    "\n",
    "# Drop multi collinear levels and no longer required                      #\n",
    "\n",
    "###########################################################################\n",
    "\n",
    "dropColumns = ['somevalues']\n",
    "\n",
    "trainData = trainData.drop(columns=dropColumns)\n",
    "\n"
   ]
  },
  {
   "cell_type": "code",
   "execution_count": null,
   "metadata": {},
   "outputs": [],
   "source": [
    "# Filter to relevant columns\n",
    "relevant_cols = [ 'dim_is_requested',\n",
    "'ds', \n",
    "'id_listing_anon', \n",
    "'m_effective_daily_price',\n",
    "'m_pricing_cleaning_fee', \n",
    "#needs cleaning  'dim_market', \n",
    "#use kdt instead 'dim_lat', \n",
    "#use kdt instead 'dim_lng', \n",
    "#needs process  'dim_room_type',\n",
    "'dim_person_capacity', #num\n",
    "'dim_is_instant_bookable', #bool\n",
    "'m_checkouts',  #num\n",
    "'m_reviews', #num\n",
    "'days_since_last_booking', #num\n",
    "'cancel_policy', #cat 3-9\n",
    "'image_quality_score', #num\n",
    "'m_total_overall_rating', #num\n",
    "'m_professional_pictures', #num\n",
    "'dim_has_wireless_internet', #bool\n",
    "'ds_night_day_of_week', #bool\n",
    "'ds_night_day_of_year', #bool\n",
    "'ds_checkin_gap', #num 0-6\n",
    "'ds_checkout_gap', #num 0-6\n",
    "'occ_occupancy_plus_minus_7_ds_night', #num \n",
    "'occ_occupancy_plus_minus_14_ds_night', #num \n",
    "'occ_occupancy_trailing_90_ds', #num \n",
    "'m_minimum_nights', #num \n",
    "#'m_maximum_nights', \n",
    "'price_booked_most_recent', #num \n",
    "'p2_p3_click_through_score', #num \n",
    "'p3_inquiry_score',  #num \n",
    "'listing_m_listing_views_2_6_ds_night_decay', #num \n",
    "#'general_market_m_unique_searchers_0_6_ds_night',#num \n",
    "#'general_market_m_contacts_0_6_ds_night',#num \n",
    "'general_market_m_reservation_requests_0_6_ds_night',#num \n",
    "'general_market_m_is_booked_0_6_ds_night',\n",
    "'m_available_listings_ds_night',\n",
    "'kdt_score', \n",
    "'r_kdt_listing_views_0_6_avg_n100', \n",
    "'r_kdt_n_active_n100', \n",
    "'r_kdt_n_available_n100', \n",
    "'r_kdt_m_effective_daily_price_n100_p50', \n",
    "'r_kdt_m_effective_daily_price_available_n100_p50',\n",
    "'r_kdt_m_effective_daily_price_booked_n100_p50'\n",
    "\n",
    "]\n",
    "\n",
    "data = data[relevant_cols]\n",
    "\n",
    "\n",
    "\n",
    "df_train, df_valid, df_test = au_data_split(data, 0.7, 0.15)\n",
    "\n",
    "target = \"dim_is_requested\"\n",
    "predictors = list(set(df_train.col_names) - set([target]))\n",
    "\n",
    "\n",
    "# Train initial GBM model\n",
    "from h2o.estimators import H2OGradientBoostingEstimator\n",
    "\n",
    "gbm_model = H2OGradientBoostingEstimator(seed = 1234, model_id = \"gbm_baseline.hex\", \n",
    "                                            ntrees = 500, \n",
    "                                            stopping_rounds = 10, score_tree_interval = 5, # early stopping\n",
    "                                            stopping_metric = \"AUC\",\n",
    "                                            nfolds = 5 \n",
    "                                           )\n",
    "gbm_model.train(x = predictors, y = target, training_frame = df_train,  validation_frame=df_test)\n",
    "\n",
    "\n",
    "print(\"AUC on CV: \" + str(round(gbm_baseline.auc(xval = True), 3))) #This was done for a random split, same size. \n",
    "\n",
    "\n",
    "gbm_baseline.varimp()\n",
    "\n",
    "\n",
    "# Generate predictions on a test set \n",
    "pred = gbm_model.predict(df_test)\n",
    "\n",
    "# Eval performance on the test data\n",
    "perf_base_test = gbm_model.model_performance(df_test)\n",
    "\n",
    "\n",
    "           "
   ]
  },
  {
   "cell_type": "code",
   "execution_count": 5,
   "metadata": {},
   "outputs": [
    {
     "name": "stdout",
     "output_type": "stream",
     "text": [
      "Are you sure you want to shutdown the H2O instance running at http://127.0.0.1:5151 (Y/N)? Y\n",
      "H2O session _sid_8c1e closed.\n"
     ]
    }
   ],
   "source": [
    "h2o.cluster().shutdown(prompt=True)  "
   ]
  },
  {
   "cell_type": "code",
   "execution_count": null,
   "metadata": {},
   "outputs": [],
   "source": []
  }
 ],
 "metadata": {
  "kernelspec": {
   "display_name": "Python 3",
   "language": "python",
   "name": "python3"
  },
  "language_info": {
   "codemirror_mode": {
    "name": "ipython",
    "version": 3
   },
   "file_extension": ".py",
   "mimetype": "text/x-python",
   "name": "python",
   "nbconvert_exporter": "python",
   "pygments_lexer": "ipython3",
   "version": "3.7.1"
  }
 },
 "nbformat": 4,
 "nbformat_minor": 2
}

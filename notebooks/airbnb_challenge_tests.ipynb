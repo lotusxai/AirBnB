{
 "cells": [
  {
   "cell_type": "markdown",
   "metadata": {},
   "source": [
    "## AirBnB Challenge Submission\n",
    "Notebook review:\n",
    "\n",
    "#### Build a model to predict whether a listing will receive a booking request for a calendar night.\n",
    "over 184,000 data rows and 45 predictors (target dim_is_requested) is provided in tab delimated format. From target variable 60510 are positive.\n",
    "Eventually MCC is being used to track model performance. MCC measure better captures all values of the confusion matrix.\n",
    "\n",
    "#####  Simple pair cluster-scatterplot using RUNT statistic show strong corrolation between the following pairs:\n",
    "* m_total_overal_rating, m_checkouts\n",
    "* m_total_overal_rating, m_reviews\n",
    "* general_market_m_contacts_0_6_ds_night, general_market_m_reservation_requests_0_6_ds_night\n",
    "* 3 main clusters for scatter plot (dim_lat, dim_lng) shwoing three different locations.\n",
    "* m_reviews, m_checkouts\n",
    "* r_kdt_m_effective_daily_price_available_n100_p50, r_kdt_m_effective_daily_price_n100_p50\n",
    "\n",
    "In our model we avoid using both in the same model.\n",
    "\n",
    "##### Looking at the numerical feature density functions (distributios) following features show high cardinality, or a spike in one dominant vlaue.\n",
    "\n",
    "* occ_occupancy_trailing_90_ds: 0.0 values imbalanced.\n",
    "* price_booked_most_recent: values under 500 imbalanced.\n",
    "* The following 8 features have a biased distributions. The variable and biased value pair:\n",
    "* p2_p3_click_through_score, 0.18\n",
    "* listing_m_listing_views_2_6_ds_night_decay, 0.0\n",
    "* occ_occupancy_plus_minus_14_ds_night, 0\n",
    "* image_quality_score,1 AND 0.4: shows two distibutions in one. with and without professinal pictures.\n",
    "* days_since_last_booking, 0\n",
    "* m_maximum_nights\n",
    "* r_kdt_m_effective_daily_price_booked_n100_p50, 50\n",
    "* occ_occupancy_plus_minus_7_ds_night, 0\n",
    "\n",
    "occ_occupancy_trailing_90_ds: 0.0 values imbalanced means the feature occ_occupancy_trailing_90_ds value 0.0 has a high count.\n",
    "\n",
    "##### Major Outliers (other details from histogram/density plots) variable. value pair for the outlies listed:\n",
    "* kdt_score, -1 , drop (6)\n",
    "* m_pricing_cleaning_fee, >690, drop(25)\n",
    "* r_kdt_m_effective_daily_price_available_n100_p50, =9925, drop(1)\n",
    "* r_kdt_m_effective_daily_price_n100_p50, >700, drop(1)\n",
    "* general_market_m_contacts_0_6_ds_night, all surprisingly showing value =1453.857142857143,  drop(30)\n",
    "\n",
    "\n",
    "drop(6) means rows (total count of 6 observations/rows) are dropped in the final training set. \n",
    "\n",
    " \n",
    "##### listing_m_listing_views_2_6_ds_night_decay boxplot over the dim_room_type show a feature engineered using just these two varibales can be a strong predictor:\n",
    "* dim_room_type , listing_m_listing_views_2_6_ds_night_decay\n",
    " \n",
    "##### categorical features with gaps in values or large skewdness: \n",
    "Managed with XGBoost - filtered, normalized.\n",
    "\n",
    "\n",
    "\n",
    "#### Show how you evaluate and improve your model performance. Explain your choice of evaluation technique.\n",
    "Sorting the data according to date (year-month-day) and redo the split and re-evaluate. For example: testing data  consists of the last two months of data (2015/11 and 2015/12).\n",
    "Something like:\n",
    "```\n",
    "is_train = ~((data[\"issue_d\"].year() == 2015) and (data[\"issue_d\"].month() >= 11))\n",
    "train = data[is_train == 1]\n",
    "test = data[is_train == 0]\n",
    "```\n",
    "\n",
    "\n",
    "A | B \n",
    "- | - \n",
    "![airbnb_1.png](airbnb_1.png \"r_kdt_m_effective_daily_price_available_n100_p50\") | ![airbnb_1.png](airbnb_2.png \"m_total_overall_rating\") \n",
    "\n",
    "\n",
    "A | B | C\n",
    "- | - | -\n",
    "![airbnb_1.png](file-5.png \"general_market_m_contacts_0_6_ds_night\") | ![airbnb_1.png](file-6.png \"dim_lat\") | ![airbnb_1.png](file-8.png \"m_reviews\")\n",
    "![airbnb_1.png](file-9.png \"Title\") | ![airbnb_1.png](image_quality_score.png \"image_quality_score\") | ![airbnb_1.png](occ_occupancy_trailing_90_ds_zerobin.png \"occ_occupancy_trailing_90_ds_zerobin.png\")\n",
    "![airbnb_1.png](price_booked_most_recent_under500vsover500model.png \"price_booked_most_recent_under500\") | ![airbnb_1.png](boxplot_dim_room_type.png \"boxplot_dim_room_type\") | ![airbnb_1.png](airbnb_2.png \"Title\") \n",
    "\n",
    "\n",
    "\n"
   ]
  },
  {
   "cell_type": "markdown",
   "metadata": {},
   "source": [
    "#### What other prediction problems can be solved using this dataset? Suggest future work that could leverage this data.\n",
    "Few predictions challenges that can leverage this data:\n",
    "\n",
    "\n",
    "* What is the best price for my AirBnB: Can you predict the effective daily price, value that increases the count of positive dim_requested and make the recommnadation:\n",
    "1- grouped by market\n",
    "2- grouped by geo-location clusters (locality)\n",
    "\n",
    "* Where is the hottest market next year? Compare three markets seperately: how bookings in one market (e.g. France) affects another market. Do they grow together or not? Which neighbor hood will be hotest market next? \n",
    "\n",
    "Try the following for detrending:\n",
    "\n",
    "* Find months with the highest false dim_requested ratio (not requested) try to remove the impacts of this variable as much as possible (XGBoost extrapolates very strongly and overfits)\n",
    "\n",
    "##### Follwing features together can be very helpful for these new challenges/work:\n",
    "\n",
    "grouped together: alisting_anon_ with m_checkouts_price_ and booked_most_recent \n",
    "\n",
    "grouped together: Frequency values of listing_m  and listing_views_2_6_ds_night_decay\n",
    "\n",
    "grouped together: ['ids_night_day_of_year', 'm_effective_daily_price'] columns #0 (n\n",
    "\n",
    "#####  Log transform of the following will be helpful:\n",
    "\n",
    "m_effective_daily_price\n",
    "count of mapping of id_listing_anon\n",
    "m_checkouts\n",
    "kdt_score\n",
    "\n",
    "\n"
   ]
  },
  {
   "cell_type": "markdown",
   "metadata": {},
   "source": [
    "#### Identify how you would use your model and findings to improve Airbnb's marketplace by writing out specific recommendations.\n",
    "\n",
    "based on the model predicts contact Hosts through email and build engaging value-based marketing efforts: \"what are the best things to know?\", Ask for feedback. Ask how involved they are with process (survey) and if they would recommend the service. Ship marketing camps to the hosts of higher likelihood of dim_request. Engage the low quartile as well (what they need to improve (could be a price update/use of professional pics, et.c)\n"
   ]
  },
  {
   "cell_type": "markdown",
   "metadata": {},
   "source": []
  },
  {
   "cell_type": "markdown",
   "metadata": {},
   "source": [
    "### Step 1. Import and Clean Data\n",
    "Start by importing the raw AirBnB data, tab deliminated format. "
   ]
  },
  {
   "cell_type": "code",
   "execution_count": 1,
   "metadata": {},
   "outputs": [],
   "source": [
    "import numpy as np\n",
    "import pandas as pd \n",
    "import matplotlib.pyplot as plt\n",
    "\n",
    "from sklearn.model_selection import train_test_split\n",
    "\n",
    "from sklearn.pipeline import Pipeline\n",
    "from sklearn.preprocessing import StandardScaler\n",
    "from sklearn.ensemble import RandomForestClassifier\n",
    "from sklearn.linear_model import SGDClassifier\n",
    "from sklearn.model_selection import GridSearchCV\n",
    "from sklearn.metrics import matthews_corrcoef\n",
    "\n",
    "from sklearn.metrics import confusion_matrix, make_scorer, classification_report, cohen_kappa_score, accuracy_score, average_precision_score, roc_auc_score\n",
    "\n",
    "\n",
    "import warnings\n",
    "\n",
    "import itertools\n",
    "\n",
    "\n"
   ]
  },
  {
   "cell_type": "code",
   "execution_count": 2,
   "metadata": {},
   "outputs": [
    {
     "ename": "ModuleNotFoundError",
     "evalue": "No module named 'h2o'",
     "output_type": "error",
     "traceback": [
      "\u001b[1;31m---------------------------------------------------------------------------\u001b[0m",
      "\u001b[1;31mModuleNotFoundError\u001b[0m                       Traceback (most recent call last)",
      "\u001b[1;32m<ipython-input-2-238098595071>\u001b[0m in \u001b[0;36m<module>\u001b[1;34m\u001b[0m\n\u001b[1;32m----> 1\u001b[1;33m \u001b[1;32mimport\u001b[0m \u001b[0mh2o\u001b[0m\u001b[1;33m\u001b[0m\u001b[1;33m\u001b[0m\u001b[0m\n\u001b[0m\u001b[0;32m      2\u001b[0m \u001b[1;32mfrom\u001b[0m \u001b[0mh2o\u001b[0m\u001b[1;33m.\u001b[0m\u001b[0mestimators\u001b[0m \u001b[1;32mimport\u001b[0m \u001b[0mH2OGradientBoostingEstimator\u001b[0m\u001b[1;33m\u001b[0m\u001b[1;33m\u001b[0m\u001b[0m\n\u001b[0;32m      3\u001b[0m \u001b[1;33m\u001b[0m\u001b[0m\n\u001b[0;32m      4\u001b[0m \u001b[1;33m\u001b[0m\u001b[0m\n\u001b[0;32m      5\u001b[0m \u001b[1;32mfrom\u001b[0m \u001b[0mh2o\u001b[0m\u001b[1;33m.\u001b[0m\u001b[0mestimators\u001b[0m\u001b[1;33m.\u001b[0m\u001b[0mrandom_forest\u001b[0m \u001b[1;32mimport\u001b[0m \u001b[0mH2ORandomForestEstimator\u001b[0m\u001b[1;33m\u001b[0m\u001b[1;33m\u001b[0m\u001b[0m\n",
      "\u001b[1;31mModuleNotFoundError\u001b[0m: No module named 'h2o'"
     ]
    }
   ],
   "source": [
    "import h2o\n",
    "from h2o.estimators import H2OGradientBoostingEstimator\n",
    "\n",
    "\n",
    "from h2o.estimators.random_forest import H2ORandomForestEstimator\n",
    "from h2o.estimators.gbm import H2OGradientBoostingEstimator\n",
    "from h2o.estimators.stackedensemble import H2OStackedEnsembleEstimator\n",
    "from h2o.grid.grid_search import H2OGridSearch\n",
    "#from __future__ import print_function\n",
    "\n",
    "h2o.init(ip=\"127.0.0.1\" , port = 5151, max_mem_size=\"14g\")\n"
   ]
  },
  {
   "cell_type": "code",
   "execution_count": 5,
   "metadata": {},
   "outputs": [
    {
     "name": "stdout",
     "output_type": "stream",
     "text": [
      "Parse progress: |█████████████████████████████████████████████████████████| 100%\n"
     ]
    }
   ],
   "source": [
    "data_path = \"https://s3.amazonaws.com/challengeprivate/TH_data_challenge.tsv\"\n",
    "#data = pd.read_csv(data_path ,delimiter='\\t',encoding='utf-8')\n",
    "data = h2o.import_file(data_path, destination_frame = \"airbnb_challenge_raw\")\n"
   ]
  },
  {
   "cell_type": "code",
   "execution_count": 6,
   "metadata": {},
   "outputs": [
    {
     "data": {
      "text/html": [
       "<table>\n",
       "<thead>\n",
       "<tr><th>dim_is_requested  </th><th>ds_night           </th><th>ds                 </th><th>id_listing_anon                     </th><th>id_user_anon                        </th><th style=\"text-align: right;\">  m_effective_daily_price</th><th style=\"text-align: right;\">  m_pricing_cleaning_fee</th><th>dim_market  </th><th style=\"text-align: right;\">  dim_lat</th><th style=\"text-align: right;\">  dim_lng</th><th>dim_room_type  </th><th style=\"text-align: right;\">  dim_person_capacity</th><th>dim_is_instant_bookable  </th><th style=\"text-align: right;\">  m_checkouts</th><th style=\"text-align: right;\">  m_reviews</th><th style=\"text-align: right;\">  days_since_last_booking</th><th style=\"text-align: right;\">  cancel_policy</th><th style=\"text-align: right;\">  image_quality_score</th><th style=\"text-align: right;\">  m_total_overall_rating</th><th style=\"text-align: right;\">  m_professional_pictures</th><th style=\"text-align: right;\">  dim_has_wireless_internet</th><th style=\"text-align: right;\">  ds_night_day_of_week</th><th style=\"text-align: right;\">  ds_night_day_of_year</th><th style=\"text-align: right;\">  ds_checkin_gap</th><th style=\"text-align: right;\">  ds_checkout_gap</th><th style=\"text-align: right;\">  occ_occupancy_plus_minus_7_ds_night</th><th style=\"text-align: right;\">  occ_occupancy_plus_minus_14_ds_night</th><th style=\"text-align: right;\">  occ_occupancy_trailing_90_ds</th><th style=\"text-align: right;\">  m_minimum_nights</th><th style=\"text-align: right;\">  m_maximum_nights</th><th style=\"text-align: right;\">  price_booked_most_recent</th><th>p2_p3_click_through_score  </th><th>p3_inquiry_score  </th><th style=\"text-align: right;\">  listing_m_listing_views_2_6_ds_night_decay</th><th style=\"text-align: right;\">  general_market_m_unique_searchers_0_6_ds_night</th><th style=\"text-align: right;\">  general_market_m_contacts_0_6_ds_night</th><th style=\"text-align: right;\">  general_market_m_reservation_requests_0_6_ds_night</th><th style=\"text-align: right;\">  general_market_m_is_booked_0_6_ds_night</th><th style=\"text-align: right;\">  m_available_listings_ds_night</th><th style=\"text-align: right;\">  kdt_score</th><th style=\"text-align: right;\">  r_kdt_listing_views_0_6_avg_n100</th><th style=\"text-align: right;\">  r_kdt_n_active_n100</th><th style=\"text-align: right;\">  r_kdt_n_available_n100</th><th style=\"text-align: right;\">  r_kdt_m_effective_daily_price_n100_p50</th><th style=\"text-align: right;\">  r_kdt_m_effective_daily_price_available_n100_p50</th><th style=\"text-align: right;\">  r_kdt_m_effective_daily_price_booked_n100_p50</th></tr>\n",
       "</thead>\n",
       "<tbody>\n",
       "<tr><td>false             </td><td>2015-01-06 00:00:00</td><td>2014-12-07 00:00:00</td><td>0AE0C7CC-A8A4-425F-9CCC-8B25DBB94F4D</td><td>DCC74708-D5C4-47B2-BC0C-97BF5ABFCD99</td><td style=\"text-align: right;\">                  110    </td><td style=\"text-align: right;\">                      60</td><td>Los Angeles </td><td style=\"text-align: right;\">  34.0539</td><td style=\"text-align: right;\"> -118.363</td><td>Private room   </td><td style=\"text-align: right;\">                    2</td><td>false                    </td><td style=\"text-align: right;\">           24</td><td style=\"text-align: right;\">         19</td><td style=\"text-align: right;\">                      320</td><td style=\"text-align: right;\">              4</td><td style=\"text-align: right;\">             0.830959</td><td style=\"text-align: right;\">                      74</td><td style=\"text-align: right;\">                       16</td><td style=\"text-align: right;\">                          1</td><td style=\"text-align: right;\">                     2</td><td style=\"text-align: right;\">                     6</td><td style=\"text-align: right;\">               0</td><td style=\"text-align: right;\">                7</td><td style=\"text-align: right;\">                                  nan</td><td style=\"text-align: right;\">                           nan        </td><td style=\"text-align: right;\">                     0        </td><td style=\"text-align: right;\">                 5</td><td style=\"text-align: right;\">                90</td><td style=\"text-align: right;\">                        92</td><td>NULL                       </td><td>NULL              </td><td style=\"text-align: right;\">                                   0.133333 </td><td style=\"text-align: right;\">                                         788.143</td><td style=\"text-align: right;\">                                 241.429</td><td style=\"text-align: right;\">                                             41.4286</td><td style=\"text-align: right;\">                                        1</td><td style=\"text-align: right;\">                           9840</td><td style=\"text-align: right;\">   1.31429 </td><td style=\"text-align: right;\">                          1.79592 </td><td style=\"text-align: right;\">                   57</td><td style=\"text-align: right;\">                      48</td><td style=\"text-align: right;\">                                      79</td><td style=\"text-align: right;\">                                              75  </td><td style=\"text-align: right;\">                                           98  </td></tr>\n",
       "<tr><td>true              </td><td>2015-01-21 00:00:00</td><td>2014-12-22 00:00:00</td><td>82FDDA07-6993-4CCA-8EE4-FC218D2C07C7</td><td>559D8981-0C75-4631-9582-A3B644BB5631</td><td style=\"text-align: right;\">                   70    </td><td style=\"text-align: right;\">                       0</td><td>Los Angeles </td><td style=\"text-align: right;\">  34.1086</td><td style=\"text-align: right;\"> -118.209</td><td>Private room   </td><td style=\"text-align: right;\">                    2</td><td>true                     </td><td style=\"text-align: right;\">          105</td><td style=\"text-align: right;\">         55</td><td style=\"text-align: right;\">                        3</td><td style=\"text-align: right;\">              3</td><td style=\"text-align: right;\">             0.967384</td><td style=\"text-align: right;\">                     263</td><td style=\"text-align: right;\">                        0</td><td style=\"text-align: right;\">                          1</td><td style=\"text-align: right;\">                     3</td><td style=\"text-align: right;\">                    21</td><td style=\"text-align: right;\">               7</td><td style=\"text-align: right;\">                7</td><td style=\"text-align: right;\">                                  nan</td><td style=\"text-align: right;\">                           nan        </td><td style=\"text-align: right;\">                     0.359551 </td><td style=\"text-align: right;\">                 1</td><td style=\"text-align: right;\">              1125</td><td style=\"text-align: right;\">                        70</td><td>NULL                       </td><td>NULL              </td><td style=\"text-align: right;\">                                   0.0666667</td><td style=\"text-align: right;\">                                         830.143</td><td style=\"text-align: right;\">                                 298    </td><td style=\"text-align: right;\">                                             51.7143</td><td style=\"text-align: right;\">                                        1</td><td style=\"text-align: right;\">                           9599</td><td style=\"text-align: right;\">   0.535714</td><td style=\"text-align: right;\">                          2.69388 </td><td style=\"text-align: right;\">                   49</td><td style=\"text-align: right;\">                      36</td><td style=\"text-align: right;\">                                      65</td><td style=\"text-align: right;\">                                              65  </td><td style=\"text-align: right;\">                                           42  </td></tr>\n",
       "<tr><td>false             </td><td>2015-01-22 00:00:00</td><td>2014-12-23 00:00:00</td><td>69B2069D-CF8F-49A7-B559-9619DBE86A7D</td><td>EE7901A6-79D5-4D69-BACF-E4BCA976A66A</td><td style=\"text-align: right;\">                  125    </td><td style=\"text-align: right;\">                       0</td><td>Los Angeles </td><td style=\"text-align: right;\">  34.0772</td><td style=\"text-align: right;\"> -118.206</td><td>Private room   </td><td style=\"text-align: right;\">                    1</td><td>false                    </td><td style=\"text-align: right;\">            0</td><td style=\"text-align: right;\">          0</td><td style=\"text-align: right;\">                      nan</td><td style=\"text-align: right;\">              3</td><td style=\"text-align: right;\">             0.485231</td><td style=\"text-align: right;\">                       0</td><td style=\"text-align: right;\">                        0</td><td style=\"text-align: right;\">                          1</td><td style=\"text-align: right;\">                     4</td><td style=\"text-align: right;\">                    22</td><td style=\"text-align: right;\">               7</td><td style=\"text-align: right;\">                7</td><td style=\"text-align: right;\">                                  nan</td><td style=\"text-align: right;\">                           nan        </td><td style=\"text-align: right;\">                     0        </td><td style=\"text-align: right;\">                 1</td><td style=\"text-align: right;\">              1125</td><td style=\"text-align: right;\">                       nan</td><td>NULL                       </td><td>NULL              </td><td style=\"text-align: right;\">                                   0        </td><td style=\"text-align: right;\">                                         810.143</td><td style=\"text-align: right;\">                                 281    </td><td style=\"text-align: right;\">                                             51.7143</td><td style=\"text-align: right;\">                                        1</td><td style=\"text-align: right;\">                           9514</td><td style=\"text-align: right;\">   0.714286</td><td style=\"text-align: right;\">                          2.77551 </td><td style=\"text-align: right;\">                   49</td><td style=\"text-align: right;\">                      35</td><td style=\"text-align: right;\">                                      65</td><td style=\"text-align: right;\">                                              66.5</td><td style=\"text-align: right;\">                                           46  </td></tr>\n",
       "<tr><td>true              </td><td>2015-02-02 00:00:00</td><td>2015-01-03 00:00:00</td><td>66BAADE6-9352-4D7C-B590-745899BD12B3</td><td>AF691F3D-525E-497C-B9C5-8750B097B04D</td><td style=\"text-align: right;\">                  126.867</td><td style=\"text-align: right;\">                     125</td><td>Los Angeles </td><td style=\"text-align: right;\">  34.0935</td><td style=\"text-align: right;\"> -118.247</td><td>Entire home/apt</td><td style=\"text-align: right;\">                    6</td><td>false                    </td><td style=\"text-align: right;\">            0</td><td style=\"text-align: right;\">          0</td><td style=\"text-align: right;\">                      nan</td><td style=\"text-align: right;\">              5</td><td style=\"text-align: right;\">             0.30931 </td><td style=\"text-align: right;\">                       0</td><td style=\"text-align: right;\">                        0</td><td style=\"text-align: right;\">                          1</td><td style=\"text-align: right;\">                     1</td><td style=\"text-align: right;\">                    33</td><td style=\"text-align: right;\">               7</td><td style=\"text-align: right;\">                7</td><td style=\"text-align: right;\">                                    0</td><td style=\"text-align: right;\">                             0        </td><td style=\"text-align: right;\">                     0        </td><td style=\"text-align: right;\">                 3</td><td style=\"text-align: right;\">              1125</td><td style=\"text-align: right;\">                       nan</td><td>NULL                       </td><td>NULL              </td><td style=\"text-align: right;\">                                   0.733333 </td><td style=\"text-align: right;\">                                         816.857</td><td style=\"text-align: right;\">                                 274.429</td><td style=\"text-align: right;\">                                             41.8571</td><td style=\"text-align: right;\">                                        1</td><td style=\"text-align: right;\">                           9739</td><td style=\"text-align: right;\">   1.74468 </td><td style=\"text-align: right;\">                          4.57653 </td><td style=\"text-align: right;\">                  113</td><td style=\"text-align: right;\">                      52</td><td style=\"text-align: right;\">                                     120</td><td style=\"text-align: right;\">                                             115  </td><td style=\"text-align: right;\">                                          115  </td></tr>\n",
       "<tr><td>true              </td><td>2015-02-13 00:00:00</td><td>2015-01-14 00:00:00</td><td>01E3589E-A50A-494B-8CB2-9645B29476D0</td><td>6733A1D9-D485-4EA7-B8D2-883EE8A363B9</td><td style=\"text-align: right;\">                  210.714</td><td style=\"text-align: right;\">                     200</td><td>Los Angeles </td><td style=\"text-align: right;\">  34.0975</td><td style=\"text-align: right;\"> -118.364</td><td>Entire home/apt</td><td style=\"text-align: right;\">                    5</td><td>false                    </td><td style=\"text-align: right;\">            9</td><td style=\"text-align: right;\">          1</td><td style=\"text-align: right;\">                       34</td><td style=\"text-align: right;\">              5</td><td style=\"text-align: right;\">             0.335816</td><td style=\"text-align: right;\">                       5</td><td style=\"text-align: right;\">                        0</td><td style=\"text-align: right;\">                          1</td><td style=\"text-align: right;\">                     5</td><td style=\"text-align: right;\">                    44</td><td style=\"text-align: right;\">               7</td><td style=\"text-align: right;\">                7</td><td style=\"text-align: right;\">                                    0</td><td style=\"text-align: right;\">                             0        </td><td style=\"text-align: right;\">                     0.133333 </td><td style=\"text-align: right;\">                 2</td><td style=\"text-align: right;\">              1125</td><td style=\"text-align: right;\">                       296</td><td>NULL                       </td><td>NULL              </td><td style=\"text-align: right;\">                                   1        </td><td style=\"text-align: right;\">                                        1347.43 </td><td style=\"text-align: right;\">                                 419.429</td><td style=\"text-align: right;\">                                             78.8571</td><td style=\"text-align: right;\">                                        1</td><td style=\"text-align: right;\">                           9114</td><td style=\"text-align: right;\">   1.2     </td><td style=\"text-align: right;\">                          4.87755 </td><td style=\"text-align: right;\">                   97</td><td style=\"text-align: right;\">                      57</td><td style=\"text-align: right;\">                                     150</td><td style=\"text-align: right;\">                                             157.5</td><td style=\"text-align: right;\">                                          164.5</td></tr>\n",
       "<tr><td>false             </td><td>2015-02-23 00:00:00</td><td>2015-01-24 00:00:00</td><td>B6222B7A-4D2D-4770-9B2F-9C2E711D953F</td><td>F61E18D6-5A67-43EC-9553-8BE04DD02B54</td><td style=\"text-align: right;\">                   36    </td><td style=\"text-align: right;\">                      35</td><td>Los Angeles </td><td style=\"text-align: right;\">  33.9901</td><td style=\"text-align: right;\"> -117.91 </td><td>Private room   </td><td style=\"text-align: right;\">                    3</td><td>false                    </td><td style=\"text-align: right;\">            6</td><td style=\"text-align: right;\">          2</td><td style=\"text-align: right;\">                       33</td><td style=\"text-align: right;\">              5</td><td style=\"text-align: right;\">             0.727793</td><td style=\"text-align: right;\">                       5</td><td style=\"text-align: right;\">                        0</td><td style=\"text-align: right;\">                          1</td><td style=\"text-align: right;\">                     1</td><td style=\"text-align: right;\">                    54</td><td style=\"text-align: right;\">               7</td><td style=\"text-align: right;\">                7</td><td style=\"text-align: right;\">                                    0</td><td style=\"text-align: right;\">                             0        </td><td style=\"text-align: right;\">                     0.457447 </td><td style=\"text-align: right;\">                 1</td><td style=\"text-align: right;\">              1125</td><td style=\"text-align: right;\">                        36</td><td>NULL                       </td><td>NULL              </td><td style=\"text-align: right;\">                                   0.0666667</td><td style=\"text-align: right;\">                                        1103.57 </td><td style=\"text-align: right;\">                                 384.571</td><td style=\"text-align: right;\">                                             58.8571</td><td style=\"text-align: right;\">                                        1</td><td style=\"text-align: right;\">                           9093</td><td style=\"text-align: right;\">   0.666667</td><td style=\"text-align: right;\">                          1.30612 </td><td style=\"text-align: right;\">                   84</td><td style=\"text-align: right;\">                      71</td><td style=\"text-align: right;\">                                      60</td><td style=\"text-align: right;\">                                              60  </td><td style=\"text-align: right;\">                                           40  </td></tr>\n",
       "<tr><td>false             </td><td>2015-03-03 00:00:00</td><td>2015-02-01 00:00:00</td><td>63974898-6E06-4CA9-B6A1-D315D28E64AA</td><td>4D33F8F6-A185-4866-8233-6DEE13D699E7</td><td style=\"text-align: right;\">                  109    </td><td style=\"text-align: right;\">                       0</td><td>Los Angeles </td><td style=\"text-align: right;\">  34.0685</td><td style=\"text-align: right;\"> -118.347</td><td>Private room   </td><td style=\"text-align: right;\">                    2</td><td>false                    </td><td style=\"text-align: right;\">            0</td><td style=\"text-align: right;\">          0</td><td style=\"text-align: right;\">                      nan</td><td style=\"text-align: right;\">              3</td><td style=\"text-align: right;\">             0.069733</td><td style=\"text-align: right;\">                       0</td><td style=\"text-align: right;\">                        0</td><td style=\"text-align: right;\">                          0</td><td style=\"text-align: right;\">                     2</td><td style=\"text-align: right;\">                    62</td><td style=\"text-align: right;\">               7</td><td style=\"text-align: right;\">                7</td><td style=\"text-align: right;\">                                    0</td><td style=\"text-align: right;\">                             0        </td><td style=\"text-align: right;\">                     0        </td><td style=\"text-align: right;\">                 1</td><td style=\"text-align: right;\">              1125</td><td style=\"text-align: right;\">                       nan</td><td>NULL                       </td><td>NULL              </td><td style=\"text-align: right;\">                                   0        </td><td style=\"text-align: right;\">                                         935.143</td><td style=\"text-align: right;\">                                 259.571</td><td style=\"text-align: right;\">                                             36.2857</td><td style=\"text-align: right;\">                                        1</td><td style=\"text-align: right;\">                           9706</td><td style=\"text-align: right;\">   0.5     </td><td style=\"text-align: right;\">                          0.367347</td><td style=\"text-align: right;\">                   29</td><td style=\"text-align: right;\">                      21</td><td style=\"text-align: right;\">                                      89</td><td style=\"text-align: right;\">                                              93.5</td><td style=\"text-align: right;\">                                           65  </td></tr>\n",
       "<tr><td>true              </td><td>2015-03-03 00:00:00</td><td>2015-02-01 00:00:00</td><td>E073FC50-8B2A-485F-8DAA-E66D0E936424</td><td>5EAAD1FA-DEBF-46DE-92AB-32C6A1DCB074</td><td style=\"text-align: right;\">                  340    </td><td style=\"text-align: right;\">                     150</td><td>Los Angeles </td><td style=\"text-align: right;\">  34.1065</td><td style=\"text-align: right;\"> -118.301</td><td>Entire home/apt</td><td style=\"text-align: right;\">                    8</td><td>false                    </td><td style=\"text-align: right;\">           19</td><td style=\"text-align: right;\">          8</td><td style=\"text-align: right;\">                        5</td><td style=\"text-align: right;\">              5</td><td style=\"text-align: right;\">             0.85905 </td><td style=\"text-align: right;\">                      34</td><td style=\"text-align: right;\">                        0</td><td style=\"text-align: right;\">                          1</td><td style=\"text-align: right;\">                     2</td><td style=\"text-align: right;\">                    62</td><td style=\"text-align: right;\">               7</td><td style=\"text-align: right;\">                7</td><td style=\"text-align: right;\">                                    0</td><td style=\"text-align: right;\">                             0.0833333</td><td style=\"text-align: right;\">                     0.225352 </td><td style=\"text-align: right;\">                 1</td><td style=\"text-align: right;\">               365</td><td style=\"text-align: right;\">                       389</td><td>NULL                       </td><td>NULL              </td><td style=\"text-align: right;\">                                   1.06667  </td><td style=\"text-align: right;\">                                         935.143</td><td style=\"text-align: right;\">                                 259.571</td><td style=\"text-align: right;\">                                             36.2857</td><td style=\"text-align: right;\">                                        1</td><td style=\"text-align: right;\">                           9706</td><td style=\"text-align: right;\">   0.724138</td><td style=\"text-align: right;\">                          0.897959</td><td style=\"text-align: right;\">                   23</td><td style=\"text-align: right;\">                      15</td><td style=\"text-align: right;\">                                     128</td><td style=\"text-align: right;\">                                             117.5</td><td style=\"text-align: right;\">                                           70  </td></tr>\n",
       "<tr><td>false             </td><td>2015-03-10 00:00:00</td><td>2015-02-08 00:00:00</td><td>FA43F4DB-19EA-4945-B05B-D2D41C495863</td><td>78A46A22-C320-46F3-8810-34812A662896</td><td style=\"text-align: right;\">                   29    </td><td style=\"text-align: right;\">                       0</td><td>Los Angeles </td><td style=\"text-align: right;\">  34.2151</td><td style=\"text-align: right;\"> -118.535</td><td>Shared room    </td><td style=\"text-align: right;\">                    6</td><td>false                    </td><td style=\"text-align: right;\">           23</td><td style=\"text-align: right;\">          6</td><td style=\"text-align: right;\">                        1</td><td style=\"text-align: right;\">              3</td><td style=\"text-align: right;\">             0.409632</td><td style=\"text-align: right;\">                      20</td><td style=\"text-align: right;\">                        0</td><td style=\"text-align: right;\">                          1</td><td style=\"text-align: right;\">                     2</td><td style=\"text-align: right;\">                    69</td><td style=\"text-align: right;\">               7</td><td style=\"text-align: right;\">                7</td><td style=\"text-align: right;\">                                    0</td><td style=\"text-align: right;\">                             0        </td><td style=\"text-align: right;\">                     0.41     </td><td style=\"text-align: right;\">                 1</td><td style=\"text-align: right;\">              1125</td><td style=\"text-align: right;\">                        29</td><td>NULL                       </td><td>NULL              </td><td style=\"text-align: right;\">                                   0.4      </td><td style=\"text-align: right;\">                                        1083.86 </td><td style=\"text-align: right;\">                                 274.714</td><td style=\"text-align: right;\">                                             44.4286</td><td style=\"text-align: right;\">                                        1</td><td style=\"text-align: right;\">                           9647</td><td style=\"text-align: right;\">   0.814815</td><td style=\"text-align: right;\">                          1.7551  </td><td style=\"text-align: right;\">                   20</td><td style=\"text-align: right;\">                      18</td><td style=\"text-align: right;\">                                      35</td><td style=\"text-align: right;\">                                              35  </td><td style=\"text-align: right;\">                                           29  </td></tr>\n",
       "<tr><td>false             </td><td>2015-03-11 00:00:00</td><td>2015-02-09 00:00:00</td><td>83114506-2EEB-4F1C-87D9-36CC26355AC7</td><td>D5CCFF5C-2846-4CFD-BD0D-EB11E6D2E9CE</td><td style=\"text-align: right;\">                 1300    </td><td style=\"text-align: right;\">                     300</td><td>Los Angeles </td><td style=\"text-align: right;\">  34.104 </td><td style=\"text-align: right;\"> -118.369</td><td>Entire home/apt</td><td style=\"text-align: right;\">                   14</td><td>false                    </td><td style=\"text-align: right;\">            0</td><td style=\"text-align: right;\">          0</td><td style=\"text-align: right;\">                       91</td><td style=\"text-align: right;\">              5</td><td style=\"text-align: right;\">           nan       </td><td style=\"text-align: right;\">                       0</td><td style=\"text-align: right;\">                        0</td><td style=\"text-align: right;\">                          1</td><td style=\"text-align: right;\">                     3</td><td style=\"text-align: right;\">                    70</td><td style=\"text-align: right;\">               7</td><td style=\"text-align: right;\">                7</td><td style=\"text-align: right;\">                                    0</td><td style=\"text-align: right;\">                             0        </td><td style=\"text-align: right;\">                     0.0238095</td><td style=\"text-align: right;\">                 2</td><td style=\"text-align: right;\">                29</td><td style=\"text-align: right;\">                      1500</td><td>NULL                       </td><td>NULL              </td><td style=\"text-align: right;\">                                   0.2      </td><td style=\"text-align: right;\">                                        1104.71 </td><td style=\"text-align: right;\">                                 261.286</td><td style=\"text-align: right;\">                                             46.1429</td><td style=\"text-align: right;\">                                        1</td><td style=\"text-align: right;\">                           9556</td><td style=\"text-align: right;\">   0.692308</td><td style=\"text-align: right;\">                          3.15646 </td><td style=\"text-align: right;\">                   87</td><td style=\"text-align: right;\">                      71</td><td style=\"text-align: right;\">                                     350</td><td style=\"text-align: right;\">                                             372.5</td><td style=\"text-align: right;\">                                          124.5</td></tr>\n",
       "</tbody>\n",
       "</table>"
      ]
     },
     "metadata": {},
     "output_type": "display_data"
    },
    {
     "data": {
      "text/plain": []
     },
     "execution_count": 6,
     "metadata": {},
     "output_type": "execute_result"
    }
   ],
   "source": [
    "data.head()"
   ]
  },
  {
   "cell_type": "markdown",
   "metadata": {},
   "source": [
    "Starting strong: For building up from the base model onwards we want to see how balanced is predicting variable. We will use most of the numeric features and few categorical. Let's talk a look and make sure we are touching anything that requires processing (NaN, high cardinality, etc.). "
   ]
  },
  {
   "cell_type": "code",
   "execution_count": 7,
   "metadata": {},
   "outputs": [
    {
     "data": {
      "text/html": [
       "<table>\n",
       "<thead>\n",
       "<tr><th>dim_is_requested  </th><th style=\"text-align: right;\">  Count</th></tr>\n",
       "</thead>\n",
       "<tbody>\n",
       "<tr><td>false             </td><td style=\"text-align: right;\"> 123769</td></tr>\n",
       "<tr><td>true              </td><td style=\"text-align: right;\">  60510</td></tr>\n",
       "</tbody>\n",
       "</table>"
      ]
     },
     "metadata": {},
     "output_type": "display_data"
    },
    {
     "data": {
      "text/plain": []
     },
     "execution_count": 7,
     "metadata": {},
     "output_type": "execute_result"
    }
   ],
   "source": [
    "data[\"dim_is_requested\"].table()\n"
   ]
  },
  {
   "cell_type": "code",
   "execution_count": 8,
   "metadata": {},
   "outputs": [
    {
     "data": {
      "text/html": [
       "<table>\n",
       "<thead>\n",
       "<tr><th style=\"text-align: right;\">  ds_checkin_gap</th><th style=\"text-align: right;\">  Count</th></tr>\n",
       "</thead>\n",
       "<tbody>\n",
       "<tr><td style=\"text-align: right;\">               0</td><td style=\"text-align: right;\">  10032</td></tr>\n",
       "<tr><td style=\"text-align: right;\">               1</td><td style=\"text-align: right;\">   8050</td></tr>\n",
       "<tr><td style=\"text-align: right;\">               2</td><td style=\"text-align: right;\">   6675</td></tr>\n",
       "<tr><td style=\"text-align: right;\">               3</td><td style=\"text-align: right;\">   5562</td></tr>\n",
       "<tr><td style=\"text-align: right;\">               4</td><td style=\"text-align: right;\">   4998</td></tr>\n",
       "<tr><td style=\"text-align: right;\">               5</td><td style=\"text-align: right;\">   4530</td></tr>\n",
       "<tr><td style=\"text-align: right;\">               6</td><td style=\"text-align: right;\">   4231</td></tr>\n",
       "<tr><td style=\"text-align: right;\">               7</td><td style=\"text-align: right;\"> 137980</td></tr>\n",
       "</tbody>\n",
       "</table>"
      ]
     },
     "metadata": {},
     "output_type": "display_data"
    },
    {
     "data": {
      "text/plain": []
     },
     "execution_count": 8,
     "metadata": {},
     "output_type": "execute_result"
    }
   ],
   "source": [
    "data[\"ds_checkin_gap\"].table()\n"
   ]
  },
  {
   "cell_type": "markdown",
   "metadata": {},
   "source": [
    "XXThe columns  and emp_length are being treated as categoricals instead of numeric because the unit of measure is included. Machine learning algorithms will treat this as a categorical and will not understand that 8 years is closer to 9 years than 1 year. To recitify this, we will use H2O to remove the units of measure and convert the column to numeric.\n"
   ]
  },
  {
   "cell_type": "markdown",
   "metadata": {},
   "source": [
    "Our last cleaning step will be to remove all columns that are not relevant to our use case. Some columns we will not use because they have data leakage. \n",
    "\n"
   ]
  },
  {
   "cell_type": "markdown",
   "metadata": {},
   "source": [
    "\n",
    "The splits is done on the all data 0.70, 0.15, 0.15- training, validation and test set so that the distribution in the training, validation and test set are the same as much as possible and the imblance is not affecting the modeling."
   ]
  },
  {
   "cell_type": "code",
   "execution_count": 34,
   "metadata": {},
   "outputs": [
    {
     "name": "stdout",
     "output_type": "stream",
     "text": [
      "Export File progress: |███████████████████████████████████████████████████| 100%\n",
      "Export File progress: |███████████████████████████████████████████████████| 100%\n",
      "Export File progress: |███████████████████████████████████████████████████| 100%\n"
     ]
    }
   ],
   "source": [
    "#df_train, df_valid, df_test = data.split_frame(ratios=[.7, .15], seed = 1234) #training .70 validation .15 and final scoring on testing .15\n",
    "def au_data_split(dataobj = data, trainsp = 0.7, val_testsp=0.15):\n",
    "    n_size =184279\n",
    "    sploc1 = round(trainsp*n_size)\n",
    "    sploc2 = sploc1 + round(val_testsp*n_size)\n",
    "    \n",
    "    df_train = data[range(0,sploc1),:]\n",
    "    df_valid = data[range(sploc1+1,sploc2),:]\n",
    "    df_test  = data[range(sploc2+1,n_size),:]\n",
    "    #print(\"training split\", df_train.describe)\n",
    "    #print(\"validation split\", df_valid.describe)\n",
    "    #print(\"testing split\", df_test.describe)\n",
    "    return(df_train, df_valid, df_test)\n",
    "    \n",
    "\n",
    "df_train, df_valid, df_test = au_data_split(data, 0.7, 0.15)\n",
    "\n",
    "h2o.export_file( df_train, path= 'data_train_c0.csv')\n",
    "h2o.export_file( df_valid, path= 'data_valid_c0.csv')\n",
    "h2o.export_file( df_test, path= 'data_test_c0.csv')"
   ]
  },
  {
   "cell_type": "markdown",
   "metadata": {},
   "source": [
    "## Step 2. Train Baseline Model\n",
    "We will train an initial model. The goal of our initial model is to provide a baseline AUC that we will try to beat with our feature engineering.\n"
   ]
  },
  {
   "cell_type": "code",
   "execution_count": 10,
   "metadata": {},
   "outputs": [
    {
     "data": {
      "text/html": [
       "<table>\n",
       "<thead>\n",
       "<tr><th>dim_is_requested  </th><th>ds_night           </th><th>id_listing_anon                     </th><th style=\"text-align: right;\">  m_effective_daily_price</th><th style=\"text-align: right;\">  m_pricing_cleaning_fee</th><th style=\"text-align: right;\">  dim_person_capacity</th><th>dim_is_instant_bookable  </th><th style=\"text-align: right;\">  m_checkouts</th><th style=\"text-align: right;\">  m_reviews</th><th style=\"text-align: right;\">  days_since_last_booking</th><th style=\"text-align: right;\">  cancel_policy</th><th style=\"text-align: right;\">  image_quality_score</th><th style=\"text-align: right;\">  m_total_overall_rating</th><th style=\"text-align: right;\">  m_professional_pictures</th><th style=\"text-align: right;\">  dim_has_wireless_internet</th><th style=\"text-align: right;\">  ds_night_day_of_week</th><th style=\"text-align: right;\">  ds_night_day_of_year</th><th style=\"text-align: right;\">  ds_checkin_gap</th><th style=\"text-align: right;\">  ds_checkout_gap</th><th style=\"text-align: right;\">  occ_occupancy_plus_minus_7_ds_night</th><th style=\"text-align: right;\">  occ_occupancy_plus_minus_14_ds_night</th><th style=\"text-align: right;\">  occ_occupancy_trailing_90_ds</th><th style=\"text-align: right;\">  m_minimum_nights</th><th style=\"text-align: right;\">  price_booked_most_recent</th><th>p2_p3_click_through_score  </th><th>p3_inquiry_score  </th><th style=\"text-align: right;\">  listing_m_listing_views_2_6_ds_night_decay</th><th style=\"text-align: right;\">  general_market_m_reservation_requests_0_6_ds_night</th><th style=\"text-align: right;\">  general_market_m_is_booked_0_6_ds_night</th><th style=\"text-align: right;\">  m_available_listings_ds_night</th><th style=\"text-align: right;\">  kdt_score</th><th style=\"text-align: right;\">  r_kdt_listing_views_0_6_avg_n100</th><th style=\"text-align: right;\">  r_kdt_n_active_n100</th><th style=\"text-align: right;\">  r_kdt_n_available_n100</th><th style=\"text-align: right;\">  r_kdt_m_effective_daily_price_n100_p50</th><th style=\"text-align: right;\">  r_kdt_m_effective_daily_price_available_n100_p50</th><th style=\"text-align: right;\">  r_kdt_m_effective_daily_price_booked_n100_p50</th></tr>\n",
       "</thead>\n",
       "<tbody>\n",
       "<tr><td>false             </td><td>2015-01-06 00:00:00</td><td>0AE0C7CC-A8A4-425F-9CCC-8B25DBB94F4D</td><td style=\"text-align: right;\">                  110    </td><td style=\"text-align: right;\">                      60</td><td style=\"text-align: right;\">                    2</td><td>false                    </td><td style=\"text-align: right;\">           24</td><td style=\"text-align: right;\">         19</td><td style=\"text-align: right;\">                      320</td><td style=\"text-align: right;\">              4</td><td style=\"text-align: right;\">             0.830959</td><td style=\"text-align: right;\">                      74</td><td style=\"text-align: right;\">                       16</td><td style=\"text-align: right;\">                          1</td><td style=\"text-align: right;\">                     2</td><td style=\"text-align: right;\">                     6</td><td style=\"text-align: right;\">               0</td><td style=\"text-align: right;\">                7</td><td style=\"text-align: right;\">                                  nan</td><td style=\"text-align: right;\">                           nan        </td><td style=\"text-align: right;\">                     0        </td><td style=\"text-align: right;\">                 5</td><td style=\"text-align: right;\">                        92</td><td>NULL                       </td><td>NULL              </td><td style=\"text-align: right;\">                                   0.133333 </td><td style=\"text-align: right;\">                                             41.4286</td><td style=\"text-align: right;\">                                        1</td><td style=\"text-align: right;\">                           9840</td><td style=\"text-align: right;\">   1.31429 </td><td style=\"text-align: right;\">                          1.79592 </td><td style=\"text-align: right;\">                   57</td><td style=\"text-align: right;\">                      48</td><td style=\"text-align: right;\">                                      79</td><td style=\"text-align: right;\">                                              75  </td><td style=\"text-align: right;\">                                           98  </td></tr>\n",
       "<tr><td>true              </td><td>2015-01-21 00:00:00</td><td>82FDDA07-6993-4CCA-8EE4-FC218D2C07C7</td><td style=\"text-align: right;\">                   70    </td><td style=\"text-align: right;\">                       0</td><td style=\"text-align: right;\">                    2</td><td>true                     </td><td style=\"text-align: right;\">          105</td><td style=\"text-align: right;\">         55</td><td style=\"text-align: right;\">                        3</td><td style=\"text-align: right;\">              3</td><td style=\"text-align: right;\">             0.967384</td><td style=\"text-align: right;\">                     263</td><td style=\"text-align: right;\">                        0</td><td style=\"text-align: right;\">                          1</td><td style=\"text-align: right;\">                     3</td><td style=\"text-align: right;\">                    21</td><td style=\"text-align: right;\">               7</td><td style=\"text-align: right;\">                7</td><td style=\"text-align: right;\">                                  nan</td><td style=\"text-align: right;\">                           nan        </td><td style=\"text-align: right;\">                     0.359551 </td><td style=\"text-align: right;\">                 1</td><td style=\"text-align: right;\">                        70</td><td>NULL                       </td><td>NULL              </td><td style=\"text-align: right;\">                                   0.0666667</td><td style=\"text-align: right;\">                                             51.7143</td><td style=\"text-align: right;\">                                        1</td><td style=\"text-align: right;\">                           9599</td><td style=\"text-align: right;\">   0.535714</td><td style=\"text-align: right;\">                          2.69388 </td><td style=\"text-align: right;\">                   49</td><td style=\"text-align: right;\">                      36</td><td style=\"text-align: right;\">                                      65</td><td style=\"text-align: right;\">                                              65  </td><td style=\"text-align: right;\">                                           42  </td></tr>\n",
       "<tr><td>false             </td><td>2015-01-22 00:00:00</td><td>69B2069D-CF8F-49A7-B559-9619DBE86A7D</td><td style=\"text-align: right;\">                  125    </td><td style=\"text-align: right;\">                       0</td><td style=\"text-align: right;\">                    1</td><td>false                    </td><td style=\"text-align: right;\">            0</td><td style=\"text-align: right;\">          0</td><td style=\"text-align: right;\">                      nan</td><td style=\"text-align: right;\">              3</td><td style=\"text-align: right;\">             0.485231</td><td style=\"text-align: right;\">                       0</td><td style=\"text-align: right;\">                        0</td><td style=\"text-align: right;\">                          1</td><td style=\"text-align: right;\">                     4</td><td style=\"text-align: right;\">                    22</td><td style=\"text-align: right;\">               7</td><td style=\"text-align: right;\">                7</td><td style=\"text-align: right;\">                                  nan</td><td style=\"text-align: right;\">                           nan        </td><td style=\"text-align: right;\">                     0        </td><td style=\"text-align: right;\">                 1</td><td style=\"text-align: right;\">                       nan</td><td>NULL                       </td><td>NULL              </td><td style=\"text-align: right;\">                                   0        </td><td style=\"text-align: right;\">                                             51.7143</td><td style=\"text-align: right;\">                                        1</td><td style=\"text-align: right;\">                           9514</td><td style=\"text-align: right;\">   0.714286</td><td style=\"text-align: right;\">                          2.77551 </td><td style=\"text-align: right;\">                   49</td><td style=\"text-align: right;\">                      35</td><td style=\"text-align: right;\">                                      65</td><td style=\"text-align: right;\">                                              66.5</td><td style=\"text-align: right;\">                                           46  </td></tr>\n",
       "<tr><td>true              </td><td>2015-02-02 00:00:00</td><td>66BAADE6-9352-4D7C-B590-745899BD12B3</td><td style=\"text-align: right;\">                  126.867</td><td style=\"text-align: right;\">                     125</td><td style=\"text-align: right;\">                    6</td><td>false                    </td><td style=\"text-align: right;\">            0</td><td style=\"text-align: right;\">          0</td><td style=\"text-align: right;\">                      nan</td><td style=\"text-align: right;\">              5</td><td style=\"text-align: right;\">             0.30931 </td><td style=\"text-align: right;\">                       0</td><td style=\"text-align: right;\">                        0</td><td style=\"text-align: right;\">                          1</td><td style=\"text-align: right;\">                     1</td><td style=\"text-align: right;\">                    33</td><td style=\"text-align: right;\">               7</td><td style=\"text-align: right;\">                7</td><td style=\"text-align: right;\">                                    0</td><td style=\"text-align: right;\">                             0        </td><td style=\"text-align: right;\">                     0        </td><td style=\"text-align: right;\">                 3</td><td style=\"text-align: right;\">                       nan</td><td>NULL                       </td><td>NULL              </td><td style=\"text-align: right;\">                                   0.733333 </td><td style=\"text-align: right;\">                                             41.8571</td><td style=\"text-align: right;\">                                        1</td><td style=\"text-align: right;\">                           9739</td><td style=\"text-align: right;\">   1.74468 </td><td style=\"text-align: right;\">                          4.57653 </td><td style=\"text-align: right;\">                  113</td><td style=\"text-align: right;\">                      52</td><td style=\"text-align: right;\">                                     120</td><td style=\"text-align: right;\">                                             115  </td><td style=\"text-align: right;\">                                          115  </td></tr>\n",
       "<tr><td>true              </td><td>2015-02-13 00:00:00</td><td>01E3589E-A50A-494B-8CB2-9645B29476D0</td><td style=\"text-align: right;\">                  210.714</td><td style=\"text-align: right;\">                     200</td><td style=\"text-align: right;\">                    5</td><td>false                    </td><td style=\"text-align: right;\">            9</td><td style=\"text-align: right;\">          1</td><td style=\"text-align: right;\">                       34</td><td style=\"text-align: right;\">              5</td><td style=\"text-align: right;\">             0.335816</td><td style=\"text-align: right;\">                       5</td><td style=\"text-align: right;\">                        0</td><td style=\"text-align: right;\">                          1</td><td style=\"text-align: right;\">                     5</td><td style=\"text-align: right;\">                    44</td><td style=\"text-align: right;\">               7</td><td style=\"text-align: right;\">                7</td><td style=\"text-align: right;\">                                    0</td><td style=\"text-align: right;\">                             0        </td><td style=\"text-align: right;\">                     0.133333 </td><td style=\"text-align: right;\">                 2</td><td style=\"text-align: right;\">                       296</td><td>NULL                       </td><td>NULL              </td><td style=\"text-align: right;\">                                   1        </td><td style=\"text-align: right;\">                                             78.8571</td><td style=\"text-align: right;\">                                        1</td><td style=\"text-align: right;\">                           9114</td><td style=\"text-align: right;\">   1.2     </td><td style=\"text-align: right;\">                          4.87755 </td><td style=\"text-align: right;\">                   97</td><td style=\"text-align: right;\">                      57</td><td style=\"text-align: right;\">                                     150</td><td style=\"text-align: right;\">                                             157.5</td><td style=\"text-align: right;\">                                          164.5</td></tr>\n",
       "<tr><td>false             </td><td>2015-02-23 00:00:00</td><td>B6222B7A-4D2D-4770-9B2F-9C2E711D953F</td><td style=\"text-align: right;\">                   36    </td><td style=\"text-align: right;\">                      35</td><td style=\"text-align: right;\">                    3</td><td>false                    </td><td style=\"text-align: right;\">            6</td><td style=\"text-align: right;\">          2</td><td style=\"text-align: right;\">                       33</td><td style=\"text-align: right;\">              5</td><td style=\"text-align: right;\">             0.727793</td><td style=\"text-align: right;\">                       5</td><td style=\"text-align: right;\">                        0</td><td style=\"text-align: right;\">                          1</td><td style=\"text-align: right;\">                     1</td><td style=\"text-align: right;\">                    54</td><td style=\"text-align: right;\">               7</td><td style=\"text-align: right;\">                7</td><td style=\"text-align: right;\">                                    0</td><td style=\"text-align: right;\">                             0        </td><td style=\"text-align: right;\">                     0.457447 </td><td style=\"text-align: right;\">                 1</td><td style=\"text-align: right;\">                        36</td><td>NULL                       </td><td>NULL              </td><td style=\"text-align: right;\">                                   0.0666667</td><td style=\"text-align: right;\">                                             58.8571</td><td style=\"text-align: right;\">                                        1</td><td style=\"text-align: right;\">                           9093</td><td style=\"text-align: right;\">   0.666667</td><td style=\"text-align: right;\">                          1.30612 </td><td style=\"text-align: right;\">                   84</td><td style=\"text-align: right;\">                      71</td><td style=\"text-align: right;\">                                      60</td><td style=\"text-align: right;\">                                              60  </td><td style=\"text-align: right;\">                                           40  </td></tr>\n",
       "<tr><td>false             </td><td>2015-03-03 00:00:00</td><td>63974898-6E06-4CA9-B6A1-D315D28E64AA</td><td style=\"text-align: right;\">                  109    </td><td style=\"text-align: right;\">                       0</td><td style=\"text-align: right;\">                    2</td><td>false                    </td><td style=\"text-align: right;\">            0</td><td style=\"text-align: right;\">          0</td><td style=\"text-align: right;\">                      nan</td><td style=\"text-align: right;\">              3</td><td style=\"text-align: right;\">             0.069733</td><td style=\"text-align: right;\">                       0</td><td style=\"text-align: right;\">                        0</td><td style=\"text-align: right;\">                          0</td><td style=\"text-align: right;\">                     2</td><td style=\"text-align: right;\">                    62</td><td style=\"text-align: right;\">               7</td><td style=\"text-align: right;\">                7</td><td style=\"text-align: right;\">                                    0</td><td style=\"text-align: right;\">                             0        </td><td style=\"text-align: right;\">                     0        </td><td style=\"text-align: right;\">                 1</td><td style=\"text-align: right;\">                       nan</td><td>NULL                       </td><td>NULL              </td><td style=\"text-align: right;\">                                   0        </td><td style=\"text-align: right;\">                                             36.2857</td><td style=\"text-align: right;\">                                        1</td><td style=\"text-align: right;\">                           9706</td><td style=\"text-align: right;\">   0.5     </td><td style=\"text-align: right;\">                          0.367347</td><td style=\"text-align: right;\">                   29</td><td style=\"text-align: right;\">                      21</td><td style=\"text-align: right;\">                                      89</td><td style=\"text-align: right;\">                                              93.5</td><td style=\"text-align: right;\">                                           65  </td></tr>\n",
       "<tr><td>true              </td><td>2015-03-03 00:00:00</td><td>E073FC50-8B2A-485F-8DAA-E66D0E936424</td><td style=\"text-align: right;\">                  340    </td><td style=\"text-align: right;\">                     150</td><td style=\"text-align: right;\">                    8</td><td>false                    </td><td style=\"text-align: right;\">           19</td><td style=\"text-align: right;\">          8</td><td style=\"text-align: right;\">                        5</td><td style=\"text-align: right;\">              5</td><td style=\"text-align: right;\">             0.85905 </td><td style=\"text-align: right;\">                      34</td><td style=\"text-align: right;\">                        0</td><td style=\"text-align: right;\">                          1</td><td style=\"text-align: right;\">                     2</td><td style=\"text-align: right;\">                    62</td><td style=\"text-align: right;\">               7</td><td style=\"text-align: right;\">                7</td><td style=\"text-align: right;\">                                    0</td><td style=\"text-align: right;\">                             0.0833333</td><td style=\"text-align: right;\">                     0.225352 </td><td style=\"text-align: right;\">                 1</td><td style=\"text-align: right;\">                       389</td><td>NULL                       </td><td>NULL              </td><td style=\"text-align: right;\">                                   1.06667  </td><td style=\"text-align: right;\">                                             36.2857</td><td style=\"text-align: right;\">                                        1</td><td style=\"text-align: right;\">                           9706</td><td style=\"text-align: right;\">   0.724138</td><td style=\"text-align: right;\">                          0.897959</td><td style=\"text-align: right;\">                   23</td><td style=\"text-align: right;\">                      15</td><td style=\"text-align: right;\">                                     128</td><td style=\"text-align: right;\">                                             117.5</td><td style=\"text-align: right;\">                                           70  </td></tr>\n",
       "<tr><td>false             </td><td>2015-03-10 00:00:00</td><td>FA43F4DB-19EA-4945-B05B-D2D41C495863</td><td style=\"text-align: right;\">                   29    </td><td style=\"text-align: right;\">                       0</td><td style=\"text-align: right;\">                    6</td><td>false                    </td><td style=\"text-align: right;\">           23</td><td style=\"text-align: right;\">          6</td><td style=\"text-align: right;\">                        1</td><td style=\"text-align: right;\">              3</td><td style=\"text-align: right;\">             0.409632</td><td style=\"text-align: right;\">                      20</td><td style=\"text-align: right;\">                        0</td><td style=\"text-align: right;\">                          1</td><td style=\"text-align: right;\">                     2</td><td style=\"text-align: right;\">                    69</td><td style=\"text-align: right;\">               7</td><td style=\"text-align: right;\">                7</td><td style=\"text-align: right;\">                                    0</td><td style=\"text-align: right;\">                             0        </td><td style=\"text-align: right;\">                     0.41     </td><td style=\"text-align: right;\">                 1</td><td style=\"text-align: right;\">                        29</td><td>NULL                       </td><td>NULL              </td><td style=\"text-align: right;\">                                   0.4      </td><td style=\"text-align: right;\">                                             44.4286</td><td style=\"text-align: right;\">                                        1</td><td style=\"text-align: right;\">                           9647</td><td style=\"text-align: right;\">   0.814815</td><td style=\"text-align: right;\">                          1.7551  </td><td style=\"text-align: right;\">                   20</td><td style=\"text-align: right;\">                      18</td><td style=\"text-align: right;\">                                      35</td><td style=\"text-align: right;\">                                              35  </td><td style=\"text-align: right;\">                                           29  </td></tr>\n",
       "<tr><td>false             </td><td>2015-03-11 00:00:00</td><td>83114506-2EEB-4F1C-87D9-36CC26355AC7</td><td style=\"text-align: right;\">                 1300    </td><td style=\"text-align: right;\">                     300</td><td style=\"text-align: right;\">                   14</td><td>false                    </td><td style=\"text-align: right;\">            0</td><td style=\"text-align: right;\">          0</td><td style=\"text-align: right;\">                       91</td><td style=\"text-align: right;\">              5</td><td style=\"text-align: right;\">           nan       </td><td style=\"text-align: right;\">                       0</td><td style=\"text-align: right;\">                        0</td><td style=\"text-align: right;\">                          1</td><td style=\"text-align: right;\">                     3</td><td style=\"text-align: right;\">                    70</td><td style=\"text-align: right;\">               7</td><td style=\"text-align: right;\">                7</td><td style=\"text-align: right;\">                                    0</td><td style=\"text-align: right;\">                             0        </td><td style=\"text-align: right;\">                     0.0238095</td><td style=\"text-align: right;\">                 2</td><td style=\"text-align: right;\">                      1500</td><td>NULL                       </td><td>NULL              </td><td style=\"text-align: right;\">                                   0.2      </td><td style=\"text-align: right;\">                                             46.1429</td><td style=\"text-align: right;\">                                        1</td><td style=\"text-align: right;\">                           9556</td><td style=\"text-align: right;\">   0.692308</td><td style=\"text-align: right;\">                          3.15646 </td><td style=\"text-align: right;\">                   87</td><td style=\"text-align: right;\">                      71</td><td style=\"text-align: right;\">                                     350</td><td style=\"text-align: right;\">                                             372.5</td><td style=\"text-align: right;\">                                          124.5</td></tr>\n",
       "</tbody>\n",
       "</table>"
      ]
     },
     "metadata": {},
     "output_type": "display_data"
    },
    {
     "data": {
      "text/plain": []
     },
     "execution_count": 10,
     "metadata": {},
     "output_type": "execute_result"
    }
   ],
   "source": [
    "# Filter to relevant columns\n",
    "relevant_cols = [ \n",
    "'dim_is_requested',\n",
    "'ds_night', \n",
    "'id_listing_anon', \n",
    "'m_effective_daily_price',\n",
    "'m_pricing_cleaning_fee', \n",
    "#needs cleaning  'dim_market', \n",
    "#use kdt instead 'dim_lat', \n",
    "#use kdt instead 'dim_lng', \n",
    "#needs process  'dim_room_type',\n",
    "'dim_person_capacity', #num\n",
    "'dim_is_instant_bookable', #bool\n",
    "'m_checkouts',  #num\n",
    "'m_reviews', #num\n",
    "'days_since_last_booking', #num\n",
    "'cancel_policy', #cat 3-9\n",
    "'image_quality_score', #num\n",
    "'m_total_overall_rating', #num\n",
    "'m_professional_pictures', #num\n",
    "'dim_has_wireless_internet', #bool\n",
    "'ds_night_day_of_week', #bool\n",
    "'ds_night_day_of_year', #bool\n",
    "'ds_checkin_gap', #num 0-6\n",
    "'ds_checkout_gap', #num 0-6\n",
    "'occ_occupancy_plus_minus_7_ds_night', #num \n",
    "'occ_occupancy_plus_minus_14_ds_night', #num \n",
    "'occ_occupancy_trailing_90_ds', #num \n",
    "'m_minimum_nights', #num \n",
    "#'m_maximum_nights', \n",
    "'price_booked_most_recent', #num \n",
    "'p2_p3_click_through_score', #num \n",
    "'p3_inquiry_score',  #num \n",
    "'listing_m_listing_views_2_6_ds_night_decay', #num \n",
    "#'general_market_m_unique_searchers_0_6_ds_night',#num \n",
    "#'general_market_m_contacts_0_6_ds_night',#num \n",
    "'general_market_m_reservation_requests_0_6_ds_night',#num \n",
    "'general_market_m_is_booked_0_6_ds_night',\n",
    "'m_available_listings_ds_night',\n",
    "'kdt_score', \n",
    "'r_kdt_listing_views_0_6_avg_n100', \n",
    "'r_kdt_n_active_n100', \n",
    "'r_kdt_n_available_n100', \n",
    "'r_kdt_m_effective_daily_price_n100_p50', \n",
    "'r_kdt_m_effective_daily_price_available_n100_p50',\n",
    "'r_kdt_m_effective_daily_price_booked_n100_p50'\n",
    "\n",
    "]\n",
    "\n",
    "data = data[relevant_cols]\n",
    "data.head()\n"
   ]
  },
  {
   "cell_type": "code",
   "execution_count": 13,
   "metadata": {},
   "outputs": [],
   "source": [
    "target = \"dim_is_requested\"\n",
    "predictors = list(set(df_train.col_names) - set([target]))\n",
    "\n"
   ]
  },
  {
   "cell_type": "code",
   "execution_count": 14,
   "metadata": {},
   "outputs": [
    {
     "name": "stdout",
     "output_type": "stream",
     "text": [
      "gbm Model Build progress: |███████████████████████████████████████████████| 100%\n"
     ]
    }
   ],
   "source": [
    "# Train initial GBM model\n",
    "df_train[\"dim_is_requested\"].asfactor()\n",
    "\n",
    "gbm_baseline = H2OGradientBoostingEstimator(seed = 1234, model_id = \"gbm_baseline.hex\", \n",
    "                                            ntrees = 500, \n",
    "                                            stopping_rounds = 10, score_tree_interval = 5, # early stopping\n",
    "                                            stopping_metric = \"AUC\",\n",
    "                                            nfolds = 5 \n",
    "                                           )\n",
    "gbm_baseline.train(x = predictors, y = target, training_frame = df_train)"
   ]
  },
  {
   "cell_type": "code",
   "execution_count": 77,
   "metadata": {},
   "outputs": [
    {
     "name": "stdout",
     "output_type": "stream",
     "text": [
      "AUC on CV: 0.905\n"
     ]
    }
   ],
   "source": [
    "print(\"AUC on CV: \" + str(round(gbm_baseline.auc(xval = True), 3))) #This was done for a random split, no seed on split, AUC without seed change: +0.008, same size 0.7,0.15,0.15. \n"
   ]
  },
  {
   "cell_type": "code",
   "execution_count": 15,
   "metadata": {},
   "outputs": [
    {
     "name": "stdout",
     "output_type": "stream",
     "text": [
      "AUC on CV: 0.907\n"
     ]
    }
   ],
   "source": [
    "print(\"AUC on CV: \" + str(round(gbm_baseline.auc(xval = True), 3))) #This is done on split according to date, same size 0.7,0.15,0.15, same model. \n"
   ]
  },
  {
   "cell_type": "markdown",
   "metadata": {},
   "source": [
    "With a same split ratios but spliting according to date the AUC on CV trained on the same model above is:\n",
    "AUC on CV: 0.904\n",
    "\n",
    "Almost similar but slightly different, different seeds etc., splits are not causing too much noise or balance (same AUC). This is good."
   ]
  },
  {
   "cell_type": "markdown",
   "metadata": {},
   "source": [
    "We notice the high AUC. (XGBoost is a strong model to start with. handling Nulls, categorical features, etc.) Note, we didn't have any NAs in the target label and multiple runs of the base model with/without seed is not showing much change (is good thing) data target feature is about 30-70 percent so not very imblanced either (comparing to some well known datasets like credit card fraud detection data or anamaly detection data. So let's look at the confusion matrics, plot actual vs predictions and also residuals error plot. \n",
    "\n"
   ]
  },
  {
   "cell_type": "code",
   "execution_count": 19,
   "metadata": {},
   "outputs": [
    {
     "data": {
      "image/png": "[encoded data removed]",
      "text/plain": [
       "<Figure size 1008x720 with 1 Axes>"
      ]
     },
     "metadata": {
      "needs_background": "light"
     },
     "output_type": "display_data"
    }
   ],
   "source": [
    "gbm_baseline.varimp_plot()\n"
   ]
  },
  {
   "cell_type": "code",
   "execution_count": 20,
   "metadata": {},
   "outputs": [
    {
     "name": "stdout",
     "output_type": "stream",
     "text": [
      "gbm prediction progress: |████████████████████████████████████████████████| 100%\n"
     ]
    }
   ],
   "source": [
    "df_test[\"dim_is_requested\"].asfactor()# Eval performance on the test data\n",
    "\n",
    "perf_base_test = gbm_baseline.model_performance(df_test)\n",
    "\n",
    "\n",
    "# Generate predictions on a test set \n",
    "pred = gbm_baseline.predict(df_test)"
   ]
  },
  {
   "cell_type": "code",
   "execution_count": 21,
   "metadata": {},
   "outputs": [
    {
     "name": "stdout",
     "output_type": "stream",
     "text": [
      "Model Details\n",
      "=============\n",
      "H2OGradientBoostingEstimator :  Gradient Boosting Machine\n",
      "Model Key:  gbm_baseline.hex\n",
      "\n",
      "\n",
      "ModelMetricsBinomial: gbm\n",
      "** Reported on train data. **\n",
      "\n",
      "MSE: 0.09487101514895245\n",
      "RMSE: 0.30801138801828815\n",
      "LogLoss: 0.3099939298214721\n",
      "Mean Per-Class Error: 0.1415156769112742\n",
      "AUC: 0.9352958985109001\n",
      "pr_auc: 0.884628850178733\n",
      "Gini: 0.8705917970218002\n",
      "Confusion Matrix (Act/Pred) for max f1 @ threshold = 0.40150780279273307: \n"
     ]
    },
    {
     "data": {
      "text/html": [
       "<div style=\"overflow:auto\"><table style=\"width:50%\"><tr><td><b></b></td>\n",
       "<td><b>false</b></td>\n",
       "<td><b>true</b></td>\n",
       "<td><b>Error</b></td>\n",
       "<td><b>Rate</b></td></tr>\n",
       "<tr><td>false</td>\n",
       "<td>76601.0</td>\n",
       "<td>10089.0</td>\n",
       "<td>0.1164</td>\n",
       "<td> (10089.0/86690.0)</td></tr>\n",
       "<tr><td>true</td>\n",
       "<td>7201.0</td>\n",
       "<td>35104.0</td>\n",
       "<td>0.1702</td>\n",
       "<td> (7201.0/42305.0)</td></tr>\n",
       "<tr><td>Total</td>\n",
       "<td>83802.0</td>\n",
       "<td>45193.0</td>\n",
       "<td>0.134</td>\n",
       "<td> (17290.0/128995.0)</td></tr></table></div>"
      ],
      "text/plain": [
       "       false    true    Error    Rate\n",
       "-----  -------  ------  -------  ------------------\n",
       "false  76601    10089   0.1164   (10089.0/86690.0)\n",
       "true   7201     35104   0.1702   (7201.0/42305.0)\n",
       "Total  83802    45193   0.134    (17290.0/128995.0)"
      ]
     },
     "metadata": {},
     "output_type": "display_data"
    },
    {
     "name": "stdout",
     "output_type": "stream",
     "text": [
      "Maximum Metrics: Maximum metrics at their respective thresholds\n",
      "\n"
     ]
    },
    {
     "data": {
      "text/html": [
       "<div style=\"overflow:auto\"><table style=\"width:50%\"><tr><td><b>metric</b></td>\n",
       "<td><b>threshold</b></td>\n",
       "<td><b>value</b></td>\n",
       "<td><b>idx</b></td></tr>\n",
       "<tr><td>max f1</td>\n",
       "<td>0.4015078</td>\n",
       "<td>0.8023955</td>\n",
       "<td>213.0</td></tr>\n",
       "<tr><td>max f2</td>\n",
       "<td>0.2237822</td>\n",
       "<td>0.8537518</td>\n",
       "<td>277.0</td></tr>\n",
       "<tr><td>max f0point5</td>\n",
       "<td>0.6040646</td>\n",
       "<td>0.8294253</td>\n",
       "<td>144.0</td></tr>\n",
       "<tr><td>max accuracy</td>\n",
       "<td>0.4885876</td>\n",
       "<td>0.8706927</td>\n",
       "<td>183.0</td></tr>\n",
       "<tr><td>max precision</td>\n",
       "<td>0.9969069</td>\n",
       "<td>1.0</td>\n",
       "<td>0.0</td></tr>\n",
       "<tr><td>max recall</td>\n",
       "<td>0.0079964</td>\n",
       "<td>1.0</td>\n",
       "<td>394.0</td></tr>\n",
       "<tr><td>max specificity</td>\n",
       "<td>0.9969069</td>\n",
       "<td>1.0</td>\n",
       "<td>0.0</td></tr>\n",
       "<tr><td>max absolute_mcc</td>\n",
       "<td>0.4368850</td>\n",
       "<td>0.7038113</td>\n",
       "<td>201.0</td></tr>\n",
       "<tr><td>max min_per_class_accuracy</td>\n",
       "<td>0.3556188</td>\n",
       "<td>0.8579421</td>\n",
       "<td>229.0</td></tr>\n",
       "<tr><td>max mean_per_class_accuracy</td>\n",
       "<td>0.3456974</td>\n",
       "<td>0.8584843</td>\n",
       "<td>232.0</td></tr></table></div>"
      ],
      "text/plain": [
       "metric                       threshold    value     idx\n",
       "---------------------------  -----------  --------  -----\n",
       "max f1                       0.401508     0.802395  213\n",
       "max f2                       0.223782     0.853752  277\n",
       "max f0point5                 0.604065     0.829425  144\n",
       "max accuracy                 0.488588     0.870693  183\n",
       "max precision                0.996907     1         0\n",
       "max recall                   0.00799638   1         394\n",
       "max specificity              0.996907     1         0\n",
       "max absolute_mcc             0.436885     0.703811  201\n",
       "max min_per_class_accuracy   0.355619     0.857942  229\n",
       "max mean_per_class_accuracy  0.345697     0.858484  232"
      ]
     },
     "metadata": {},
     "output_type": "display_data"
    },
    {
     "name": "stdout",
     "output_type": "stream",
     "text": [
      "Gains/Lift Table: Avg response rate: 32.80 %, avg score: 32.80 %\n",
      "\n"
     ]
    },
    {
     "data": {
      "text/html": [
       "<div style=\"overflow:auto\"><table style=\"width:50%\"><tr><td><b></b></td>\n",
       "<td><b>group</b></td>\n",
       "<td><b>cumulative_data_fraction</b></td>\n",
       "<td><b>lower_threshold</b></td>\n",
       "<td><b>lift</b></td>\n",
       "<td><b>cumulative_lift</b></td>\n",
       "<td><b>response_rate</b></td>\n",
       "<td><b>score</b></td>\n",
       "<td><b>cumulative_response_rate</b></td>\n",
       "<td><b>cumulative_score</b></td>\n",
       "<td><b>capture_rate</b></td>\n",
       "<td><b>cumulative_capture_rate</b></td>\n",
       "<td><b>gain</b></td>\n",
       "<td><b>cumulative_gain</b></td></tr>\n",
       "<tr><td></td>\n",
       "<td>1</td>\n",
       "<td>0.0100004</td>\n",
       "<td>0.9791600</td>\n",
       "<td>3.0491668</td>\n",
       "<td>3.0491668</td>\n",
       "<td>1.0</td>\n",
       "<td>0.9878527</td>\n",
       "<td>1.0</td>\n",
       "<td>0.9878527</td>\n",
       "<td>0.0304928</td>\n",
       "<td>0.0304928</td>\n",
       "<td>204.9166765</td>\n",
       "<td>204.9166765</td></tr>\n",
       "<tr><td></td>\n",
       "<td>2</td>\n",
       "<td>0.0200008</td>\n",
       "<td>0.9643337</td>\n",
       "<td>3.0326209</td>\n",
       "<td>3.0408938</td>\n",
       "<td>0.9945736</td>\n",
       "<td>0.9717629</td>\n",
       "<td>0.9972868</td>\n",
       "<td>0.9798078</td>\n",
       "<td>0.0303274</td>\n",
       "<td>0.0608202</td>\n",
       "<td>203.2620899</td>\n",
       "<td>204.0893832</td></tr>\n",
       "<tr><td></td>\n",
       "<td>3</td>\n",
       "<td>0.0300012</td>\n",
       "<td>0.9511552</td>\n",
       "<td>3.0278935</td>\n",
       "<td>3.0365604</td>\n",
       "<td>0.9930233</td>\n",
       "<td>0.9576857</td>\n",
       "<td>0.9958656</td>\n",
       "<td>0.9724338</td>\n",
       "<td>0.0302801</td>\n",
       "<td>0.0911003</td>\n",
       "<td>202.7893509</td>\n",
       "<td>203.6560391</td></tr>\n",
       "<tr><td></td>\n",
       "<td>4</td>\n",
       "<td>0.0400016</td>\n",
       "<td>0.9388492</td>\n",
       "<td>3.0137113</td>\n",
       "<td>3.0308481</td>\n",
       "<td>0.9883721</td>\n",
       "<td>0.9451128</td>\n",
       "<td>0.9939922</td>\n",
       "<td>0.9656035</td>\n",
       "<td>0.0301383</td>\n",
       "<td>0.1212386</td>\n",
       "<td>201.3711338</td>\n",
       "<td>203.0848128</td></tr>\n",
       "<tr><td></td>\n",
       "<td>5</td>\n",
       "<td>0.0500019</td>\n",
       "<td>0.9257390</td>\n",
       "<td>3.0089839</td>\n",
       "<td>3.0264753</td>\n",
       "<td>0.9868217</td>\n",
       "<td>0.9323286</td>\n",
       "<td>0.9925581</td>\n",
       "<td>0.9589485</td>\n",
       "<td>0.0300910</td>\n",
       "<td>0.1513296</td>\n",
       "<td>200.8983947</td>\n",
       "<td>202.6475292</td></tr>\n",
       "<tr><td></td>\n",
       "<td>6</td>\n",
       "<td>0.1000039</td>\n",
       "<td>0.8583259</td>\n",
       "<td>2.9380731</td>\n",
       "<td>2.9822742</td>\n",
       "<td>0.9635659</td>\n",
       "<td>0.8926472</td>\n",
       "<td>0.9780620</td>\n",
       "<td>0.9257979</td>\n",
       "<td>0.1469093</td>\n",
       "<td>0.2982390</td>\n",
       "<td>193.8073092</td>\n",
       "<td>198.2274192</td></tr>\n",
       "<tr><td></td>\n",
       "<td>7</td>\n",
       "<td>0.1500058</td>\n",
       "<td>0.7819459</td>\n",
       "<td>2.7664688</td>\n",
       "<td>2.9103391</td>\n",
       "<td>0.9072868</td>\n",
       "<td>0.8211174</td>\n",
       "<td>0.9544703</td>\n",
       "<td>0.8909044</td>\n",
       "<td>0.1383288</td>\n",
       "<td>0.4365678</td>\n",
       "<td>176.6468823</td>\n",
       "<td>191.0339069</td></tr>\n",
       "<tr><td></td>\n",
       "<td>8</td>\n",
       "<td>0.2</td>\n",
       "<td>0.6944494</td>\n",
       "<td>2.4959763</td>\n",
       "<td>2.8067604</td>\n",
       "<td>0.8185765</td>\n",
       "<td>0.7390834</td>\n",
       "<td>0.9205008</td>\n",
       "<td>0.8529535</td>\n",
       "<td>0.1247843</td>\n",
       "<td>0.5613521</td>\n",
       "<td>149.5976330</td>\n",
       "<td>180.6760430</td></tr>\n",
       "<tr><td></td>\n",
       "<td>9</td>\n",
       "<td>0.3000039</td>\n",
       "<td>0.4959936</td>\n",
       "<td>1.9878676</td>\n",
       "<td>2.5337891</td>\n",
       "<td>0.6519380</td>\n",
       "<td>0.5960985</td>\n",
       "<td>0.8309775</td>\n",
       "<td>0.7673330</td>\n",
       "<td>0.1987945</td>\n",
       "<td>0.7601466</td>\n",
       "<td>98.7867635</td>\n",
       "<td>153.3789112</td></tr>\n",
       "<tr><td></td>\n",
       "<td>10</td>\n",
       "<td>0.4</td>\n",
       "<td>0.3171209</td>\n",
       "<td>1.1991955</td>\n",
       "<td>2.2001536</td>\n",
       "<td>0.3932863</td>\n",
       "<td>0.4026878</td>\n",
       "<td>0.7215590</td>\n",
       "<td>0.6761752</td>\n",
       "<td>0.1199149</td>\n",
       "<td>0.8800615</td>\n",
       "<td>19.9195519</td>\n",
       "<td>120.0153646</td></tr>\n",
       "<tr><td></td>\n",
       "<td>11</td>\n",
       "<td>0.5000039</td>\n",
       "<td>0.1934149</td>\n",
       "<td>0.6188154</td>\n",
       "<td>1.8838762</td>\n",
       "<td>0.2029457</td>\n",
       "<td>0.2508882</td>\n",
       "<td>0.6178331</td>\n",
       "<td>0.5911152</td>\n",
       "<td>0.0618839</td>\n",
       "<td>0.9419454</td>\n",
       "<td>-38.1184605</td>\n",
       "<td>88.3876189</td></tr>\n",
       "<tr><td></td>\n",
       "<td>12</td>\n",
       "<td>0.6</td>\n",
       "<td>0.1142505</td>\n",
       "<td>0.3115592</td>\n",
       "<td>1.6218335</td>\n",
       "<td>0.1021785</td>\n",
       "<td>0.1507850</td>\n",
       "<td>0.5318940</td>\n",
       "<td>0.5177296</td>\n",
       "<td>0.0311547</td>\n",
       "<td>0.9731001</td>\n",
       "<td>-68.8440825</td>\n",
       "<td>62.1833511</td></tr>\n",
       "<tr><td></td>\n",
       "<td>13</td>\n",
       "<td>0.6999961</td>\n",
       "<td>0.0651848</td>\n",
       "<td>0.1569615</td>\n",
       "<td>1.4125730</td>\n",
       "<td>0.0514769</td>\n",
       "<td>0.0877341</td>\n",
       "<td>0.4632653</td>\n",
       "<td>0.4563037</td>\n",
       "<td>0.0156955</td>\n",
       "<td>0.9887957</td>\n",
       "<td>-84.3038473</td>\n",
       "<td>41.2573037</td></tr>\n",
       "<tr><td></td>\n",
       "<td>14</td>\n",
       "<td>0.8</td>\n",
       "<td>0.0358130</td>\n",
       "<td>0.0732746</td>\n",
       "<td>1.2451542</td>\n",
       "<td>0.0240310</td>\n",
       "<td>0.0493429</td>\n",
       "<td>0.4083589</td>\n",
       "<td>0.4054317</td>\n",
       "<td>0.0073277</td>\n",
       "<td>0.9961234</td>\n",
       "<td>-92.6725450</td>\n",
       "<td>24.5154237</td></tr>\n",
       "<tr><td></td>\n",
       "<td>15</td>\n",
       "<td>0.8999961</td>\n",
       "<td>0.0175867</td>\n",
       "<td>0.0345126</td>\n",
       "<td>1.1106431</td>\n",
       "<td>0.0113187</td>\n",
       "<td>0.0259063</td>\n",
       "<td>0.3642448</td>\n",
       "<td>0.3632636</td>\n",
       "<td>0.0034511</td>\n",
       "<td>0.9995745</td>\n",
       "<td>-96.5487375</td>\n",
       "<td>11.0643137</td></tr>\n",
       "<tr><td></td>\n",
       "<td>16</td>\n",
       "<td>1.0</td>\n",
       "<td>0.0002075</td>\n",
       "<td>0.0042547</td>\n",
       "<td>1.0</td>\n",
       "<td>0.0013953</td>\n",
       "<td>0.0102882</td>\n",
       "<td>0.3279584</td>\n",
       "<td>0.3279647</td>\n",
       "<td>0.0004255</td>\n",
       "<td>1.0</td>\n",
       "<td>-99.5745349</td>\n",
       "<td>0.0</td></tr></table></div>"
      ],
      "text/plain": [
       "    group    cumulative_data_fraction    lower_threshold    lift        cumulative_lift    response_rate    score      cumulative_response_rate    cumulative_score    capture_rate    cumulative_capture_rate    gain      cumulative_gain\n",
       "--  -------  --------------------------  -----------------  ----------  -----------------  ---------------  ---------  --------------------------  ------------------  --------------  -------------------------  --------  -----------------\n",
       "    1        0.0100004                   0.97916            3.04917     3.04917            1                0.987853   1                           0.987853            0.0304928       0.0304928                  204.917   204.917\n",
       "    2        0.0200008                   0.964334           3.03262     3.04089            0.994574         0.971763   0.997287                    0.979808            0.0303274       0.0608202                  203.262   204.089\n",
       "    3        0.0300012                   0.951155           3.02789     3.03656            0.993023         0.957686   0.995866                    0.972434            0.0302801       0.0911003                  202.789   203.656\n",
       "    4        0.0400016                   0.938849           3.01371     3.03085            0.988372         0.945113   0.993992                    0.965604            0.0301383       0.121239                   201.371   203.085\n",
       "    5        0.0500019                   0.925739           3.00898     3.02648            0.986822         0.932329   0.992558                    0.958949            0.030091        0.15133                    200.898   202.648\n",
       "    6        0.100004                    0.858326           2.93807     2.98227            0.963566         0.892647   0.978062                    0.925798            0.146909        0.298239                   193.807   198.227\n",
       "    7        0.150006                    0.781946           2.76647     2.91034            0.907287         0.821117   0.95447                     0.890904            0.138329        0.436568                   176.647   191.034\n",
       "    8        0.2                         0.694449           2.49598     2.80676            0.818577         0.739083   0.920501                    0.852954            0.124784        0.561352                   149.598   180.676\n",
       "    9        0.300004                    0.495994           1.98787     2.53379            0.651938         0.596098   0.830978                    0.767333            0.198794        0.760147                   98.7868   153.379\n",
       "    10       0.4                         0.317121           1.1992      2.20015            0.393286         0.402688   0.721559                    0.676175            0.119915        0.880061                   19.9196   120.015\n",
       "    11       0.500004                    0.193415           0.618815    1.88388            0.202946         0.250888   0.617833                    0.591115            0.0618839       0.941945                   -38.1185  88.3876\n",
       "    12       0.6                         0.11425            0.311559    1.62183            0.102178         0.150785   0.531894                    0.51773             0.0311547       0.9731                     -68.8441  62.1834\n",
       "    13       0.699996                    0.0651848          0.156962    1.41257            0.0514769        0.0877341  0.463265                    0.456304            0.0156955       0.988796                   -84.3038  41.2573\n",
       "    14       0.8                         0.035813           0.0732746   1.24515            0.024031         0.0493429  0.408359                    0.405432            0.00732774      0.996123                   -92.6725  24.5154\n",
       "    15       0.899996                    0.0175867          0.0345126   1.11064            0.0113187        0.0259063  0.364245                    0.363264            0.00345113      0.999575                   -96.5487  11.0643\n",
       "    16       1                           0.000207469        0.00425465  1                  0.00139535       0.0102882  0.327958                    0.327965            0.000425482     1                          -99.5745  0"
      ]
     },
     "metadata": {},
     "output_type": "display_data"
    },
    {
     "name": "stdout",
     "output_type": "stream",
     "text": [
      "\n",
      "\n",
      "ModelMetricsBinomial: gbm\n",
      "** Reported on cross-validation data. **\n",
      "\n",
      "MSE: 0.1132435552599738\n",
      "RMSE: 0.3365167978867828\n",
      "LogLoss: 0.35846771701394653\n",
      "Mean Per-Class Error: 0.17529963942367166\n",
      "AUC: 0.9067267101867199\n",
      "pr_auc: 0.8322801203322974\n",
      "Gini: 0.8134534203734398\n",
      "Confusion Matrix (Act/Pred) for max f1 @ threshold = 0.3845840377079885: \n"
     ]
    },
    {
     "data": {
      "text/html": [
       "<div style=\"overflow:auto\"><table style=\"width:50%\"><tr><td><b></b></td>\n",
       "<td><b>false</b></td>\n",
       "<td><b>true</b></td>\n",
       "<td><b>Error</b></td>\n",
       "<td><b>Rate</b></td></tr>\n",
       "<tr><td>false</td>\n",
       "<td>73738.0</td>\n",
       "<td>12952.0</td>\n",
       "<td>0.1494</td>\n",
       "<td> (12952.0/86690.0)</td></tr>\n",
       "<tr><td>true</td>\n",
       "<td>8642.0</td>\n",
       "<td>33663.0</td>\n",
       "<td>0.2043</td>\n",
       "<td> (8642.0/42305.0)</td></tr>\n",
       "<tr><td>Total</td>\n",
       "<td>82380.0</td>\n",
       "<td>46615.0</td>\n",
       "<td>0.1674</td>\n",
       "<td> (21594.0/128995.0)</td></tr></table></div>"
      ],
      "text/plain": [
       "       false    true    Error    Rate\n",
       "-----  -------  ------  -------  ------------------\n",
       "false  73738    12952   0.1494   (12952.0/86690.0)\n",
       "true   8642     33663   0.2043   (8642.0/42305.0)\n",
       "Total  82380    46615   0.1674   (21594.0/128995.0)"
      ]
     },
     "metadata": {},
     "output_type": "display_data"
    },
    {
     "name": "stdout",
     "output_type": "stream",
     "text": [
      "Maximum Metrics: Maximum metrics at their respective thresholds\n",
      "\n"
     ]
    },
    {
     "data": {
      "text/html": [
       "<div style=\"overflow:auto\"><table style=\"width:50%\"><tr><td><b>metric</b></td>\n",
       "<td><b>threshold</b></td>\n",
       "<td><b>value</b></td>\n",
       "<td><b>idx</b></td></tr>\n",
       "<tr><td>max f1</td>\n",
       "<td>0.3845840</td>\n",
       "<td>0.7571525</td>\n",
       "<td>219.0</td></tr>\n",
       "<tr><td>max f2</td>\n",
       "<td>0.1777311</td>\n",
       "<td>0.8271314</td>\n",
       "<td>299.0</td></tr>\n",
       "<tr><td>max f0point5</td>\n",
       "<td>0.6152357</td>\n",
       "<td>0.7783275</td>\n",
       "<td>139.0</td></tr>\n",
       "<tr><td>max accuracy</td>\n",
       "<td>0.5030738</td>\n",
       "<td>0.8399860</td>\n",
       "<td>177.0</td></tr>\n",
       "<tr><td>max precision</td>\n",
       "<td>0.9966918</td>\n",
       "<td>1.0</td>\n",
       "<td>0.0</td></tr>\n",
       "<tr><td>max recall</td>\n",
       "<td>0.0064076</td>\n",
       "<td>1.0</td>\n",
       "<td>396.0</td></tr>\n",
       "<tr><td>max specificity</td>\n",
       "<td>0.9966918</td>\n",
       "<td>1.0</td>\n",
       "<td>0.0</td></tr>\n",
       "<tr><td>max absolute_mcc</td>\n",
       "<td>0.4342852</td>\n",
       "<td>0.6324447</td>\n",
       "<td>202.0</td></tr>\n",
       "<tr><td>max min_per_class_accuracy</td>\n",
       "<td>0.3396247</td>\n",
       "<td>0.8237744</td>\n",
       "<td>235.0</td></tr>\n",
       "<tr><td>max mean_per_class_accuracy</td>\n",
       "<td>0.3117353</td>\n",
       "<td>0.8247004</td>\n",
       "<td>246.0</td></tr></table></div>"
      ],
      "text/plain": [
       "metric                       threshold    value     idx\n",
       "---------------------------  -----------  --------  -----\n",
       "max f1                       0.384584     0.757152  219\n",
       "max f2                       0.177731     0.827131  299\n",
       "max f0point5                 0.615236     0.778328  139\n",
       "max accuracy                 0.503074     0.839986  177\n",
       "max precision                0.996692     1         0\n",
       "max recall                   0.00640758   1         396\n",
       "max specificity              0.996692     1         0\n",
       "max absolute_mcc             0.434285     0.632445  202\n",
       "max min_per_class_accuracy   0.339625     0.823774  235\n",
       "max mean_per_class_accuracy  0.311735     0.8247    246"
      ]
     },
     "metadata": {},
     "output_type": "display_data"
    },
    {
     "name": "stdout",
     "output_type": "stream",
     "text": [
      "Gains/Lift Table: Avg response rate: 32.80 %, avg score: 32.71 %\n",
      "\n"
     ]
    },
    {
     "data": {
      "text/html": [
       "<div style=\"overflow:auto\"><table style=\"width:50%\"><tr><td><b></b></td>\n",
       "<td><b>group</b></td>\n",
       "<td><b>cumulative_data_fraction</b></td>\n",
       "<td><b>lower_threshold</b></td>\n",
       "<td><b>lift</b></td>\n",
       "<td><b>cumulative_lift</b></td>\n",
       "<td><b>response_rate</b></td>\n",
       "<td><b>score</b></td>\n",
       "<td><b>cumulative_response_rate</b></td>\n",
       "<td><b>cumulative_score</b></td>\n",
       "<td><b>capture_rate</b></td>\n",
       "<td><b>cumulative_capture_rate</b></td>\n",
       "<td><b>gain</b></td>\n",
       "<td><b>cumulative_gain</b></td></tr>\n",
       "<tr><td></td>\n",
       "<td>1</td>\n",
       "<td>0.0100004</td>\n",
       "<td>0.9780796</td>\n",
       "<td>3.0326209</td>\n",
       "<td>3.0326209</td>\n",
       "<td>0.9945736</td>\n",
       "<td>0.9874746</td>\n",
       "<td>0.9945736</td>\n",
       "<td>0.9874746</td>\n",
       "<td>0.0303274</td>\n",
       "<td>0.0303274</td>\n",
       "<td>203.2620899</td>\n",
       "<td>203.2620899</td></tr>\n",
       "<tr><td></td>\n",
       "<td>2</td>\n",
       "<td>0.0200008</td>\n",
       "<td>0.9631470</td>\n",
       "<td>3.0042566</td>\n",
       "<td>3.0184387</td>\n",
       "<td>0.9852713</td>\n",
       "<td>0.9704528</td>\n",
       "<td>0.9899225</td>\n",
       "<td>0.9789637</td>\n",
       "<td>0.0300437</td>\n",
       "<td>0.0603711</td>\n",
       "<td>200.4256557</td>\n",
       "<td>201.8438728</td></tr>\n",
       "<tr><td></td>\n",
       "<td>3</td>\n",
       "<td>0.0300012</td>\n",
       "<td>0.9493703</td>\n",
       "<td>2.9711648</td>\n",
       "<td>3.0026808</td>\n",
       "<td>0.9744186</td>\n",
       "<td>0.9560684</td>\n",
       "<td>0.9847545</td>\n",
       "<td>0.9713319</td>\n",
       "<td>0.0297128</td>\n",
       "<td>0.0900839</td>\n",
       "<td>197.1164825</td>\n",
       "<td>200.2680760</td></tr>\n",
       "<tr><td></td>\n",
       "<td>4</td>\n",
       "<td>0.0400016</td>\n",
       "<td>0.9358641</td>\n",
       "<td>2.9286183</td>\n",
       "<td>2.9841651</td>\n",
       "<td>0.9604651</td>\n",
       "<td>0.9426741</td>\n",
       "<td>0.9786822</td>\n",
       "<td>0.9641675</td>\n",
       "<td>0.0292873</td>\n",
       "<td>0.1193712</td>\n",
       "<td>192.8618312</td>\n",
       "<td>198.4165148</td></tr>\n",
       "<tr><td></td>\n",
       "<td>5</td>\n",
       "<td>0.0500019</td>\n",
       "<td>0.9226544</td>\n",
       "<td>2.9049814</td>\n",
       "<td>2.9683284</td>\n",
       "<td>0.9527132</td>\n",
       "<td>0.9292162</td>\n",
       "<td>0.9734884</td>\n",
       "<td>0.9571772</td>\n",
       "<td>0.0290509</td>\n",
       "<td>0.1484222</td>\n",
       "<td>190.4981360</td>\n",
       "<td>196.8328390</td></tr>\n",
       "<tr><td></td>\n",
       "<td>6</td>\n",
       "<td>0.1000039</td>\n",
       "<td>0.8507648</td>\n",
       "<td>2.7631596</td>\n",
       "<td>2.8657440</td>\n",
       "<td>0.9062016</td>\n",
       "<td>0.8873982</td>\n",
       "<td>0.9398450</td>\n",
       "<td>0.9222877</td>\n",
       "<td>0.1381633</td>\n",
       "<td>0.2865855</td>\n",
       "<td>176.3159650</td>\n",
       "<td>186.5744020</td></tr>\n",
       "<tr><td></td>\n",
       "<td>7</td>\n",
       "<td>0.1500058</td>\n",
       "<td>0.7728005</td>\n",
       "<td>2.5702821</td>\n",
       "<td>2.7672567</td>\n",
       "<td>0.8429457</td>\n",
       "<td>0.8130175</td>\n",
       "<td>0.9075452</td>\n",
       "<td>0.8858643</td>\n",
       "<td>0.1285191</td>\n",
       "<td>0.4151046</td>\n",
       "<td>157.0282124</td>\n",
       "<td>176.7256722</td></tr>\n",
       "<tr><td></td>\n",
       "<td>8</td>\n",
       "<td>0.2</td>\n",
       "<td>0.6842959</td>\n",
       "<td>2.2912486</td>\n",
       "<td>2.6482685</td>\n",
       "<td>0.7514343</td>\n",
       "<td>0.7295456</td>\n",
       "<td>0.8685220</td>\n",
       "<td>0.8467892</td>\n",
       "<td>0.1145491</td>\n",
       "<td>0.5296537</td>\n",
       "<td>129.1248588</td>\n",
       "<td>164.8268526</td></tr>\n",
       "<tr><td></td>\n",
       "<td>9</td>\n",
       "<td>0.3000039</td>\n",
       "<td>0.4923882</td>\n",
       "<td>1.8335183</td>\n",
       "<td>2.3766781</td>\n",
       "<td>0.6013178</td>\n",
       "<td>0.5882358</td>\n",
       "<td>0.7794517</td>\n",
       "<td>0.7606025</td>\n",
       "<td>0.1833589</td>\n",
       "<td>0.7130126</td>\n",
       "<td>83.3518341</td>\n",
       "<td>137.6678113</td></tr>\n",
       "<tr><td></td>\n",
       "<td>10</td>\n",
       "<td>0.4</td>\n",
       "<td>0.3212663</td>\n",
       "<td>1.2315807</td>\n",
       "<td>2.0904148</td>\n",
       "<td>0.4039073</td>\n",
       "<td>0.4032662</td>\n",
       "<td>0.6855692</td>\n",
       "<td>0.6712719</td>\n",
       "<td>0.1231533</td>\n",
       "<td>0.8361659</td>\n",
       "<td>23.1580653</td>\n",
       "<td>109.0414845</td></tr>\n",
       "<tr><td></td>\n",
       "<td>11</td>\n",
       "<td>0.5000039</td>\n",
       "<td>0.1973725</td>\n",
       "<td>0.7615826</td>\n",
       "<td>1.8246402</td>\n",
       "<td>0.2497674</td>\n",
       "<td>0.2553227</td>\n",
       "<td>0.5984062</td>\n",
       "<td>0.5880795</td>\n",
       "<td>0.0761612</td>\n",
       "<td>0.9123271</td>\n",
       "<td>-23.8417417</td>\n",
       "<td>82.4640151</td></tr>\n",
       "<tr><td></td>\n",
       "<td>12</td>\n",
       "<td>0.6</td>\n",
       "<td>0.1165715</td>\n",
       "<td>0.4519736</td>\n",
       "<td>1.5958713</td>\n",
       "<td>0.1482285</td>\n",
       "<td>0.1539411</td>\n",
       "<td>0.5233795</td>\n",
       "<td>0.5157259</td>\n",
       "<td>0.0451956</td>\n",
       "<td>0.9575228</td>\n",
       "<td>-54.8026447</td>\n",
       "<td>59.5871252</td></tr>\n",
       "<tr><td></td>\n",
       "<td>13</td>\n",
       "<td>0.6999961</td>\n",
       "<td>0.0671854</td>\n",
       "<td>0.2304781</td>\n",
       "<td>1.4008216</td>\n",
       "<td>0.0755873</td>\n",
       "<td>0.0897766</td>\n",
       "<td>0.4594113</td>\n",
       "<td>0.4548780</td>\n",
       "<td>0.0230469</td>\n",
       "<td>0.9805697</td>\n",
       "<td>-76.9521855</td>\n",
       "<td>40.0821575</td></tr>\n",
       "<tr><td></td>\n",
       "<td>14</td>\n",
       "<td>0.8</td>\n",
       "<td>0.0364152</td>\n",
       "<td>0.1252758</td>\n",
       "<td>1.2413722</td>\n",
       "<td>0.0410853</td>\n",
       "<td>0.0504321</td>\n",
       "<td>0.4071185</td>\n",
       "<td>0.4043203</td>\n",
       "<td>0.0125281</td>\n",
       "<td>0.9930977</td>\n",
       "<td>-87.4724156</td>\n",
       "<td>24.1372178</td></tr>\n",
       "<tr><td></td>\n",
       "<td>15</td>\n",
       "<td>0.8999961</td>\n",
       "<td>0.0177825</td>\n",
       "<td>0.0548420</td>\n",
       "<td>1.1095400</td>\n",
       "<td>0.0179859</td>\n",
       "<td>0.0264032</td>\n",
       "<td>0.3638830</td>\n",
       "<td>0.3623310</td>\n",
       "<td>0.0054840</td>\n",
       "<td>0.9985817</td>\n",
       "<td>-94.5158021</td>\n",
       "<td>10.9540032</td></tr>\n",
       "<tr><td></td>\n",
       "<td>16</td>\n",
       "<td>1.0</td>\n",
       "<td>0.0002977</td>\n",
       "<td>0.0141822</td>\n",
       "<td>1.0</td>\n",
       "<td>0.0046512</td>\n",
       "<td>0.0103881</td>\n",
       "<td>0.3279584</td>\n",
       "<td>0.3271353</td>\n",
       "<td>0.0014183</td>\n",
       "<td>1.0</td>\n",
       "<td>-98.5817829</td>\n",
       "<td>0.0</td></tr></table></div>"
      ],
      "text/plain": [
       "    group    cumulative_data_fraction    lower_threshold    lift       cumulative_lift    response_rate    score      cumulative_response_rate    cumulative_score    capture_rate    cumulative_capture_rate    gain      cumulative_gain\n",
       "--  -------  --------------------------  -----------------  ---------  -----------------  ---------------  ---------  --------------------------  ------------------  --------------  -------------------------  --------  -----------------\n",
       "    1        0.0100004                   0.97808            3.03262    3.03262            0.994574         0.987475   0.994574                    0.987475            0.0303274       0.0303274                  203.262   203.262\n",
       "    2        0.0200008                   0.963147           3.00426    3.01844            0.985271         0.970453   0.989922                    0.978964            0.0300437       0.0603711                  200.426   201.844\n",
       "    3        0.0300012                   0.94937            2.97116    3.00268            0.974419         0.956068   0.984755                    0.971332            0.0297128       0.0900839                  197.116   200.268\n",
       "    4        0.0400016                   0.935864           2.92862    2.98417            0.960465         0.942674   0.978682                    0.964167            0.0292873       0.119371                   192.862   198.417\n",
       "    5        0.0500019                   0.922654           2.90498    2.96833            0.952713         0.929216   0.973488                    0.957177            0.0290509       0.148422                   190.498   196.833\n",
       "    6        0.100004                    0.850765           2.76316    2.86574            0.906202         0.887398   0.939845                    0.922288            0.138163        0.286586                   176.316   186.574\n",
       "    7        0.150006                    0.772801           2.57028    2.76726            0.842946         0.813017   0.907545                    0.885864            0.128519        0.415105                   157.028   176.726\n",
       "    8        0.2                         0.684296           2.29125    2.64827            0.751434         0.729546   0.868522                    0.846789            0.114549        0.529654                   129.125   164.827\n",
       "    9        0.300004                    0.492388           1.83352    2.37668            0.601318         0.588236   0.779452                    0.760602            0.183359        0.713013                   83.3518   137.668\n",
       "    10       0.4                         0.321266           1.23158    2.09041            0.403907         0.403266   0.685569                    0.671272            0.123153        0.836166                   23.1581   109.041\n",
       "    11       0.500004                    0.197372           0.761583   1.82464            0.249767         0.255323   0.598406                    0.588079            0.0761612       0.912327                   -23.8417  82.464\n",
       "    12       0.6                         0.116572           0.451974   1.59587            0.148229         0.153941   0.523379                    0.515726            0.0451956       0.957523                   -54.8026  59.5871\n",
       "    13       0.699996                    0.0671854          0.230478   1.40082            0.0755873        0.0897766  0.459411                    0.454878            0.0230469       0.98057                    -76.9522  40.0822\n",
       "    14       0.8                         0.0364152          0.125276   1.24137            0.0410853        0.0504321  0.407118                    0.40432             0.0125281       0.993098                   -87.4724  24.1372\n",
       "    15       0.899996                    0.0177825          0.054842   1.10954            0.0179859        0.0264032  0.363883                    0.362331            0.00548399      0.998582                   -94.5158  10.954\n",
       "    16       1                           0.000297655        0.0141822  1                  0.00465116       0.0103881  0.327958                    0.327135            0.00141827      1                          -98.5818  0"
      ]
     },
     "metadata": {},
     "output_type": "display_data"
    },
    {
     "name": "stdout",
     "output_type": "stream",
     "text": [
      "\n",
      "Cross-Validation Metrics Summary: \n"
     ]
    },
    {
     "data": {
      "text/html": [
       "<div style=\"overflow:auto\"><table style=\"width:50%\"><tr><td><b></b></td>\n",
       "<td><b>mean</b></td>\n",
       "<td><b>sd</b></td>\n",
       "<td><b>cv_1_valid</b></td>\n",
       "<td><b>cv_2_valid</b></td>\n",
       "<td><b>cv_3_valid</b></td>\n",
       "<td><b>cv_4_valid</b></td>\n",
       "<td><b>cv_5_valid</b></td></tr>\n",
       "<tr><td>accuracy</td>\n",
       "<td>0.8334687</td>\n",
       "<td>0.0005715</td>\n",
       "<td>0.8333914</td>\n",
       "<td>0.8333462</td>\n",
       "<td>0.8329095</td>\n",
       "<td>0.8349981</td>\n",
       "<td>0.8326985</td></tr>\n",
       "<tr><td>auc</td>\n",
       "<td>0.9067576</td>\n",
       "<td>0.0005484</td>\n",
       "<td>0.9059638</td>\n",
       "<td>0.9063775</td>\n",
       "<td>0.9064513</td>\n",
       "<td>0.90822</td>\n",
       "<td>0.9067755</td></tr>\n",
       "<tr><td>err</td>\n",
       "<td>0.1665313</td>\n",
       "<td>0.0005715</td>\n",
       "<td>0.1666086</td>\n",
       "<td>0.1666538</td>\n",
       "<td>0.1670906</td>\n",
       "<td>0.1650019</td>\n",
       "<td>0.1673016</td></tr>\n",
       "<tr><td>err_count</td>\n",
       "<td>4296.4</td>\n",
       "<td>25.268953</td>\n",
       "<td>4304.0</td>\n",
       "<td>4309.0</td>\n",
       "<td>4336.0</td>\n",
       "<td>4229.0</td>\n",
       "<td>4304.0</td></tr>\n",
       "<tr><td>f0point5</td>\n",
       "<td>0.7376350</td>\n",
       "<td>0.0015593</td>\n",
       "<td>0.7405623</td>\n",
       "<td>0.7373337</td>\n",
       "<td>0.7376352</td>\n",
       "<td>0.7387921</td>\n",
       "<td>0.7338516</td></tr>\n",
       "<tr><td>f1</td>\n",
       "<td>0.7575163</td>\n",
       "<td>0.0015567</td>\n",
       "<td>0.7543098</td>\n",
       "<td>0.7577989</td>\n",
       "<td>0.7573044</td>\n",
       "<td>0.7611949</td>\n",
       "<td>0.7569735</td></tr>\n",
       "<tr><td>f2</td>\n",
       "<td>0.7785320</td>\n",
       "<td>0.0038906</td>\n",
       "<td>0.7685775</td>\n",
       "<td>0.7794325</td>\n",
       "<td>0.7780513</td>\n",
       "<td>0.7849988</td>\n",
       "<td>0.7815998</td></tr>\n",
       "<tr><td>lift_top_group</td>\n",
       "<td>3.0326896</td>\n",
       "<td>0.0109275</td>\n",
       "<td>3.0082207</td>\n",
       "<td>3.0358522</td>\n",
       "<td>3.0400655</td>\n",
       "<td>3.024925</td>\n",
       "<td>3.0543847</td></tr>\n",
       "<tr><td>logloss</td>\n",
       "<td>0.3584631</td>\n",
       "<td>0.0009239</td>\n",
       "<td>0.3598625</td>\n",
       "<td>0.3590756</td>\n",
       "<td>0.3590411</td>\n",
       "<td>0.3560468</td>\n",
       "<td>0.3582897</td></tr>\n",
       "<tr><td>max_per_class_error</td>\n",
       "<td>0.2067773</td>\n",
       "<td>0.0057167</td>\n",
       "<td>0.2216070</td>\n",
       "<td>0.2054455</td>\n",
       "<td>0.2074742</td>\n",
       "<td>0.1982871</td>\n",
       "<td>0.2010727</td></tr>\n",
       "<tr><td>mcc</td>\n",
       "<td>0.632629</td>\n",
       "<td>0.0019363</td>\n",
       "<td>0.6291418</td>\n",
       "<td>0.6327543</td>\n",
       "<td>0.6317352</td>\n",
       "<td>0.6375374</td>\n",
       "<td>0.6319764</td></tr>\n",
       "<tr><td>mean_per_class_accuracy</td>\n",
       "<td>0.8231702</td>\n",
       "<td>0.0016305</td>\n",
       "<td>0.8193493</td>\n",
       "<td>0.8234227</td>\n",
       "<td>0.8226153</td>\n",
       "<td>0.8264791</td>\n",
       "<td>0.8239849</td></tr>\n",
       "<tr><td>mean_per_class_error</td>\n",
       "<td>0.1768297</td>\n",
       "<td>0.0016305</td>\n",
       "<td>0.1806507</td>\n",
       "<td>0.1765773</td>\n",
       "<td>0.1773848</td>\n",
       "<td>0.1735209</td>\n",
       "<td>0.1760151</td></tr>\n",
       "<tr><td>mse</td>\n",
       "<td>0.1132416</td>\n",
       "<td>0.0003742</td>\n",
       "<td>0.1135586</td>\n",
       "<td>0.1136082</td>\n",
       "<td>0.1135700</td>\n",
       "<td>0.1122134</td>\n",
       "<td>0.1132577</td></tr>\n",
       "<tr><td>precision</td>\n",
       "<td>0.7249655</td>\n",
       "<td>0.0028066</td>\n",
       "<td>0.7316722</td>\n",
       "<td>0.7242935</td>\n",
       "<td>0.7250804</td>\n",
       "<td>0.7245753</td>\n",
       "<td>0.7192060</td></tr>\n",
       "<tr><td>r2</td>\n",
       "<td>0.4861991</td>\n",
       "<td>0.0016828</td>\n",
       "<td>0.4852573</td>\n",
       "<td>0.4846742</td>\n",
       "<td>0.4855000</td>\n",
       "<td>0.4909130</td>\n",
       "<td>0.4846510</td></tr>\n",
       "<tr><td>recall</td>\n",
       "<td>0.7932227</td>\n",
       "<td>0.0057167</td>\n",
       "<td>0.7783930</td>\n",
       "<td>0.7945545</td>\n",
       "<td>0.7925258</td>\n",
       "<td>0.8017129</td>\n",
       "<td>0.7989273</td></tr>\n",
       "<tr><td>rmse</td>\n",
       "<td>0.3365129</td>\n",
       "<td>0.0005568</td>\n",
       "<td>0.3369846</td>\n",
       "<td>0.3370581</td>\n",
       "<td>0.3370015</td>\n",
       "<td>0.3349827</td>\n",
       "<td>0.3365378</td></tr>\n",
       "<tr><td>specificity</td>\n",
       "<td>0.8531178</td>\n",
       "<td>0.0026950</td>\n",
       "<td>0.8603055</td>\n",
       "<td>0.8522911</td>\n",
       "<td>0.8527047</td>\n",
       "<td>0.8512454</td>\n",
       "<td>0.8490425</td></tr></table></div>"
      ],
      "text/plain": [
       "                         mean      sd           cv_1_valid    cv_2_valid    cv_3_valid    cv_4_valid    cv_5_valid\n",
       "-----------------------  --------  -----------  ------------  ------------  ------------  ------------  ------------\n",
       "accuracy                 0.833469  0.000571486  0.833391      0.833346      0.832909      0.834998      0.832698\n",
       "auc                      0.906758  0.000548391  0.905964      0.906377      0.906451      0.90822       0.906776\n",
       "err                      0.166531  0.000571486  0.166609      0.166654      0.167091      0.165002      0.167302\n",
       "err_count                4296.4    25.269       4304          4309          4336          4229          4304\n",
       "f0point5                 0.737635  0.00155926   0.740562      0.737334      0.737635      0.738792      0.733852\n",
       "f1                       0.757516  0.00155668   0.75431       0.757799      0.757304      0.761195      0.756973\n",
       "f2                       0.778532  0.00389056   0.768578      0.779433      0.778051      0.784999      0.7816\n",
       "lift_top_group           3.03269   0.0109275    3.00822       3.03585       3.04007       3.02493       3.05438\n",
       "logloss                  0.358463  0.000923908  0.359863      0.359076      0.359041      0.356047      0.35829\n",
       "max_per_class_error      0.206777  0.00571668   0.221607      0.205446      0.207474      0.198287      0.201073\n",
       "mcc                      0.632629  0.00193635   0.629142      0.632754      0.631735      0.637537      0.631976\n",
       "mean_per_class_accuracy  0.82317   0.00163046   0.819349      0.823423      0.822615      0.826479      0.823985\n",
       "mean_per_class_error     0.17683   0.00163046   0.180651      0.176577      0.177385      0.173521      0.176015\n",
       "mse                      0.113242  0.000374198  0.113559      0.113608      0.11357       0.112213      0.113258\n",
       "precision                0.724966  0.00280657   0.731672      0.724294      0.72508       0.724575      0.719206\n",
       "r2                       0.486199  0.00168281   0.485257      0.484674      0.4855        0.490913      0.484651\n",
       "recall                   0.793223  0.00571668   0.778393      0.794555      0.792526      0.801713      0.798927\n",
       "rmse                     0.336513  0.000556848  0.336985      0.337058      0.337002      0.334983      0.336538\n",
       "specificity              0.853118  0.00269504   0.860306      0.852291      0.852705      0.851245      0.849043"
      ]
     },
     "metadata": {},
     "output_type": "display_data"
    },
    {
     "name": "stdout",
     "output_type": "stream",
     "text": [
      "Scoring History: \n"
     ]
    },
    {
     "data": {
      "text/html": [
       "<div style=\"overflow:auto\"><table style=\"width:50%\"><tr><td><b></b></td>\n",
       "<td><b>timestamp</b></td>\n",
       "<td><b>duration</b></td>\n",
       "<td><b>number_of_trees</b></td>\n",
       "<td><b>training_rmse</b></td>\n",
       "<td><b>training_logloss</b></td>\n",
       "<td><b>training_auc</b></td>\n",
       "<td><b>training_pr_auc</b></td>\n",
       "<td><b>training_lift</b></td>\n",
       "<td><b>training_classification_error</b></td></tr>\n",
       "<tr><td></td>\n",
       "<td>2019-02-09 10:56:34</td>\n",
       "<td> 8 min  1.487 sec</td>\n",
       "<td>0.0</td>\n",
       "<td>0.4694696</td>\n",
       "<td>0.6327234</td>\n",
       "<td>0.5</td>\n",
       "<td>0.0</td>\n",
       "<td>1.0</td>\n",
       "<td>0.6720416</td></tr>\n",
       "<tr><td></td>\n",
       "<td>2019-02-09 10:56:35</td>\n",
       "<td> 8 min  2.529 sec</td>\n",
       "<td>5.0</td>\n",
       "<td>0.4264256</td>\n",
       "<td>0.5452959</td>\n",
       "<td>0.8247671</td>\n",
       "<td>0.6780903</td>\n",
       "<td>2.7473158</td>\n",
       "<td>0.2563665</td></tr>\n",
       "<tr><td></td>\n",
       "<td>2019-02-09 10:56:36</td>\n",
       "<td> 8 min  3.368 sec</td>\n",
       "<td>10.0</td>\n",
       "<td>0.4053610</td>\n",
       "<td>0.5025732</td>\n",
       "<td>0.8363584</td>\n",
       "<td>0.7046534</td>\n",
       "<td>2.8131631</td>\n",
       "<td>0.2461646</td></tr>\n",
       "<tr><td></td>\n",
       "<td>2019-02-09 10:56:37</td>\n",
       "<td> 8 min  4.135 sec</td>\n",
       "<td>15.0</td>\n",
       "<td>0.3926571</td>\n",
       "<td>0.4760237</td>\n",
       "<td>0.8470919</td>\n",
       "<td>0.7253727</td>\n",
       "<td>2.8695259</td>\n",
       "<td>0.2339315</td></tr>\n",
       "<tr><td></td>\n",
       "<td>2019-02-09 10:56:38</td>\n",
       "<td> 8 min  4.953 sec</td>\n",
       "<td>20.0</td>\n",
       "<td>0.3844393</td>\n",
       "<td>0.4586160</td>\n",
       "<td>0.8547083</td>\n",
       "<td>0.7417552</td>\n",
       "<td>2.9380731</td>\n",
       "<td>0.2255049</td></tr>\n",
       "<tr><td>---</td>\n",
       "<td>---</td>\n",
       "<td>---</td>\n",
       "<td>---</td>\n",
       "<td>---</td>\n",
       "<td>---</td>\n",
       "<td>---</td>\n",
       "<td>---</td>\n",
       "<td>---</td>\n",
       "<td>---</td></tr>\n",
       "<tr><td></td>\n",
       "<td>2019-02-09 10:57:48</td>\n",
       "<td> 9 min 15.489 sec</td>\n",
       "<td>480.0</td>\n",
       "<td>0.3095112</td>\n",
       "<td>0.3125483</td>\n",
       "<td>0.9340137</td>\n",
       "<td>0.8828378</td>\n",
       "<td>3.0491668</td>\n",
       "<td>0.1361913</td></tr>\n",
       "<tr><td></td>\n",
       "<td>2019-02-09 10:57:49</td>\n",
       "<td> 9 min 16.236 sec</td>\n",
       "<td>485.0</td>\n",
       "<td>0.3091792</td>\n",
       "<td>0.3119995</td>\n",
       "<td>0.9343129</td>\n",
       "<td>0.8828928</td>\n",
       "<td>3.0491668</td>\n",
       "<td>0.1351448</td></tr>\n",
       "<tr><td></td>\n",
       "<td>2019-02-09 10:57:50</td>\n",
       "<td> 9 min 16.973 sec</td>\n",
       "<td>490.0</td>\n",
       "<td>0.3087654</td>\n",
       "<td>0.3112792</td>\n",
       "<td>0.9346624</td>\n",
       "<td>0.8837744</td>\n",
       "<td>3.0491668</td>\n",
       "<td>0.1338501</td></tr>\n",
       "<tr><td></td>\n",
       "<td>2019-02-09 10:57:50</td>\n",
       "<td> 9 min 17.713 sec</td>\n",
       "<td>495.0</td>\n",
       "<td>0.3083997</td>\n",
       "<td>0.3106716</td>\n",
       "<td>0.9349607</td>\n",
       "<td>0.8845994</td>\n",
       "<td>3.0491668</td>\n",
       "<td>0.1335168</td></tr>\n",
       "<tr><td></td>\n",
       "<td>2019-02-09 10:57:51</td>\n",
       "<td> 9 min 18.587 sec</td>\n",
       "<td>500.0</td>\n",
       "<td>0.3080114</td>\n",
       "<td>0.3099939</td>\n",
       "<td>0.9352959</td>\n",
       "<td>0.8846289</td>\n",
       "<td>3.0491668</td>\n",
       "<td>0.1340362</td></tr></table></div>"
      ],
      "text/plain": [
       "     timestamp            duration          number_of_trees    training_rmse        training_logloss     training_auc        training_pr_auc     training_lift       training_classification_error\n",
       "---  -------------------  ----------------  -----------------  -------------------  -------------------  ------------------  ------------------  ------------------  -------------------------------\n",
       "     2019-02-09 10:56:34  8 min  1.487 sec  0.0                0.4694695990009344   0.6327234037321247   0.5                 0.0                 1.0                 0.6720415519981394\n",
       "     2019-02-09 10:56:35  8 min  2.529 sec  5.0                0.4264256379511034   0.5452958739612597   0.824767095357174   0.6780903334199476  2.747315762883849   0.25636652583433467\n",
       "     2019-02-09 10:56:36  8 min  3.368 sec  10.0               0.40536100149115534  0.5025732170274282   0.8363583831791088  0.7046534269237099  2.8131631455635273  0.24616458002248148\n",
       "     2019-02-09 10:56:37  8 min  4.135 sec  15.0               0.39265714145080294  0.4760237326572715   0.8470918553938913  0.7253726567013717  2.8695259324818205  0.2339315477344083\n",
       "     2019-02-09 10:56:38  8 min  4.953 sec  20.0               0.384439270428423    0.4586159820915332   0.8547082509996912  0.7417552078354691  2.938073092318701   0.22550486452963292\n",
       "---  ---                  ---               ---                ---                  ---                  ---                 ---                 ---                 ---\n",
       "     2019-02-09 10:57:48  9 min 15.489 sec  480.0              0.30951117408469686  0.3125482544752296   0.9340137167801417  0.8828377574542406  3.049166765157783   0.13619132524516453\n",
       "     2019-02-09 10:57:49  9 min 16.236 sec  485.0              0.3091791705247032   0.3119994903257338   0.9343128880955005  0.8828927578685051  3.049166765157783   0.13514477305321912\n",
       "     2019-02-09 10:57:50  9 min 16.973 sec  490.0              0.30876540333727753  0.31127922469690755  0.9346624101962457  0.8837744081514471  3.049166765157783   0.13385014923059033\n",
       "     2019-02-09 10:57:50  9 min 17.713 sec  495.0              0.3083996929818109   0.31067160073387917  0.9349607111450775  0.8845993733713512  3.049166765157783   0.13351680297685956\n",
       "     2019-02-09 10:57:51  9 min 18.587 sec  500.0              0.30801138801828815  0.3099939298214721   0.9352958985109001  0.884628850178733   3.049166765157783   0.13403620295360286"
      ]
     },
     "metadata": {},
     "output_type": "display_data"
    },
    {
     "name": "stdout",
     "output_type": "stream",
     "text": [
      "\n",
      "See the whole table with table.as_data_frame()\n",
      "Variable Importances: \n"
     ]
    },
    {
     "data": {
      "text/html": [
       "<div style=\"overflow:auto\"><table style=\"width:50%\"><tr><td><b>variable</b></td>\n",
       "<td><b>relative_importance</b></td>\n",
       "<td><b>scaled_importance</b></td>\n",
       "<td><b>percentage</b></td></tr>\n",
       "<tr><td>occ_occupancy_trailing_90_ds</td>\n",
       "<td>18916.9316406</td>\n",
       "<td>1.0</td>\n",
       "<td>0.2330934</td></tr>\n",
       "<tr><td>listing_m_listing_views_2_6_ds_night_decay</td>\n",
       "<td>14071.3095703</td>\n",
       "<td>0.7438474</td>\n",
       "<td>0.1733859</td></tr>\n",
       "<tr><td>m_effective_daily_price</td>\n",
       "<td>9547.7128906</td>\n",
       "<td>0.5047178</td>\n",
       "<td>0.1176464</td></tr>\n",
       "<tr><td>m_available_listings_ds_night</td>\n",
       "<td>4812.9409180</td>\n",
       "<td>0.2544250</td>\n",
       "<td>0.0593048</td></tr>\n",
       "<tr><td>days_since_last_booking</td>\n",
       "<td>4555.4282227</td>\n",
       "<td>0.2408122</td>\n",
       "<td>0.0561317</td></tr>\n",
       "<tr><td>---</td>\n",
       "<td>---</td>\n",
       "<td>---</td>\n",
       "<td>---</td></tr>\n",
       "<tr><td>m_reviews</td>\n",
       "<td>147.3777008</td>\n",
       "<td>0.0077908</td>\n",
       "<td>0.0018160</td></tr>\n",
       "<tr><td>cancel_policy</td>\n",
       "<td>141.9416656</td>\n",
       "<td>0.0075034</td>\n",
       "<td>0.0017490</td></tr>\n",
       "<tr><td>general_market_m_is_booked_0_6_ds_night</td>\n",
       "<td>117.6454086</td>\n",
       "<td>0.0062191</td>\n",
       "<td>0.0014496</td></tr>\n",
       "<tr><td>ds</td>\n",
       "<td>89.5945511</td>\n",
       "<td>0.0047362</td>\n",
       "<td>0.0011040</td></tr>\n",
       "<tr><td>dim_market</td>\n",
       "<td>21.4978409</td>\n",
       "<td>0.0011364</td>\n",
       "<td>0.0002649</td></tr></table></div>"
      ],
      "text/plain": [
       "variable                                    relative_importance    scaled_importance      percentage\n",
       "------------------------------------------  ---------------------  ---------------------  ---------------------\n",
       "occ_occupancy_trailing_90_ds                18916.931640625        1.0                    0.23309339418922992\n",
       "listing_m_listing_views_2_6_ds_night_decay  14071.3095703125       0.7438473552493947     0.1733859047937633\n",
       "m_effective_daily_price                     9547.712890625         0.5047178407158187     0.11764639460030929\n",
       "m_available_listings_ds_night               4812.94091796875       0.2544250309406803     0.05930479402866302\n",
       "days_since_last_booking                     4555.42822265625       0.24081221570168673    0.05613173672013513\n",
       "---                                         ---                    ---                    ---\n",
       "m_reviews                                   147.37770080566406     0.007790782543674447   0.0018159799464952792\n",
       "cancel_policy                               141.94166564941406     0.007503419071652596   0.0017489974194357042\n",
       "general_market_m_is_booked_0_6_ds_night     117.6454086303711      0.006219053431356809   0.0014496202729591355\n",
       "ds                                          89.59455108642578      0.004736209486215897   0.0011039791447332923\n",
       "dim_market                                  21.497840881347656     0.0011364338196993868  0.0002648952163051614"
      ]
     },
     "metadata": {},
     "output_type": "display_data"
    },
    {
     "name": "stdout",
     "output_type": "stream",
     "text": [
      "\n",
      "See the whole table with table.as_data_frame()\n"
     ]
    },
    {
     "data": {
      "text/plain": []
     },
     "execution_count": 21,
     "metadata": {},
     "output_type": "execute_result"
    }
   ],
   "source": [
    "gbm_baseline"
   ]
  },
  {
   "cell_type": "markdown",
   "metadata": {},
   "source": [
    "```\n",
    "#max absolute_mcc .7038113 MCC is our metric for now onwards. \n",
    "#Confusion Matrix (Act/Pred) Absolute values \n",
    "\n",
    "       false        true  \n",
    "#false  76601.0     10089.0 \n",
    "#true   7201.0      35104.0 \n",
    "````\n",
    "Focusing on bringing up TP first we easy to understand features. With our base model, for 35,000 TP, we are missing on 10,089 counts and the model is mis-counting 7201 as True bookings - MCC value is 0.7038. Model resuls on the test set is  the same.(below)\n"
   ]
  },
  {
   "cell_type": "markdown",
   "metadata": {},
   "source": [
    "```\n",
    "ModelMetricsBinomial: gbm\n",
    "** Reported on test data. **\n",
    "\n",
    "MSE: 0.11501490155810737\n",
    "RMSE: 0.339138469593332\n",
    "LogLoss: 0.36287464989218143\n",
    "Mean Per-Class Error: 0.1766299710658492\n",
    "AUC: 0.9051766735707953\n",
    "pr_auc: 0.8266543623561153\n",
    "Gini: 0.8103533471415907\n",
    "Confusion Matrix (Act/Pred) for max f1 @ threshold = 0.38169599144289085:\n",
    "       false    true    Error    Rate\n",
    "-----  -------  ------  -------  ----------------\n",
    "false  15631    2879    0.1555   (2879.0/18510.0)\n",
    "true   1829     7302    0.2003   (1829.0/9131.0)\n",
    "Total  17460    10181   0.1703   (4708.0/27641.0)\n",
    "Maximum Metrics: Maximum metrics at their respective thresholds\n",
    "\n",
    "metric                       threshold    value     idx\n",
    "---------------------------  -----------  --------  -----\n",
    "max f1                       0.381696     0.756214  218\n",
    "max f2                       0.171408     0.830243  298\n",
    "max f0point5                 0.573478     0.772972  152\n",
    "max accuracy                 0.492428     0.838428  180\n",
    "max precision                0.99674      1         0\n",
    "max recall                   0.00822544   1         394\n",
    "max specificity              0.99674      1         0\n",
    "max absolute_mcc             0.435678     0.630773  200\n",
    "max min_per_class_accuracy   0.346315     0.822801  230\n",
    "max mean_per_class_accuracy  0.35347      0.82337   228\n",
    "Gains/Lift Table: Avg response rate: 33.03 %, avg score: 32.81 %\n",
    "```\n",
    "   "
   ]
  },
  {
   "cell_type": "code",
   "execution_count": 23,
   "metadata": {},
   "outputs": [
    {
     "data": {
      "image/png": "[encoded data removed]",
      "text/plain": [
       "<Figure size 432x288 with 1 Axes>"
      ]
     },
     "metadata": {
      "needs_background": "light"
     },
     "output_type": "display_data"
    }
   ],
   "source": [
    "#df_all = data.as_data_frame(use_pandas=True, header=True)\n",
    "#df_all.head\n",
    "gbm_baseline.plot() #overfitting"
   ]
  },
  {
   "cell_type": "markdown",
   "metadata": {},
   "source": [
    "### Feature (Engineer)ing\n"
   ]
  },
  {
   "cell_type": "code",
   "execution_count": 26,
   "metadata": {},
   "outputs": [
    {
     "name": "stdout",
     "output_type": "stream",
     "text": [
      "Parse progress: |█████████████████████████████████████████████████████████| 100%\n"
     ]
    },
    {
     "data": {
      "text/html": [
       "<table>\n",
       "<thead>\n",
       "<tr><th style=\"text-align: right;\">   ds_night</th><th style=\"text-align: right;\">  Counts</th></tr>\n",
       "</thead>\n",
       "<tbody>\n",
       "<tr><td style=\"text-align: right;\">1.42007e+12</td><td style=\"text-align: right;\">     515</td></tr>\n",
       "<tr><td style=\"text-align: right;\">1.42016e+12</td><td style=\"text-align: right;\">     575</td></tr>\n",
       "<tr><td style=\"text-align: right;\">1.42024e+12</td><td style=\"text-align: right;\">     612</td></tr>\n",
       "<tr><td style=\"text-align: right;\">1.42033e+12</td><td style=\"text-align: right;\">     612</td></tr>\n",
       "<tr><td style=\"text-align: right;\">1.42042e+12</td><td style=\"text-align: right;\">     646</td></tr>\n",
       "<tr><td style=\"text-align: right;\">1.4205e+12 </td><td style=\"text-align: right;\">     615</td></tr>\n",
       "<tr><td style=\"text-align: right;\">1.42059e+12</td><td style=\"text-align: right;\">     614</td></tr>\n",
       "<tr><td style=\"text-align: right;\">1.42068e+12</td><td style=\"text-align: right;\">     645</td></tr>\n",
       "<tr><td style=\"text-align: right;\">1.42076e+12</td><td style=\"text-align: right;\">     645</td></tr>\n",
       "<tr><td style=\"text-align: right;\">1.42085e+12</td><td style=\"text-align: right;\">     619</td></tr>\n",
       "</tbody>\n",
       "</table>"
      ]
     },
     "metadata": {},
     "output_type": "display_data"
    },
    {
     "data": {
      "text/plain": []
     },
     "execution_count": 26,
     "metadata": {},
     "output_type": "execute_result"
    }
   ],
   "source": [
    "h2o.remove_all\n",
    "data_path = \"https://s3.amazonaws.com/challengeprivate/TH_data_challenge.tsv\"\n",
    "#data = pd.read_csv(data_path ,delimiter='\\t',encoding='utf-8')\n",
    "data = h2o.import_file(data_path, destination_frame = \"airbnb_challenge_raw\")\n",
    "\n",
    "data[\"ds_night\"].table()\n"
   ]
  },
  {
   "cell_type": "code",
   "execution_count": 27,
   "metadata": {},
   "outputs": [
    {
     "data": {
      "text/html": [
       "<table>\n",
       "<thead>\n",
       "<tr><th>dim_market   </th><th style=\"text-align: right;\">  nrow</th></tr>\n",
       "</thead>\n",
       "<tbody>\n",
       "<tr><td>Los Angeles  </td><td style=\"text-align: right;\"> 52698</td></tr>\n",
       "<tr><td>Paris        </td><td style=\"text-align: right;\">113704</td></tr>\n",
       "<tr><td>San Francisco</td><td style=\"text-align: right;\"> 17877</td></tr>\n",
       "</tbody>\n",
       "</table>"
      ]
     },
     "metadata": {},
     "output_type": "display_data"
    },
    {
     "data": {
      "text/plain": []
     },
     "execution_count": 27,
     "metadata": {},
     "output_type": "execute_result"
    }
   ],
   "source": [
    "# Find number of dim_requested by market\n",
    "dim_requested = data.group_by(\"dim_market\")\n",
    "dim_requested.count()\n",
    "dim_requested.get_frame()"
   ]
  },
  {
   "cell_type": "code",
   "execution_count": null,
   "metadata": {},
   "outputs": [],
   "source": [
    "# Find number of dim_requested per month based on the market\n",
    "cols = [\"dim_market\",\"month\"]\n",
    "dim_requested_by_ds_month = data.group_by(by=cols).count(na =\"all\")\n",
    "dim_requested_by_ds_month.get_frame()\n"
   ]
  },
  {
   "cell_type": "code",
   "execution_count": null,
   "metadata": {},
   "outputs": [],
   "source": [
    "# build year, month, day. Use month as factor. drop year. Use day.\n",
    "\n",
    "def timedatemap(ts):\n",
    "    loc_day = pd.to_datetime([int(ts)], unit=\"s\")[0]\n",
    "\n",
    "    year = int(str(loc_day).split(\" \")[0].split(\"-\")[0])\n",
    "    month = int(str(loc_day).split(\" \")[0].split(\"-\")[1])\n",
    "    day = int(str(loc_day).split(\" \")[0].split(\"-\")[2])\n",
    "    return(pd.DataFrame([{\"year\": year, \"month\":month, \"day\":day}]))\n",
    "    #return year, month, day\n",
    "\n",
    "\n",
    "    \n",
    "dd = pd.DataFrame()\n",
    "for loc in time_df[\"ds_conv\"]:\n",
    "    dd = dd.append(timedatemap(loc), ignore_index=True)\n",
    "dd.describe\n",
    "\n",
    "\n",
    "data.cbind(data_mx)\n",
    "\n",
    "#ata['newcol1', 'newcol2','newcol3'] = h2o.H2OFrame(dd, column_names=['newcol1', 'newcol2','newcol3'])\n",
    "data_mx = h2o.H2OFrame(dd)\n",
    "data.cbind(data_mx)\n",
    "print(data_mx.shape)\n",
    "print(data.shape)\n",
    "h2o.export_file( data, path= 'data_ymd_c0.csv')\n",
    "\n",
    "\n",
    "###########################################################################\n",
    "\n",
    "# Some basic information about the training/vali/test data                #\n",
    "\n",
    "###########################################################################\n",
    "\n",
    "print('# shapet', data.shape)\n",
    "print(\"# column list\", data.columns)\n",
    "print(\"# column list\", data.sample(10))\n",
    "print(\"# info() \" ,data.info())\n",
    "print(\"# Statistical Summary\", data.datadescribe().transpose())\n",
    "print(\"# Target class distribution\", data.groupby('Survived').size())\n",
    "print(\"# check for missing values\", data.isnull().any())\n",
    "print(\"# count the number of NaN values in each column\", data.isnull().sum())\n",
    "\n",
    "\n"
   ]
  },
  {
   "cell_type": "code",
   "execution_count": 33,
   "metadata": {},
   "outputs": [
    {
     "name": "stdout",
     "output_type": "stream",
     "text": [
      "Parse progress: |█████████████████████████████████████████████████████████| 100%\n"
     ]
    },
    {
     "data": {
      "text/html": [
       "<table>\n",
       "<thead>\n",
       "<tr><th>dim_is_requested  </th><th style=\"text-align: right;\">   ds_night</th><th style=\"text-align: right;\">         ds</th><th>id_listing_anon                     </th><th>id_user_anon                        </th><th style=\"text-align: right;\">  m_effective_daily_price</th><th style=\"text-align: right;\">  m_pricing_cleaning_fee</th><th>dim_market  </th><th style=\"text-align: right;\">  dim_lat</th><th style=\"text-align: right;\">  dim_lng</th><th>dim_room_type  </th><th style=\"text-align: right;\">  dim_person_capacity</th><th>dim_is_instant_bookable  </th><th style=\"text-align: right;\">  m_checkouts</th><th style=\"text-align: right;\">  m_reviews</th><th style=\"text-align: right;\">  days_since_last_booking</th><th style=\"text-align: right;\">  cancel_policy</th><th style=\"text-align: right;\">  image_quality_score</th><th style=\"text-align: right;\">  m_total_overall_rating</th><th style=\"text-align: right;\">  m_professional_pictures</th><th style=\"text-align: right;\">  dim_has_wireless_internet</th><th style=\"text-align: right;\">  ds_night_day_of_week</th><th style=\"text-align: right;\">  ds_night_day_of_year</th><th style=\"text-align: right;\">  ds_checkin_gap</th><th style=\"text-align: right;\">  ds_checkout_gap</th><th style=\"text-align: right;\">  occ_occupancy_plus_minus_7_ds_night</th><th style=\"text-align: right;\">  occ_occupancy_plus_minus_14_ds_night</th><th style=\"text-align: right;\">  occ_occupancy_trailing_90_ds</th><th style=\"text-align: right;\">  m_minimum_nights</th><th style=\"text-align: right;\">  m_maximum_nights</th><th style=\"text-align: right;\">  price_booked_most_recent</th><th>p2_p3_click_through_score  </th><th>p3_inquiry_score  </th><th style=\"text-align: right;\">  listing_m_listing_views_2_6_ds_night_decay</th><th style=\"text-align: right;\">  general_market_m_unique_searchers_0_6_ds_night</th><th style=\"text-align: right;\">  general_market_m_contacts_0_6_ds_night</th><th style=\"text-align: right;\">  general_market_m_reservation_requests_0_6_ds_night</th><th style=\"text-align: right;\">  general_market_m_is_booked_0_6_ds_night</th><th style=\"text-align: right;\">  m_available_listings_ds_night</th><th style=\"text-align: right;\">  kdt_score</th><th style=\"text-align: right;\">  r_kdt_listing_views_0_6_avg_n100</th><th style=\"text-align: right;\">  r_kdt_n_active_n100</th><th style=\"text-align: right;\">  r_kdt_n_available_n100</th><th style=\"text-align: right;\">  r_kdt_m_effective_daily_price_n100_p50</th><th style=\"text-align: right;\">  r_kdt_m_effective_daily_price_available_n100_p50</th><th style=\"text-align: right;\">  r_kdt_m_effective_daily_price_booked_n100_p50</th></tr>\n",
       "</thead>\n",
       "<tbody>\n",
       "<tr><td>false             </td><td style=\"text-align: right;\">1.4205e+12 </td><td style=\"text-align: right;\">1.41791e+12</td><td>0AE0C7CC-A8A4-425F-9CCC-8B25DBB94F4D</td><td>DCC74708-D5C4-47B2-BC0C-97BF5ABFCD99</td><td style=\"text-align: right;\">                  110    </td><td style=\"text-align: right;\">                      60</td><td>Los Angeles </td><td style=\"text-align: right;\">  34.0539</td><td style=\"text-align: right;\"> -118.363</td><td>Private room   </td><td style=\"text-align: right;\">                    2</td><td>false                    </td><td style=\"text-align: right;\">           24</td><td style=\"text-align: right;\">         19</td><td style=\"text-align: right;\">                      320</td><td style=\"text-align: right;\">              4</td><td style=\"text-align: right;\">             0.830959</td><td style=\"text-align: right;\">                      74</td><td style=\"text-align: right;\">                       16</td><td style=\"text-align: right;\">                          1</td><td style=\"text-align: right;\">                     2</td><td style=\"text-align: right;\">                     6</td><td style=\"text-align: right;\">               0</td><td style=\"text-align: right;\">                7</td><td style=\"text-align: right;\">                                  nan</td><td style=\"text-align: right;\">                           nan        </td><td style=\"text-align: right;\">                     0        </td><td style=\"text-align: right;\">                 5</td><td style=\"text-align: right;\">                90</td><td style=\"text-align: right;\">                        92</td><td>NULL                       </td><td>NULL              </td><td style=\"text-align: right;\">                                   0.133333 </td><td style=\"text-align: right;\">                                         788.143</td><td style=\"text-align: right;\">                                 241.429</td><td style=\"text-align: right;\">                                             41.4286</td><td style=\"text-align: right;\">                                        1</td><td style=\"text-align: right;\">                           9840</td><td style=\"text-align: right;\">   1.31429 </td><td style=\"text-align: right;\">                          1.79592 </td><td style=\"text-align: right;\">                   57</td><td style=\"text-align: right;\">                      48</td><td style=\"text-align: right;\">                                      79</td><td style=\"text-align: right;\">                                              75  </td><td style=\"text-align: right;\">                                           98  </td></tr>\n",
       "<tr><td>true              </td><td style=\"text-align: right;\">1.4218e+12 </td><td style=\"text-align: right;\">1.41921e+12</td><td>82FDDA07-6993-4CCA-8EE4-FC218D2C07C7</td><td>559D8981-0C75-4631-9582-A3B644BB5631</td><td style=\"text-align: right;\">                   70    </td><td style=\"text-align: right;\">                       0</td><td>Los Angeles </td><td style=\"text-align: right;\">  34.1086</td><td style=\"text-align: right;\"> -118.209</td><td>Private room   </td><td style=\"text-align: right;\">                    2</td><td>true                     </td><td style=\"text-align: right;\">          105</td><td style=\"text-align: right;\">         55</td><td style=\"text-align: right;\">                        3</td><td style=\"text-align: right;\">              3</td><td style=\"text-align: right;\">             0.967384</td><td style=\"text-align: right;\">                     263</td><td style=\"text-align: right;\">                        0</td><td style=\"text-align: right;\">                          1</td><td style=\"text-align: right;\">                     3</td><td style=\"text-align: right;\">                    21</td><td style=\"text-align: right;\">               7</td><td style=\"text-align: right;\">                7</td><td style=\"text-align: right;\">                                  nan</td><td style=\"text-align: right;\">                           nan        </td><td style=\"text-align: right;\">                     0.359551 </td><td style=\"text-align: right;\">                 1</td><td style=\"text-align: right;\">              1125</td><td style=\"text-align: right;\">                        70</td><td>NULL                       </td><td>NULL              </td><td style=\"text-align: right;\">                                   0.0666667</td><td style=\"text-align: right;\">                                         830.143</td><td style=\"text-align: right;\">                                 298    </td><td style=\"text-align: right;\">                                             51.7143</td><td style=\"text-align: right;\">                                        1</td><td style=\"text-align: right;\">                           9599</td><td style=\"text-align: right;\">   0.535714</td><td style=\"text-align: right;\">                          2.69388 </td><td style=\"text-align: right;\">                   49</td><td style=\"text-align: right;\">                      36</td><td style=\"text-align: right;\">                                      65</td><td style=\"text-align: right;\">                                              65  </td><td style=\"text-align: right;\">                                           42  </td></tr>\n",
       "<tr><td>false             </td><td style=\"text-align: right;\">1.42188e+12</td><td style=\"text-align: right;\">1.41929e+12</td><td>69B2069D-CF8F-49A7-B559-9619DBE86A7D</td><td>EE7901A6-79D5-4D69-BACF-E4BCA976A66A</td><td style=\"text-align: right;\">                  125    </td><td style=\"text-align: right;\">                       0</td><td>Los Angeles </td><td style=\"text-align: right;\">  34.0772</td><td style=\"text-align: right;\"> -118.206</td><td>Private room   </td><td style=\"text-align: right;\">                    1</td><td>false                    </td><td style=\"text-align: right;\">            0</td><td style=\"text-align: right;\">          0</td><td style=\"text-align: right;\">                      nan</td><td style=\"text-align: right;\">              3</td><td style=\"text-align: right;\">             0.485231</td><td style=\"text-align: right;\">                       0</td><td style=\"text-align: right;\">                        0</td><td style=\"text-align: right;\">                          1</td><td style=\"text-align: right;\">                     4</td><td style=\"text-align: right;\">                    22</td><td style=\"text-align: right;\">               7</td><td style=\"text-align: right;\">                7</td><td style=\"text-align: right;\">                                  nan</td><td style=\"text-align: right;\">                           nan        </td><td style=\"text-align: right;\">                     0        </td><td style=\"text-align: right;\">                 1</td><td style=\"text-align: right;\">              1125</td><td style=\"text-align: right;\">                       nan</td><td>NULL                       </td><td>NULL              </td><td style=\"text-align: right;\">                                   0        </td><td style=\"text-align: right;\">                                         810.143</td><td style=\"text-align: right;\">                                 281    </td><td style=\"text-align: right;\">                                             51.7143</td><td style=\"text-align: right;\">                                        1</td><td style=\"text-align: right;\">                           9514</td><td style=\"text-align: right;\">   0.714286</td><td style=\"text-align: right;\">                          2.77551 </td><td style=\"text-align: right;\">                   49</td><td style=\"text-align: right;\">                      35</td><td style=\"text-align: right;\">                                      65</td><td style=\"text-align: right;\">                                              66.5</td><td style=\"text-align: right;\">                                           46  </td></tr>\n",
       "<tr><td>true              </td><td style=\"text-align: right;\">1.42284e+12</td><td style=\"text-align: right;\">1.42024e+12</td><td>66BAADE6-9352-4D7C-B590-745899BD12B3</td><td>AF691F3D-525E-497C-B9C5-8750B097B04D</td><td style=\"text-align: right;\">                  126.867</td><td style=\"text-align: right;\">                     125</td><td>Los Angeles </td><td style=\"text-align: right;\">  34.0935</td><td style=\"text-align: right;\"> -118.247</td><td>Entire home/apt</td><td style=\"text-align: right;\">                    6</td><td>false                    </td><td style=\"text-align: right;\">            0</td><td style=\"text-align: right;\">          0</td><td style=\"text-align: right;\">                      nan</td><td style=\"text-align: right;\">              5</td><td style=\"text-align: right;\">             0.30931 </td><td style=\"text-align: right;\">                       0</td><td style=\"text-align: right;\">                        0</td><td style=\"text-align: right;\">                          1</td><td style=\"text-align: right;\">                     1</td><td style=\"text-align: right;\">                    33</td><td style=\"text-align: right;\">               7</td><td style=\"text-align: right;\">                7</td><td style=\"text-align: right;\">                                    0</td><td style=\"text-align: right;\">                             0        </td><td style=\"text-align: right;\">                     0        </td><td style=\"text-align: right;\">                 3</td><td style=\"text-align: right;\">              1125</td><td style=\"text-align: right;\">                       nan</td><td>NULL                       </td><td>NULL              </td><td style=\"text-align: right;\">                                   0.733333 </td><td style=\"text-align: right;\">                                         816.857</td><td style=\"text-align: right;\">                                 274.429</td><td style=\"text-align: right;\">                                             41.8571</td><td style=\"text-align: right;\">                                        1</td><td style=\"text-align: right;\">                           9739</td><td style=\"text-align: right;\">   1.74468 </td><td style=\"text-align: right;\">                          4.57653 </td><td style=\"text-align: right;\">                  113</td><td style=\"text-align: right;\">                      52</td><td style=\"text-align: right;\">                                     120</td><td style=\"text-align: right;\">                                             115  </td><td style=\"text-align: right;\">                                          115  </td></tr>\n",
       "<tr><td>true              </td><td style=\"text-align: right;\">1.42379e+12</td><td style=\"text-align: right;\">1.42119e+12</td><td>01E3589E-A50A-494B-8CB2-9645B29476D0</td><td>6733A1D9-D485-4EA7-B8D2-883EE8A363B9</td><td style=\"text-align: right;\">                  210.714</td><td style=\"text-align: right;\">                     200</td><td>Los Angeles </td><td style=\"text-align: right;\">  34.0975</td><td style=\"text-align: right;\"> -118.364</td><td>Entire home/apt</td><td style=\"text-align: right;\">                    5</td><td>false                    </td><td style=\"text-align: right;\">            9</td><td style=\"text-align: right;\">          1</td><td style=\"text-align: right;\">                       34</td><td style=\"text-align: right;\">              5</td><td style=\"text-align: right;\">             0.335816</td><td style=\"text-align: right;\">                       5</td><td style=\"text-align: right;\">                        0</td><td style=\"text-align: right;\">                          1</td><td style=\"text-align: right;\">                     5</td><td style=\"text-align: right;\">                    44</td><td style=\"text-align: right;\">               7</td><td style=\"text-align: right;\">                7</td><td style=\"text-align: right;\">                                    0</td><td style=\"text-align: right;\">                             0        </td><td style=\"text-align: right;\">                     0.133333 </td><td style=\"text-align: right;\">                 2</td><td style=\"text-align: right;\">              1125</td><td style=\"text-align: right;\">                       296</td><td>NULL                       </td><td>NULL              </td><td style=\"text-align: right;\">                                   1        </td><td style=\"text-align: right;\">                                        1347.43 </td><td style=\"text-align: right;\">                                 419.429</td><td style=\"text-align: right;\">                                             78.8571</td><td style=\"text-align: right;\">                                        1</td><td style=\"text-align: right;\">                           9114</td><td style=\"text-align: right;\">   1.2     </td><td style=\"text-align: right;\">                          4.87755 </td><td style=\"text-align: right;\">                   97</td><td style=\"text-align: right;\">                      57</td><td style=\"text-align: right;\">                                     150</td><td style=\"text-align: right;\">                                             157.5</td><td style=\"text-align: right;\">                                          164.5</td></tr>\n",
       "<tr><td>false             </td><td style=\"text-align: right;\">1.42465e+12</td><td style=\"text-align: right;\">1.42206e+12</td><td>B6222B7A-4D2D-4770-9B2F-9C2E711D953F</td><td>F61E18D6-5A67-43EC-9553-8BE04DD02B54</td><td style=\"text-align: right;\">                   36    </td><td style=\"text-align: right;\">                      35</td><td>Los Angeles </td><td style=\"text-align: right;\">  33.9901</td><td style=\"text-align: right;\"> -117.91 </td><td>Private room   </td><td style=\"text-align: right;\">                    3</td><td>false                    </td><td style=\"text-align: right;\">            6</td><td style=\"text-align: right;\">          2</td><td style=\"text-align: right;\">                       33</td><td style=\"text-align: right;\">              5</td><td style=\"text-align: right;\">             0.727793</td><td style=\"text-align: right;\">                       5</td><td style=\"text-align: right;\">                        0</td><td style=\"text-align: right;\">                          1</td><td style=\"text-align: right;\">                     1</td><td style=\"text-align: right;\">                    54</td><td style=\"text-align: right;\">               7</td><td style=\"text-align: right;\">                7</td><td style=\"text-align: right;\">                                    0</td><td style=\"text-align: right;\">                             0        </td><td style=\"text-align: right;\">                     0.457447 </td><td style=\"text-align: right;\">                 1</td><td style=\"text-align: right;\">              1125</td><td style=\"text-align: right;\">                        36</td><td>NULL                       </td><td>NULL              </td><td style=\"text-align: right;\">                                   0.0666667</td><td style=\"text-align: right;\">                                        1103.57 </td><td style=\"text-align: right;\">                                 384.571</td><td style=\"text-align: right;\">                                             58.8571</td><td style=\"text-align: right;\">                                        1</td><td style=\"text-align: right;\">                           9093</td><td style=\"text-align: right;\">   0.666667</td><td style=\"text-align: right;\">                          1.30612 </td><td style=\"text-align: right;\">                   84</td><td style=\"text-align: right;\">                      71</td><td style=\"text-align: right;\">                                      60</td><td style=\"text-align: right;\">                                              60  </td><td style=\"text-align: right;\">                                           40  </td></tr>\n",
       "<tr><td>false             </td><td style=\"text-align: right;\">1.42534e+12</td><td style=\"text-align: right;\">1.42275e+12</td><td>63974898-6E06-4CA9-B6A1-D315D28E64AA</td><td>4D33F8F6-A185-4866-8233-6DEE13D699E7</td><td style=\"text-align: right;\">                  109    </td><td style=\"text-align: right;\">                       0</td><td>Los Angeles </td><td style=\"text-align: right;\">  34.0685</td><td style=\"text-align: right;\"> -118.347</td><td>Private room   </td><td style=\"text-align: right;\">                    2</td><td>false                    </td><td style=\"text-align: right;\">            0</td><td style=\"text-align: right;\">          0</td><td style=\"text-align: right;\">                      nan</td><td style=\"text-align: right;\">              3</td><td style=\"text-align: right;\">             0.069733</td><td style=\"text-align: right;\">                       0</td><td style=\"text-align: right;\">                        0</td><td style=\"text-align: right;\">                          0</td><td style=\"text-align: right;\">                     2</td><td style=\"text-align: right;\">                    62</td><td style=\"text-align: right;\">               7</td><td style=\"text-align: right;\">                7</td><td style=\"text-align: right;\">                                    0</td><td style=\"text-align: right;\">                             0        </td><td style=\"text-align: right;\">                     0        </td><td style=\"text-align: right;\">                 1</td><td style=\"text-align: right;\">              1125</td><td style=\"text-align: right;\">                       nan</td><td>NULL                       </td><td>NULL              </td><td style=\"text-align: right;\">                                   0        </td><td style=\"text-align: right;\">                                         935.143</td><td style=\"text-align: right;\">                                 259.571</td><td style=\"text-align: right;\">                                             36.2857</td><td style=\"text-align: right;\">                                        1</td><td style=\"text-align: right;\">                           9706</td><td style=\"text-align: right;\">   0.5     </td><td style=\"text-align: right;\">                          0.367347</td><td style=\"text-align: right;\">                   29</td><td style=\"text-align: right;\">                      21</td><td style=\"text-align: right;\">                                      89</td><td style=\"text-align: right;\">                                              93.5</td><td style=\"text-align: right;\">                                           65  </td></tr>\n",
       "<tr><td>true              </td><td style=\"text-align: right;\">1.42534e+12</td><td style=\"text-align: right;\">1.42275e+12</td><td>E073FC50-8B2A-485F-8DAA-E66D0E936424</td><td>5EAAD1FA-DEBF-46DE-92AB-32C6A1DCB074</td><td style=\"text-align: right;\">                  340    </td><td style=\"text-align: right;\">                     150</td><td>Los Angeles </td><td style=\"text-align: right;\">  34.1065</td><td style=\"text-align: right;\"> -118.301</td><td>Entire home/apt</td><td style=\"text-align: right;\">                    8</td><td>false                    </td><td style=\"text-align: right;\">           19</td><td style=\"text-align: right;\">          8</td><td style=\"text-align: right;\">                        5</td><td style=\"text-align: right;\">              5</td><td style=\"text-align: right;\">             0.85905 </td><td style=\"text-align: right;\">                      34</td><td style=\"text-align: right;\">                        0</td><td style=\"text-align: right;\">                          1</td><td style=\"text-align: right;\">                     2</td><td style=\"text-align: right;\">                    62</td><td style=\"text-align: right;\">               7</td><td style=\"text-align: right;\">                7</td><td style=\"text-align: right;\">                                    0</td><td style=\"text-align: right;\">                             0.0833333</td><td style=\"text-align: right;\">                     0.225352 </td><td style=\"text-align: right;\">                 1</td><td style=\"text-align: right;\">               365</td><td style=\"text-align: right;\">                       389</td><td>NULL                       </td><td>NULL              </td><td style=\"text-align: right;\">                                   1.06667  </td><td style=\"text-align: right;\">                                         935.143</td><td style=\"text-align: right;\">                                 259.571</td><td style=\"text-align: right;\">                                             36.2857</td><td style=\"text-align: right;\">                                        1</td><td style=\"text-align: right;\">                           9706</td><td style=\"text-align: right;\">   0.724138</td><td style=\"text-align: right;\">                          0.897959</td><td style=\"text-align: right;\">                   23</td><td style=\"text-align: right;\">                      15</td><td style=\"text-align: right;\">                                     128</td><td style=\"text-align: right;\">                                             117.5</td><td style=\"text-align: right;\">                                           70  </td></tr>\n",
       "<tr><td>false             </td><td style=\"text-align: right;\">1.42595e+12</td><td style=\"text-align: right;\">1.42335e+12</td><td>FA43F4DB-19EA-4945-B05B-D2D41C495863</td><td>78A46A22-C320-46F3-8810-34812A662896</td><td style=\"text-align: right;\">                   29    </td><td style=\"text-align: right;\">                       0</td><td>Los Angeles </td><td style=\"text-align: right;\">  34.2151</td><td style=\"text-align: right;\"> -118.535</td><td>Shared room    </td><td style=\"text-align: right;\">                    6</td><td>false                    </td><td style=\"text-align: right;\">           23</td><td style=\"text-align: right;\">          6</td><td style=\"text-align: right;\">                        1</td><td style=\"text-align: right;\">              3</td><td style=\"text-align: right;\">             0.409632</td><td style=\"text-align: right;\">                      20</td><td style=\"text-align: right;\">                        0</td><td style=\"text-align: right;\">                          1</td><td style=\"text-align: right;\">                     2</td><td style=\"text-align: right;\">                    69</td><td style=\"text-align: right;\">               7</td><td style=\"text-align: right;\">                7</td><td style=\"text-align: right;\">                                    0</td><td style=\"text-align: right;\">                             0        </td><td style=\"text-align: right;\">                     0.41     </td><td style=\"text-align: right;\">                 1</td><td style=\"text-align: right;\">              1125</td><td style=\"text-align: right;\">                        29</td><td>NULL                       </td><td>NULL              </td><td style=\"text-align: right;\">                                   0.4      </td><td style=\"text-align: right;\">                                        1083.86 </td><td style=\"text-align: right;\">                                 274.714</td><td style=\"text-align: right;\">                                             44.4286</td><td style=\"text-align: right;\">                                        1</td><td style=\"text-align: right;\">                           9647</td><td style=\"text-align: right;\">   0.814815</td><td style=\"text-align: right;\">                          1.7551  </td><td style=\"text-align: right;\">                   20</td><td style=\"text-align: right;\">                      18</td><td style=\"text-align: right;\">                                      35</td><td style=\"text-align: right;\">                                              35  </td><td style=\"text-align: right;\">                                           29  </td></tr>\n",
       "<tr><td>false             </td><td style=\"text-align: right;\">1.42603e+12</td><td style=\"text-align: right;\">1.42344e+12</td><td>83114506-2EEB-4F1C-87D9-36CC26355AC7</td><td>D5CCFF5C-2846-4CFD-BD0D-EB11E6D2E9CE</td><td style=\"text-align: right;\">                 1300    </td><td style=\"text-align: right;\">                     300</td><td>Los Angeles </td><td style=\"text-align: right;\">  34.104 </td><td style=\"text-align: right;\"> -118.369</td><td>Entire home/apt</td><td style=\"text-align: right;\">                   14</td><td>false                    </td><td style=\"text-align: right;\">            0</td><td style=\"text-align: right;\">          0</td><td style=\"text-align: right;\">                       91</td><td style=\"text-align: right;\">              5</td><td style=\"text-align: right;\">           nan       </td><td style=\"text-align: right;\">                       0</td><td style=\"text-align: right;\">                        0</td><td style=\"text-align: right;\">                          1</td><td style=\"text-align: right;\">                     3</td><td style=\"text-align: right;\">                    70</td><td style=\"text-align: right;\">               7</td><td style=\"text-align: right;\">                7</td><td style=\"text-align: right;\">                                    0</td><td style=\"text-align: right;\">                             0        </td><td style=\"text-align: right;\">                     0.0238095</td><td style=\"text-align: right;\">                 2</td><td style=\"text-align: right;\">                29</td><td style=\"text-align: right;\">                      1500</td><td>NULL                       </td><td>NULL              </td><td style=\"text-align: right;\">                                   0.2      </td><td style=\"text-align: right;\">                                        1104.71 </td><td style=\"text-align: right;\">                                 261.286</td><td style=\"text-align: right;\">                                             46.1429</td><td style=\"text-align: right;\">                                        1</td><td style=\"text-align: right;\">                           9556</td><td style=\"text-align: right;\">   0.692308</td><td style=\"text-align: right;\">                          3.15646 </td><td style=\"text-align: right;\">                   87</td><td style=\"text-align: right;\">                      71</td><td style=\"text-align: right;\">                                     350</td><td style=\"text-align: right;\">                                             372.5</td><td style=\"text-align: right;\">                                          124.5</td></tr>\n",
       "</tbody>\n",
       "</table>"
      ]
     },
     "metadata": {},
     "output_type": "display_data"
    },
    {
     "data": {
      "text/plain": [
       "<bound method H2OFrame.head of >"
      ]
     },
     "execution_count": 33,
     "metadata": {},
     "output_type": "execute_result"
    }
   ],
   "source": [
    "#data = h2o.import_file('data_ymd_c0.csv', destination_frame = \"airbnb_challenge_ymd\")\n"
   ]
  },
  {
   "cell_type": "markdown",
   "metadata": {},
   "source": [
    "Idealy three models each trained on one market and stack them together. Here we will try for an ensumble model that uses different features (eventually using all featues). CV = 10, keeping CV results and we'll stack all resutls. This should solve few problems at the same time. "
   ]
  },
  {
   "cell_type": "code",
   "execution_count": null,
   "metadata": {},
   "outputs": [],
   "source": [
    "from sklearn import preprocessing\n",
    "\n",
    "def normalize(df):\n",
    "    \"\"\" Standardization of numeric fields, where all values will have mean of zero \n",
    "      and standard deviation of one. (z-score)\n",
    "\n",
    "      Args:\n",
    "        dataset: A `Pandas.Dataframe` \n",
    "    \"\"\"\n",
    "    x = df.values #returns a numpy array\n",
    "    min_max_scaler = preprocessing.MinMaxScaler()\n",
    "    x_scaled = min_max_scaler.fit_transform(x)\n",
    "    df_normalize= pd.DataFrame(x_scaled)\n",
    "    #h2o_obj = h2o.H2OFrame(df_normalize)\n",
    "    return df_normalize\n",
    "\n",
    "data[\"m_reviews_new\"] = 3*data[\"m_reviews\"]\n",
    "\n",
    "tempdf = data[\"ds\"].as_data_frame()\n",
    "test_ = normalize(tempdf)\n",
    "data['newcol'] = h2o.H2OFrame(test_, column_names=[\"newcol\"])\n",
    "\n",
    "#np.log(2+110.12)\n",
    "\n",
    "###########################################################################\n",
    "\n",
    "# Drop multi collinear levels and no longer required                      #\n",
    "\n",
    "###########################################################################\n",
    "\n",
    "trainData = trainData.drop(columns=dropColumns)\n",
    "\n",
    "#dropColumns = ['x2']\n",
    "\n"
   ]
  },
  {
   "cell_type": "code",
   "execution_count": 42,
   "metadata": {},
   "outputs": [],
   "source": [
    "# Filter to relevant columns\n",
    "x1 = [ 'dim_is_requested',\n",
    "'ds', \n",
    "'id_listing_anon', \n",
    "'m_effective_daily_price',\n",
    "'m_pricing_cleaning_fee', \n",
    "'dim_market', \n",
    "#use kdt instead 'dim_lat', \n",
    "#use kdt instead 'dim_lng', \n",
    "#needs process  'dim_room_type',\n",
    "'dim_person_capacity', #num\n",
    "'dim_is_instant_bookable', #bool\n",
    "'m_checkouts',  #num\n",
    "#'m_reviews', #use m_checkouts\n",
    "'days_since_last_booking', #num\n",
    "'cancel_policy', #cat 3-9\n",
    "'image_quality_score', #num\n",
    "#'m_total_overall_rating', #use m_checkouts instead\n",
    "'m_professional_pictures', #num\n",
    "'dim_has_wireless_internet', #bool\n",
    "##'ds_night_day_of_week', #bool\n",
    "'ds_night_day_of_year', #bool\n",
    "'ds_checkin_gap', #num 0-6\n",
    "#'ds_checkout_gap', #num 0-6\n",
    "#'occ_occupancy_plus_minus_7_ds_night', #num \n",
    "'occ_occupancy_plus_minus_14_ds_night', #num \n",
    "'occ_occupancy_trailing_90_ds', #num \n",
    "'m_minimum_nights', #num \n",
    "##'m_maximum_nights', \n",
    "'price_booked_most_recent', #num \n",
    "#'p2_p3_click_through_score', #num \n",
    "'p3_inquiry_score',  #num \n",
    "'listing_m_listing_views_2_6_ds_night_decay', #num \n",
    "#'general_market_m_unique_searchers_0_6_ds_night',#num \n",
    "#'general_market_m_contacts_0_6_ds_night',# use gm_m_ds_night instead\n",
    "'general_market_m_reservation_requests_0_6_ds_night',#num \n",
    "'general_market_m_is_booked_0_6_ds_night',\n",
    "'m_available_listings_ds_night',\n",
    "'kdt_score', \n",
    "'r_kdt_listing_views_0_6_avg_n100', \n",
    "##'r_kdt_n_active_n100', \n",
    "'r_kdt_n_available_n100', \n",
    "#'r_kdt_m_effective_daily_price_n100_p50', use _n100_p50 instead\n",
    "'r_kdt_m_effective_daily_price_available_n100_p50',\n",
    "'r_kdt_m_effective_daily_price_booked_n100_p50'\n",
    "]"
   ]
  },
  {
   "cell_type": "markdown",
   "metadata": {},
   "source": [
    "### Generate a 2-model ensemble (GBM + RF)"
   ]
  },
  {
   "cell_type": "code",
   "execution_count": 47,
   "metadata": {},
   "outputs": [
    {
     "name": "stdout",
     "output_type": "stream",
     "text": [
      "Parse progress: |█████████████████████████████████████████████████████████| 100%\n",
      "Parse progress: |█████████████████████████████████████████████████████████| 100%\n",
      "Parse progress: |█████████████████████████████████████████████████████████| 100%\n"
     ]
    }
   ],
   "source": [
    "# Import a sample binary outcome train/test set into H2O\n",
    "train = h2o.import_file(\"data_train_c0.csv\")\n",
    "test = h2o.import_file(\"data_valid_c0.csv\")\n",
    "test_ = h2o.import_file(\"data_test_c0.csv\") #for the final evaluation\n",
    "\n",
    "\n",
    "\n",
    "\n",
    "# features and target\n",
    "target = \"dim_is_requested\"\n",
    "\n",
    "train[target] = train[target].asfactor()\n",
    "test[target] = test[target].asfactor()\n",
    "test_[target] = test_[target].asfactor()\n",
    "\n",
    "# features and target\n",
    "\n",
    "x = x1 #train.columns\n",
    "\n",
    "y = target\n",
    "x.remove(y)\n",
    "\n"
   ]
  },
  {
   "cell_type": "code",
   "execution_count": null,
   "metadata": {},
   "outputs": [],
   "source": [
    "## 2-model ensemble (GBM + RF)"
   ]
  },
  {
   "cell_type": "code",
   "execution_count": 48,
   "metadata": {},
   "outputs": [
    {
     "name": "stdout",
     "output_type": "stream",
     "text": [
      "gbm Model Build progress: |███████████████████████████████████████████████| 100%\n"
     ]
    }
   ],
   "source": [
    "#gbm\n",
    "\n",
    "from h2o.estimators.gbm import H2OGradientBoostingEstimator\n",
    "#  using the `categorical_encoding` parameter\n",
    "encoding = \"one_hot_explicit\"  \n",
    "\n",
    "\n",
    "\n",
    "# Number of CV folds (to generate level-one data for stacking)\n",
    "nfolds = 5\n",
    "\n",
    "\n",
    "# Train and cross-validate a GBM\n",
    "my_gbm = H2OGradientBoostingEstimator(distribution=\"bernoulli\",\n",
    "                                      ntrees=10,\n",
    "                                      max_depth=3,\n",
    "                                      min_rows=2,\n",
    "                                      learn_rate=0.2,\n",
    "                                      nfolds=nfolds,\n",
    "                                      fold_assignment=\"Modulo\",\n",
    "                                      keep_cross_validation_predictions=True,\n",
    "                                      #categorical_encoding = encoding,\n",
    "                                      seed=1234)\n",
    "my_gbm.train(x=x, y=y, training_frame=train)\n",
    "\n"
   ]
  },
  {
   "cell_type": "code",
   "execution_count": 49,
   "metadata": {},
   "outputs": [
    {
     "name": "stdout",
     "output_type": "stream",
     "text": [
      "Confusion Matrix (Act/Pred) for max f1 @ threshold = 0.32031374764843784: \n"
     ]
    },
    {
     "data": {
      "text/html": [
       "<div style=\"overflow:auto\"><table style=\"width:50%\"><tr><td><b></b></td>\n",
       "<td><b>false</b></td>\n",
       "<td><b>true</b></td>\n",
       "<td><b>Error</b></td>\n",
       "<td><b>Rate</b></td></tr>\n",
       "<tr><td>false</td>\n",
       "<td>61913.0</td>\n",
       "<td>24777.0</td>\n",
       "<td>0.2858</td>\n",
       "<td> (24777.0/86690.0)</td></tr>\n",
       "<tr><td>true</td>\n",
       "<td>9062.0</td>\n",
       "<td>33243.0</td>\n",
       "<td>0.2142</td>\n",
       "<td> (9062.0/42305.0)</td></tr>\n",
       "<tr><td>Total</td>\n",
       "<td>70975.0</td>\n",
       "<td>58020.0</td>\n",
       "<td>0.2623</td>\n",
       "<td> (33839.0/128995.0)</td></tr></table></div>"
      ],
      "text/plain": [
       "       false    true    Error    Rate\n",
       "-----  -------  ------  -------  ------------------\n",
       "false  61913    24777   0.2858   (24777.0/86690.0)\n",
       "true   9062     33243   0.2142   (9062.0/42305.0)\n",
       "Total  70975    58020   0.2623   (33839.0/128995.0)"
      ]
     },
     "metadata": {},
     "output_type": "display_data"
    },
    {
     "data": {
      "text/plain": []
     },
     "execution_count": 49,
     "metadata": {},
     "output_type": "execute_result"
    }
   ],
   "source": [
    "my_gbm.confusion_matrix()"
   ]
  },
  {
   "cell_type": "code",
   "execution_count": 50,
   "metadata": {},
   "outputs": [
    {
     "data": {
      "image/png": "[encoded data removed]",
      "text/plain": [
       "<Figure size 1008x720 with 1 Axes>"
      ]
     },
     "metadata": {
      "needs_background": "light"
     },
     "output_type": "display_data"
    }
   ],
   "source": [
    "my_gbm.varimp_plot()"
   ]
  },
  {
   "cell_type": "code",
   "execution_count": 51,
   "metadata": {},
   "outputs": [
    {
     "name": "stdout",
     "output_type": "stream",
     "text": [
      "Cross-Validation Metrics Summary: \n"
     ]
    },
    {
     "data": {
      "text/html": [
       "<div style=\"overflow:auto\"><table style=\"width:50%\"><tr><td><b></b></td>\n",
       "<td><b>mean</b></td>\n",
       "<td><b>sd</b></td>\n",
       "<td><b>cv_1_valid</b></td>\n",
       "<td><b>cv_2_valid</b></td>\n",
       "<td><b>cv_3_valid</b></td>\n",
       "<td><b>cv_4_valid</b></td>\n",
       "<td><b>cv_5_valid</b></td></tr>\n",
       "<tr><td>accuracy</td>\n",
       "<td>0.7432924</td>\n",
       "<td>0.0052723</td>\n",
       "<td>0.7417729</td>\n",
       "<td>0.7465405</td>\n",
       "<td>0.7545641</td>\n",
       "<td>0.7419667</td>\n",
       "<td>0.7316175</td></tr>\n",
       "<tr><td>auc</td>\n",
       "<td>0.8264095</td>\n",
       "<td>0.0033043</td>\n",
       "<td>0.823414</td>\n",
       "<td>0.8314934</td>\n",
       "<td>0.8315452</td>\n",
       "<td>0.8261065</td>\n",
       "<td>0.8194885</td></tr>\n",
       "<tr><td>err</td>\n",
       "<td>0.2567076</td>\n",
       "<td>0.0052723</td>\n",
       "<td>0.2582271</td>\n",
       "<td>0.2534594</td>\n",
       "<td>0.2454359</td>\n",
       "<td>0.2580332</td>\n",
       "<td>0.2683825</td></tr>\n",
       "<tr><td>err_count</td>\n",
       "<td>6622.8</td>\n",
       "<td>136.02014</td>\n",
       "<td>6662.0</td>\n",
       "<td>6539.0</td>\n",
       "<td>6332.0</td>\n",
       "<td>6657.0</td>\n",
       "<td>6924.0</td></tr>\n",
       "<tr><td>f0point5</td>\n",
       "<td>0.6121064</td>\n",
       "<td>0.0064518</td>\n",
       "<td>0.6060025</td>\n",
       "<td>0.6152468</td>\n",
       "<td>0.6276523</td>\n",
       "<td>0.6107302</td>\n",
       "<td>0.6009005</td></tr>\n",
       "<tr><td>f1</td>\n",
       "<td>0.6621107</td>\n",
       "<td>0.0042463</td>\n",
       "<td>0.6549974</td>\n",
       "<td>0.6684582</td>\n",
       "<td>0.6696922</td>\n",
       "<td>0.6607898</td>\n",
       "<td>0.6566157</td></tr>\n",
       "<tr><td>f2</td>\n",
       "<td>0.7211264</td>\n",
       "<td>0.0045282</td>\n",
       "<td>0.7126116</td>\n",
       "<td>0.7317452</td>\n",
       "<td>0.7177681</td>\n",
       "<td>0.7197886</td>\n",
       "<td>0.7237188</td></tr>\n",
       "<tr><td>lift_top_group</td>\n",
       "<td>2.7638042</td>\n",
       "<td>0.0304638</td>\n",
       "<td>2.802054</td>\n",
       "<td>2.8157191</td>\n",
       "<td>2.716399</td>\n",
       "<td>2.7737358</td>\n",
       "<td>2.7111132</td></tr>\n",
       "<tr><td>logloss</td>\n",
       "<td>0.4886153</td>\n",
       "<td>0.0024079</td>\n",
       "<td>0.4885599</td>\n",
       "<td>0.4840807</td>\n",
       "<td>0.4869058</td>\n",
       "<td>0.4890585</td>\n",
       "<td>0.4944715</td></tr>\n",
       "<tr><td>max_per_class_error</td>\n",
       "<td>0.2683931</td>\n",
       "<td>0.0100011</td>\n",
       "<td>0.2655202</td>\n",
       "<td>0.2702345</td>\n",
       "<td>0.2461539</td>\n",
       "<td>0.2694638</td>\n",
       "<td>0.2905934</td></tr>\n",
       "<tr><td>mcc</td>\n",
       "<td>0.4727555</td>\n",
       "<td>0.0072174</td>\n",
       "<td>0.4652687</td>\n",
       "<td>0.4831207</td>\n",
       "<td>0.4858853</td>\n",
       "<td>0.4700852</td>\n",
       "<td>0.4594176</td></tr>\n",
       "<tr><td>mean_per_class_accuracy</td>\n",
       "<td>0.7492973</td>\n",
       "<td>0.0034213</td>\n",
       "<td>0.7457412</td>\n",
       "<td>0.7554041</td>\n",
       "<td>0.754382</td>\n",
       "<td>0.7479404</td>\n",
       "<td>0.7430187</td></tr>\n",
       "<tr><td>mean_per_class_error</td>\n",
       "<td>0.2507027</td>\n",
       "<td>0.0034213</td>\n",
       "<td>0.2542588</td>\n",
       "<td>0.2445959</td>\n",
       "<td>0.245618</td>\n",
       "<td>0.2520596</td>\n",
       "<td>0.2569813</td></tr>\n",
       "<tr><td>mse</td>\n",
       "<td>0.1600521</td>\n",
       "<td>0.0011103</td>\n",
       "<td>0.1600546</td>\n",
       "<td>0.1580277</td>\n",
       "<td>0.1592168</td>\n",
       "<td>0.1601675</td>\n",
       "<td>0.1627941</td></tr>\n",
       "<tr><td>precision</td>\n",
       "<td>0.5827993</td>\n",
       "<td>0.0078678</td>\n",
       "<td>0.5772179</td>\n",
       "<td>0.5842418</td>\n",
       "<td>0.6024402</td>\n",
       "<td>0.5813683</td>\n",
       "<td>0.5687285</td></tr>\n",
       "<tr><td>r2</td>\n",
       "<td>0.2737967</td>\n",
       "<td>0.0047143</td>\n",
       "<td>0.2690152</td>\n",
       "<td>0.2820869</td>\n",
       "<td>0.2799449</td>\n",
       "<td>0.2737758</td>\n",
       "<td>0.2641606</td></tr>\n",
       "<tr><td>recall</td>\n",
       "<td>0.7667733</td>\n",
       "<td>0.0075193</td>\n",
       "<td>0.7570026</td>\n",
       "<td>0.7810426</td>\n",
       "<td>0.7538462</td>\n",
       "<td>0.7653447</td>\n",
       "<td>0.7766307</td></tr>\n",
       "<tr><td>rmse</td>\n",
       "<td>0.4000604</td>\n",
       "<td>0.0013856</td>\n",
       "<td>0.4000682</td>\n",
       "<td>0.397527</td>\n",
       "<td>0.3990198</td>\n",
       "<td>0.4002093</td>\n",
       "<td>0.4034776</td></tr>\n",
       "<tr><td>specificity</td>\n",
       "<td>0.7318212</td>\n",
       "<td>0.0102412</td>\n",
       "<td>0.7344798</td>\n",
       "<td>0.7297655</td>\n",
       "<td>0.7549179</td>\n",
       "<td>0.7305362</td>\n",
       "<td>0.7094067</td></tr></table></div>"
      ],
      "text/plain": [
       "                         mean      sd          cv_1_valid    cv_2_valid    cv_3_valid    cv_4_valid    cv_5_valid\n",
       "-----------------------  --------  ----------  ------------  ------------  ------------  ------------  ------------\n",
       "accuracy                 0.743292  0.0052723   0.741773      0.746541      0.754564      0.741967      0.731618\n",
       "auc                      0.82641   0.00330433  0.823414      0.831493      0.831545      0.826106      0.819488\n",
       "err                      0.256708  0.0052723   0.258227      0.253459      0.245436      0.258033      0.268383\n",
       "err_count                6622.8    136.02      6662          6539          6332          6657          6924\n",
       "f0point5                 0.612106  0.00645183  0.606002      0.615247      0.627652      0.61073       0.6009\n",
       "f1                       0.662111  0.00424627  0.654997      0.668458      0.669692      0.66079       0.656616\n",
       "f2                       0.721126  0.00452824  0.712612      0.731745      0.717768      0.719789      0.723719\n",
       "lift_top_group           2.7638    0.0304638   2.80205       2.81572       2.7164        2.77374       2.71111\n",
       "logloss                  0.488615  0.0024079   0.48856       0.484081      0.486906      0.489059      0.494472\n",
       "max_per_class_error      0.268393  0.0100011   0.26552       0.270234      0.246154      0.269464      0.290593\n",
       "mcc                      0.472756  0.00721743  0.465269      0.483121      0.485885      0.470085      0.459418\n",
       "mean_per_class_accuracy  0.749297  0.00342133  0.745741      0.755404      0.754382      0.74794       0.743019\n",
       "mean_per_class_error     0.250703  0.00342133  0.254259      0.244596      0.245618      0.25206       0.256981\n",
       "mse                      0.160052  0.00111031  0.160055      0.158028      0.159217      0.160167      0.162794\n",
       "precision                0.582799  0.00786785  0.577218      0.584242      0.60244       0.581368      0.568728\n",
       "r2                       0.273797  0.00471429  0.269015      0.282087      0.279945      0.273776      0.264161\n",
       "recall                   0.766773  0.00751931  0.757003      0.781043      0.753846      0.765345      0.776631\n",
       "rmse                     0.40006   0.00138565  0.400068      0.397527      0.39902       0.400209      0.403478\n",
       "specificity              0.731821  0.0102412   0.73448       0.729766      0.754918      0.730536      0.709407"
      ]
     },
     "metadata": {},
     "output_type": "display_data"
    },
    {
     "data": {
      "text/plain": []
     },
     "execution_count": 51,
     "metadata": {},
     "output_type": "execute_result"
    }
   ],
   "source": [
    "my_gbm.cross_validation_metrics_summary()"
   ]
  },
  {
   "cell_type": "markdown",
   "metadata": {},
   "source": [
    "### Train and cross-validate a RF"
   ]
  },
  {
   "cell_type": "code",
   "execution_count": 53,
   "metadata": {},
   "outputs": [
    {
     "name": "stdout",
     "output_type": "stream",
     "text": [
      "drf Model Build progress: |███████████████████████████████████████████████| 100%\n"
     ]
    }
   ],
   "source": [
    "\n",
    "my_rf = H2ORandomForestEstimator(ntrees=50, #from basemodel vs ntree plot recommend running for 250\n",
    "                                 nfolds=nfolds,\n",
    "                                 fold_assignment=\"Modulo\",\n",
    "                                 keep_cross_validation_predictions=True, #removed encodoing on rf -overfitting\n",
    "                                 seed=1234)\n",
    "my_rf.train(x=x, y=y, training_frame=train)\n",
    "\n",
    "\n"
   ]
  },
  {
   "cell_type": "markdown",
   "metadata": {},
   "source": [
    "### Train a stacked ensemble using the GBM and RF above\n"
   ]
  },
  {
   "cell_type": "code",
   "execution_count": null,
   "metadata": {},
   "outputs": [],
   "source": [
    "# # Specify GBM hyperparameters for the grid\n",
    "# hyper_params = {\"learn_rate\": [0.01, 0.03],\n",
    "#                 \"max_depth\": [3, 4, 5, 6, 9],\n",
    "#                 \"sample_rate\": [0.7, 0.8, 0.9, 1.0],\n",
    "#                 \"col_sample_rate\": [0.2, 0.3, 0.4, 0.5, 0.6, 0.7, 0.8]}\n",
    "# search_criteria = {\"strategy\": \"RandomDiscrete\", \"max_models\": 3, \"seed\": 1234}\n",
    "# \n",
    "# # Train the grid\n",
    "# grid = H2OGridSearch(model=H2OGradientBoostingEstimator(ntrees=10,\n",
    "#                                                         seed=1,\n",
    "#                                                         nfolds=nfolds,\n",
    "#                                                         fold_assignment=\"Modulo\",\n",
    "#                                                         keep_cross_validation_predictions=True),\n",
    "#                      hyper_params=hyper_params,\n",
    "#                      search_criteria=search_criteria,\n",
    "#                      grid_id=\"gbm_grid_binomial\")\n",
    "# grid.train(x=x, y=y, training_frame=train)"
   ]
  },
  {
   "cell_type": "markdown",
   "metadata": {},
   "source": [
    "### One line takeout:\n",
    "MCC improved from 0.49 from our basemodel to 0.71 on the final test data in our ensumble model. \n",
    "#### More:\n",
    "The training of the ensumble took significantly lower time (used 4 CPUs and at max 12GB of memory). "
   ]
  },
  {
   "cell_type": "code",
   "execution_count": 56,
   "metadata": {},
   "outputs": [
    {
     "name": "stdout",
     "output_type": "stream",
     "text": [
      "Are you sure you want to shutdown the H2O instance running at http://127.0.0.1:5151 (Y/N)? Y\n",
      "H2O session _sid_a03c closed.\n"
     ]
    }
   ],
   "source": [
    "h2o.cluster().shutdown(prompt=True)\n"
   ]
  },
  {
   "cell_type": "code",
   "execution_count": 5,
   "metadata": {},
   "outputs": [],
   "source": [
    "import keras\n",
    "from keras.layers.core import Dense\n",
    "from keras.layers.core import Dropout\n",
    "from keras.layers import Input\n",
    "from keras.models import Model\n",
    "from keras.regularizers import *\n",
    "\n",
    "\n",
    "def get_model():\n",
    "    aliases = {}\n",
    "    Input_1 = Input(shape=(82,), name='Input_1')\n",
    "    Dense_7 = Dense(name='Dense_7',output_dim= 300,activation= 'relu' )(Input_1)\n",
    "    Dropout_1 = Dropout(name='Dropout_1',p= 0.20,seed= 1)(Dense_7)\n",
    "    Dense_6 = Dense(name='Dense_6',output_dim= 2,activation= 'softmax' )(Dropout_1)\n",
    "\n",
    "    model = Model([Input_1],[Dense_6])\n",
    "    return aliases, model\n",
    "\n",
    "\n",
    "from keras.optimizers import *\n",
    "\n",
    "def get_optimizer():\n",
    "    return RMSprop()\n",
    "\n",
    "def is_custom_loss_function():\n",
    "    return False\n",
    "\n",
    "def get_loss_function():\n",
    "    return 'categorical_crossentropy'\n",
    "\n",
    "def get_batch_size():\n",
    "    return 32\n",
    "\n",
    "def get_num_epoch():\n",
    "    return 100\n",
    "\n",
    "def get_data_config():\n",
    "    return '{\"kfold\": 1, \"samples\": {\"validation\": 8, \"training\": 40, \"split\": 3, \"test\": 8}, \"datasetLoadOption\": \"batch\", \"shuffle\": false, \"numPorts\": 1, \"mapping\": {\"m_pricing_cleaning_fee\": {\"port\": \"InputPort0\", \"type\": \"Numeric\", \"options\": {\"Normalization\": false, \"Scaling\": \"0\"}, \"shape\": \"\"}, \"dim_person_capacity\": {\"port\": \"InputPort0\", \"type\": \"Categorical\", \"options\": {}, \"shape\": \"\"}, \"dim_market\": {\"port\": \"InputPort0\", \"type\": \"Categorical\", \"options\": {}, \"shape\": \"\"}, \"ds\": {\"port\": \"Ignore\", \"type\": \"Numeric\", \"options\": {\"Normalization\": false, \"Scaling\": 1}, \"shape\": \"\"}, \"dim_is_requested\": {\"port\": \"OutputPort0\", \"type\": \"Categorical\", \"options\": {}, \"shape\": \"\"}, \"id_listing_anon\": {\"port\": \"Ignore\", \"type\": \"Array\", \"options\": {\"Normalization\": false, \"Scaling\": 1}, \"shape\": \"\"}, \"m_effective_daily_price\": {\"port\": \"InputPort0\", \"type\": \"Numeric\", \"options\": {\"Normalization\": false, \"Scaling\": 1}, \"shape\": \"\"}, \"dim_lat\": {\"port\": \"InputPort0\", \"type\": \"Numeric\", \"options\": {\"Normalization\": false, \"Scaling\": 1}, \"shape\": \"\"}, \"m_reviews\": {\"port\": \"InputPort0\", \"type\": \"Numeric\", \"options\": {\"Normalization\": false, \"Scaling\": 1}, \"shape\": \"\"}, \"id_user_anon\": {\"port\": \"InputPort0\", \"type\": \"Categorical\", \"options\": {}, \"shape\": \"\"}, \"dim_room_type\": {\"port\": \"InputPort0\", \"type\": \"Categorical\", \"options\": {}, \"shape\": \"\"}, \"dim_is_instant_bookable\": {\"port\": \"InputPort0\", \"type\": \"Categorical\", \"options\": {}, \"shape\": \"\"}, \"ds_night\": {\"port\": \"Ignore\", \"type\": \"Numeric\", \"options\": {\"Normalization\": false, \"Scaling\": 1}, \"shape\": \"\"}, \"m_checkouts\": {\"port\": \"InputPort0\", \"type\": \"Numeric\", \"options\": {\"Normalization\": false, \"Scaling\": 1}, \"shape\": \"\"}, \"dim_lng\": {\"port\": \"InputPort0\", \"type\": \"Numeric\", \"options\": {\"Normalization\": false, \"Scaling\": 1}, \"shape\": \"\"}}, \"dataset\": {\"type\": \"private\", \"samples\": 58, \"name\": \"train.csv\"}}'\n",
    "    "
   ]
  },
  {
   "cell_type": "code",
   "execution_count": 9,
   "metadata": {},
   "outputs": [
    {
     "data": {
      "text/plain": [
       "'{\"kfold\": 1, \"samples\": {\"validation\": 8, \"training\": 40, \"split\": 3, \"test\": 8}, \"datasetLoadOption\": \"batch\", \"shuffle\": false, \"numPorts\": 1, \"mapping\": {\"m_pricing_cleaning_fee\": {\"port\": \"InputPort0\", \"type\": \"Numeric\", \"options\": {\"Normalization\": false, \"Scaling\": \"0\"}, \"shape\": \"\"}, \"dim_person_capacity\": {\"port\": \"InputPort0\", \"type\": \"Categorical\", \"options\": {}, \"shape\": \"\"}, \"dim_market\": {\"port\": \"InputPort0\", \"type\": \"Categorical\", \"options\": {}, \"shape\": \"\"}, \"ds\": {\"port\": \"Ignore\", \"type\": \"Numeric\", \"options\": {\"Normalization\": false, \"Scaling\": 1}, \"shape\": \"\"}, \"dim_is_requested\": {\"port\": \"OutputPort0\", \"type\": \"Categorical\", \"options\": {}, \"shape\": \"\"}, \"id_listing_anon\": {\"port\": \"Ignore\", \"type\": \"Array\", \"options\": {\"Normalization\": false, \"Scaling\": 1}, \"shape\": \"\"}, \"m_effective_daily_price\": {\"port\": \"InputPort0\", \"type\": \"Numeric\", \"options\": {\"Normalization\": false, \"Scaling\": 1}, \"shape\": \"\"}, \"dim_lat\": {\"port\": \"InputPort0\", \"type\": \"Numeric\", \"options\": {\"Normalization\": false, \"Scaling\": 1}, \"shape\": \"\"}, \"m_reviews\": {\"port\": \"InputPort0\", \"type\": \"Numeric\", \"options\": {\"Normalization\": false, \"Scaling\": 1}, \"shape\": \"\"}, \"id_user_anon\": {\"port\": \"InputPort0\", \"type\": \"Categorical\", \"options\": {}, \"shape\": \"\"}, \"dim_room_type\": {\"port\": \"InputPort0\", \"type\": \"Categorical\", \"options\": {}, \"shape\": \"\"}, \"dim_is_instant_bookable\": {\"port\": \"InputPort0\", \"type\": \"Categorical\", \"options\": {}, \"shape\": \"\"}, \"ds_night\": {\"port\": \"Ignore\", \"type\": \"Numeric\", \"options\": {\"Normalization\": false, \"Scaling\": 1}, \"shape\": \"\"}, \"m_checkouts\": {\"port\": \"InputPort0\", \"type\": \"Numeric\", \"options\": {\"Normalization\": false, \"Scaling\": 1}, \"shape\": \"\"}, \"dim_lng\": {\"port\": \"InputPort0\", \"type\": \"Numeric\", \"options\": {\"Normalization\": false, \"Scaling\": 1}, \"shape\": \"\"}}, \"dataset\": {\"type\": \"private\", \"samples\": 58, \"name\": \"train.csv\"}}'"
      ]
     },
     "execution_count": 9,
     "metadata": {},
     "output_type": "execute_result"
    }
   ],
   "source": [
    "get_data_config()\n"
   ]
  },
  {
   "cell_type": "code",
   "execution_count": 8,
   "metadata": {},
   "outputs": [
    {
     "name": "stderr",
     "output_type": "stream",
     "text": [
      "/Users/Shared/anaconda/anaconda3/lib/python3.6/site-packages/ipykernel_launcher.py:12: UserWarning: Update your `Dense` call to the Keras 2 API: `Dense(name=\"Dense_7\", activation=\"relu\", units=300)`\n",
      "  if sys.path[0] == '':\n",
      "/Users/Shared/anaconda/anaconda3/lib/python3.6/site-packages/ipykernel_launcher.py:13: UserWarning: Update your `Dropout` call to the Keras 2 API: `Dropout(name=\"Dropout_1\", seed=1, rate=0.2)`\n",
      "  del sys.path[0]\n",
      "/Users/Shared/anaconda/anaconda3/lib/python3.6/site-packages/ipykernel_launcher.py:14: UserWarning: Update your `Dense` call to the Keras 2 API: `Dense(name=\"Dense_6\", activation=\"softmax\", units=2)`\n",
      "  \n"
     ]
    },
    {
     "data": {
      "text/plain": [
       "({}, <keras.engine.training.Model at 0xb2412a668>)"
      ]
     },
     "execution_count": 8,
     "metadata": {},
     "output_type": "execute_result"
    }
   ],
   "source": [
    "get_model()"
   ]
  },
  {
   "cell_type": "code",
   "execution_count": null,
   "metadata": {},
   "outputs": [],
   "source": []
  }
 ],
 "metadata": {
  "kernelspec": {
   "display_name": "Python 3",
   "language": "python",
   "name": "python3"
  },
  "language_info": {
   "codemirror_mode": {
    "name": "ipython",
    "version": 3
   },
   "file_extension": ".py",
   "mimetype": "text/x-python",
   "name": "python",
   "nbconvert_exporter": "python",
   "pygments_lexer": "ipython3",
   "version": "3.7.4"
  }
 },
 "nbformat": 4,
 "nbformat_minor": 2
}
